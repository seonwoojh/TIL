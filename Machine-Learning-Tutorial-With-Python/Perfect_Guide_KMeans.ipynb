{
  "nbformat": 4,
  "nbformat_minor": 0,
  "metadata": {
    "colab": {
      "name": "Perfect_Guide_KMeans.ipynb",
      "provenance": [],
      "collapsed_sections": [],
      "authorship_tag": "ABX9TyPUTB+Cgpxf5rO3gVgmLPLR"
    },
    "kernelspec": {
      "name": "python3",
      "display_name": "Python 3"
    },
    "language_info": {
      "name": "python"
    }
  },
  "cells": [
    {
      "cell_type": "markdown",
      "metadata": {
        "id": "IspPqlX0s_uy"
      },
      "source": [
        "# K-Means를 이용한 붓꽃(Iris) 데이터 셋 Clustering"
      ]
    },
    {
      "cell_type": "code",
      "metadata": {
        "colab": {
          "base_uri": "https://localhost:8080/",
          "height": 142
        },
        "id": "wjOu0GIMtIcF",
        "outputId": "d2734cd2-214d-4cca-86d8-33d2997b6636"
      },
      "source": [
        "from sklearn.datasets import load_iris\n",
        "from sklearn.cluster import KMeans\n",
        "import matplotlib.pyplot as plt\n",
        "import pandas as pd\n",
        "import numpy as np\n",
        "%matplotlib inline\n",
        "\n",
        "iris = load_iris()\n",
        "\n",
        "df = pd.DataFrame(data = iris.data, columns = iris.feature_names)\n",
        "df.head(3)"
      ],
      "execution_count": 2,
      "outputs": [
        {
          "output_type": "execute_result",
          "data": {
            "text/html": [
              "<div>\n",
              "<style scoped>\n",
              "    .dataframe tbody tr th:only-of-type {\n",
              "        vertical-align: middle;\n",
              "    }\n",
              "\n",
              "    .dataframe tbody tr th {\n",
              "        vertical-align: top;\n",
              "    }\n",
              "\n",
              "    .dataframe thead th {\n",
              "        text-align: right;\n",
              "    }\n",
              "</style>\n",
              "<table border=\"1\" class=\"dataframe\">\n",
              "  <thead>\n",
              "    <tr style=\"text-align: right;\">\n",
              "      <th></th>\n",
              "      <th>sepal length (cm)</th>\n",
              "      <th>sepal width (cm)</th>\n",
              "      <th>petal length (cm)</th>\n",
              "      <th>petal width (cm)</th>\n",
              "    </tr>\n",
              "  </thead>\n",
              "  <tbody>\n",
              "    <tr>\n",
              "      <th>0</th>\n",
              "      <td>5.1</td>\n",
              "      <td>3.5</td>\n",
              "      <td>1.4</td>\n",
              "      <td>0.2</td>\n",
              "    </tr>\n",
              "    <tr>\n",
              "      <th>1</th>\n",
              "      <td>4.9</td>\n",
              "      <td>3.0</td>\n",
              "      <td>1.4</td>\n",
              "      <td>0.2</td>\n",
              "    </tr>\n",
              "    <tr>\n",
              "      <th>2</th>\n",
              "      <td>4.7</td>\n",
              "      <td>3.2</td>\n",
              "      <td>1.3</td>\n",
              "      <td>0.2</td>\n",
              "    </tr>\n",
              "  </tbody>\n",
              "</table>\n",
              "</div>"
            ],
            "text/plain": [
              "   sepal length (cm)  sepal width (cm)  petal length (cm)  petal width (cm)\n",
              "0                5.1               3.5                1.4               0.2\n",
              "1                4.9               3.0                1.4               0.2\n",
              "2                4.7               3.2                1.3               0.2"
            ]
          },
          "metadata": {
            "tags": []
          },
          "execution_count": 2
        }
      ]
    },
    {
      "cell_type": "markdown",
      "metadata": {
        "id": "RYXikLwsti3l"
      },
      "source": [
        "Kmeans 객체를 생성하고 군집화 수행"
      ]
    },
    {
      "cell_type": "code",
      "metadata": {
        "colab": {
          "base_uri": "https://localhost:8080/"
        },
        "id": "LLJzmI9I8jJ_",
        "outputId": "b7b1257b-65da-4cbb-b128-6566f4ee19a3"
      },
      "source": [
        "kmeans = KMeans(n_clusters = 3, init = 'k-means++', max_iter = 300, random_state=0)\n",
        "kmeans.fit(df)"
      ],
      "execution_count": 3,
      "outputs": [
        {
          "output_type": "execute_result",
          "data": {
            "text/plain": [
              "KMeans(algorithm='auto', copy_x=True, init='k-means++', max_iter=300,\n",
              "       n_clusters=3, n_init=10, n_jobs=None, precompute_distances='auto',\n",
              "       random_state=0, tol=0.0001, verbose=0)"
            ]
          },
          "metadata": {
            "tags": []
          },
          "execution_count": 3
        }
      ]
    },
    {
      "cell_type": "markdown",
      "metadata": {
        "id": "uGw0l1SsuNCm"
      },
      "source": [
        "**labels_ 속성을 통해 각 데이터 포인트별로 할당된 군집 중심점(Centroid)확인하고 df에 'cluster'컬럼으로 추가**"
      ]
    },
    {
      "cell_type": "code",
      "metadata": {
        "colab": {
          "base_uri": "https://localhost:8080/"
        },
        "id": "pbf0TtHP88uZ",
        "outputId": "86274125-0c22-433b-dd89-128d05de9743"
      },
      "source": [
        "print(kmeans.labels_)\n",
        "print(kmeans.predict(df))"
      ],
      "execution_count": 4,
      "outputs": [
        {
          "output_type": "stream",
          "text": [
            "[1 1 1 1 1 1 1 1 1 1 1 1 1 1 1 1 1 1 1 1 1 1 1 1 1 1 1 1 1 1 1 1 1 1 1 1 1\n",
            " 1 1 1 1 1 1 1 1 1 1 1 1 1 2 2 0 2 2 2 2 2 2 2 2 2 2 2 2 2 2 2 2 2 2 2 2 2\n",
            " 2 2 2 0 2 2 2 2 2 2 2 2 2 2 2 2 2 2 2 2 2 2 2 2 2 2 0 2 0 0 0 0 2 0 0 0 0\n",
            " 0 0 2 2 0 0 0 0 2 0 2 0 2 0 0 2 2 0 0 0 0 0 2 0 0 0 0 2 0 0 0 2 0 0 0 2 0\n",
            " 0 2]\n",
            "[1 1 1 1 1 1 1 1 1 1 1 1 1 1 1 1 1 1 1 1 1 1 1 1 1 1 1 1 1 1 1 1 1 1 1 1 1\n",
            " 1 1 1 1 1 1 1 1 1 1 1 1 1 2 2 0 2 2 2 2 2 2 2 2 2 2 2 2 2 2 2 2 2 2 2 2 2\n",
            " 2 2 2 0 2 2 2 2 2 2 2 2 2 2 2 2 2 2 2 2 2 2 2 2 2 2 0 2 0 0 0 0 2 0 0 0 0\n",
            " 0 0 2 2 0 0 0 0 2 0 2 0 2 0 0 2 2 0 0 0 0 0 2 0 0 0 0 2 0 0 0 2 0 0 0 2 0\n",
            " 0 2]\n"
          ],
          "name": "stdout"
        }
      ]
    },
    {
      "cell_type": "code",
      "metadata": {
        "id": "JBQhA7DV9HGS"
      },
      "source": [
        "df['cluster']=kmeans.labels_"
      ],
      "execution_count": 5,
      "outputs": []
    },
    {
      "cell_type": "code",
      "metadata": {
        "colab": {
          "base_uri": "https://localhost:8080/"
        },
        "id": "m-YbORVe9RKC",
        "outputId": "4ba7b9d5-579c-4cff-d283-5f87d7334544"
      },
      "source": [
        "df['target'] = iris.target\n",
        "df_result = df.groupby(['target','cluster'])['sepal length (cm)'].count()\n",
        "print(df_result)"
      ],
      "execution_count": 6,
      "outputs": [
        {
          "output_type": "stream",
          "text": [
            "target  cluster\n",
            "0       1          50\n",
            "1       0           2\n",
            "        2          48\n",
            "2       0          36\n",
            "        2          14\n",
            "Name: sepal length (cm), dtype: int64\n"
          ],
          "name": "stdout"
        }
      ]
    },
    {
      "cell_type": "code",
      "metadata": {
        "colab": {
          "base_uri": "https://localhost:8080/"
        },
        "id": "58pD-paLAY5Q",
        "outputId": "e41c5e91-fc1b-4193-d271-487c83146c81"
      },
      "source": [
        "iris.target_names"
      ],
      "execution_count": 7,
      "outputs": [
        {
          "output_type": "execute_result",
          "data": {
            "text/plain": [
              "array(['setosa', 'versicolor', 'virginica'], dtype='<U10')"
            ]
          },
          "metadata": {
            "tags": []
          },
          "execution_count": 7
        }
      ]
    },
    {
      "cell_type": "markdown",
      "metadata": {
        "id": "U39j6Co6AjeH"
      },
      "source": [
        "2차원 평면에 데이터 포인트별로 군집화된 결과를 나타내기 위해 2차원 PCA값으로 각 데이터 차원 축소"
      ]
    },
    {
      "cell_type": "code",
      "metadata": {
        "colab": {
          "base_uri": "https://localhost:8080/",
          "height": 142
        },
        "id": "sZUqg-pgAp9A",
        "outputId": "d50cc2e1-4ccb-475e-b0bf-d721d85e5063"
      },
      "source": [
        "from sklearn.decomposition import PCA\n",
        "pca = PCA(n_components=2)\n",
        "pca_transformed = pca.fit_transform(iris.data)\n",
        "\n",
        "df['pca_x'] = pca_transformed[:,0]\n",
        "df['pca_y'] = pca_transformed[:,1]\n",
        "df.head(3)"
      ],
      "execution_count": 8,
      "outputs": [
        {
          "output_type": "execute_result",
          "data": {
            "text/html": [
              "<div>\n",
              "<style scoped>\n",
              "    .dataframe tbody tr th:only-of-type {\n",
              "        vertical-align: middle;\n",
              "    }\n",
              "\n",
              "    .dataframe tbody tr th {\n",
              "        vertical-align: top;\n",
              "    }\n",
              "\n",
              "    .dataframe thead th {\n",
              "        text-align: right;\n",
              "    }\n",
              "</style>\n",
              "<table border=\"1\" class=\"dataframe\">\n",
              "  <thead>\n",
              "    <tr style=\"text-align: right;\">\n",
              "      <th></th>\n",
              "      <th>sepal length (cm)</th>\n",
              "      <th>sepal width (cm)</th>\n",
              "      <th>petal length (cm)</th>\n",
              "      <th>petal width (cm)</th>\n",
              "      <th>cluster</th>\n",
              "      <th>target</th>\n",
              "      <th>pca_x</th>\n",
              "      <th>pca_y</th>\n",
              "    </tr>\n",
              "  </thead>\n",
              "  <tbody>\n",
              "    <tr>\n",
              "      <th>0</th>\n",
              "      <td>5.1</td>\n",
              "      <td>3.5</td>\n",
              "      <td>1.4</td>\n",
              "      <td>0.2</td>\n",
              "      <td>1</td>\n",
              "      <td>0</td>\n",
              "      <td>-2.684126</td>\n",
              "      <td>0.319397</td>\n",
              "    </tr>\n",
              "    <tr>\n",
              "      <th>1</th>\n",
              "      <td>4.9</td>\n",
              "      <td>3.0</td>\n",
              "      <td>1.4</td>\n",
              "      <td>0.2</td>\n",
              "      <td>1</td>\n",
              "      <td>0</td>\n",
              "      <td>-2.714142</td>\n",
              "      <td>-0.177001</td>\n",
              "    </tr>\n",
              "    <tr>\n",
              "      <th>2</th>\n",
              "      <td>4.7</td>\n",
              "      <td>3.2</td>\n",
              "      <td>1.3</td>\n",
              "      <td>0.2</td>\n",
              "      <td>1</td>\n",
              "      <td>0</td>\n",
              "      <td>-2.888991</td>\n",
              "      <td>-0.144949</td>\n",
              "    </tr>\n",
              "  </tbody>\n",
              "</table>\n",
              "</div>"
            ],
            "text/plain": [
              "   sepal length (cm)  sepal width (cm)  ...     pca_x     pca_y\n",
              "0                5.1               3.5  ... -2.684126  0.319397\n",
              "1                4.9               3.0  ... -2.714142 -0.177001\n",
              "2                4.7               3.2  ... -2.888991 -0.144949\n",
              "\n",
              "[3 rows x 8 columns]"
            ]
          },
          "metadata": {
            "tags": []
          },
          "execution_count": 8
        }
      ]
    },
    {
      "cell_type": "code",
      "metadata": {
        "colab": {
          "base_uri": "https://localhost:8080/",
          "height": 301
        },
        "id": "2n_E4vvLA77q",
        "outputId": "857408eb-7d65-4e33-dcbd-cb8139b33d03"
      },
      "source": [
        "import seaborn as sns\n",
        "\n",
        "sns.scatterplot(data= df, x=df.loc[:, 'pca_x'], y = df.loc[:,'pca_y'], hue = 'cluster')"
      ],
      "execution_count": 9,
      "outputs": [
        {
          "output_type": "execute_result",
          "data": {
            "text/plain": [
              "<matplotlib.axes._subplots.AxesSubplot at 0x7fae53ecf4d0>"
            ]
          },
          "metadata": {
            "tags": []
          },
          "execution_count": 9
        },
        {
          "output_type": "display_data",
          "data": {
            "image/png": "[encoded data removed]",
            "text/plain": [
              "<Figure size 432x288 with 1 Axes>"
            ]
          },
          "metadata": {
            "tags": [],
            "needs_background": "light"
          }
        }
      ]
    },
    {
      "cell_type": "code",
      "metadata": {
        "colab": {
          "base_uri": "https://localhost:8080/",
          "height": 295
        },
        "id": "XDpDlV5FBvah",
        "outputId": "8a04a9e5-f39e-4a85-d1d1-04d631da0498"
      },
      "source": [
        "# cluster 값이 0, 1, 2 인 경우마다 별로의 index로 추출\n",
        "\n",
        "marker0_ind = df[df['cluster'] == 0].index\n",
        "marker1_ind = df[df['cluster'] == 1].index\n",
        "marker2_ind = df[df['cluster'] == 2].index\n",
        "\n",
        "# cluster값 0, 1, 2에 해당하는 index로 각 cluster 레벨의 pca_x, pca_y 값 추출, o, s, ^로 marker 표시\n",
        "plt.scatter(x=df.loc[marker0_ind,'pca_x'], y=df.loc[marker0_ind,'pca_y'], marker='o') \n",
        "plt.scatter(x=df.loc[marker1_ind,'pca_x'], y=df.loc[marker1_ind,'pca_y'], marker='s')\n",
        "plt.scatter(x=df.loc[marker2_ind,'pca_x'], y=df.loc[marker2_ind,'pca_y'], marker='^')\n",
        "\n",
        "plt.xlabel('PCA 1')\n",
        "plt.ylabel('PCA 2')\n",
        "plt.title('3 Clusters Visualization by 2 PCA Components')\n",
        "plt.show()"
      ],
      "execution_count": 10,
      "outputs": [
        {
          "output_type": "display_data",
          "data": {
            "image/png": "[encoded data removed]",
            "text/plain": [
              "<Figure size 432x288 with 1 Axes>"
            ]
          },
          "metadata": {
            "tags": [],
            "needs_background": "light"
          }
        }
      ]
    },
    {
      "cell_type": "markdown",
      "metadata": {
        "id": "4jLjOvawDK7R"
      },
      "source": [
        "## Clustering 알고리즘 테스트를 위한 데이터 생성"
      ]
    },
    {
      "cell_type": "code",
      "metadata": {
        "id": "rE09WrccExyC",
        "colab": {
          "base_uri": "https://localhost:8080/"
        },
        "outputId": "45d024e6-bfdf-4b1f-f783-d933704481c8"
      },
      "source": [
        "from sklearn.datasets import make_blobs\n",
        "X, y = make_blobs(n_samples = 200, n_features = 2, centers = 3, cluster_std=0.8, random_state=0)\n",
        "print(X.shape, y.shape)\n",
        "\n",
        "# y target 값의 분포를 확인\n",
        "unique, counts = np.unique(y, return_counts=True)\n",
        "print(unique, counts)"
      ],
      "execution_count": 13,
      "outputs": [
        {
          "output_type": "stream",
          "text": [
            "(200, 2) (200,)\n",
            "[0 1 2] [67 67 66]\n"
          ],
          "name": "stdout"
        }
      ]
    },
    {
      "cell_type": "code",
      "metadata": {
        "colab": {
          "base_uri": "https://localhost:8080/",
          "height": 142
        },
        "id": "S3WlQmiqWWfI",
        "outputId": "000c8bea-6d04-4198-8ed1-c9accde2e675"
      },
      "source": [
        "cluster_df = pd.DataFrame(data = X, columns=['ftr1','ftr2'])\n",
        "cluster_df['target'] = y\n",
        "cluster_df.head(3)"
      ],
      "execution_count": 16,
      "outputs": [
        {
          "output_type": "execute_result",
          "data": {
            "text/html": [
              "<div>\n",
              "<style scoped>\n",
              "    .dataframe tbody tr th:only-of-type {\n",
              "        vertical-align: middle;\n",
              "    }\n",
              "\n",
              "    .dataframe tbody tr th {\n",
              "        vertical-align: top;\n",
              "    }\n",
              "\n",
              "    .dataframe thead th {\n",
              "        text-align: right;\n",
              "    }\n",
              "</style>\n",
              "<table border=\"1\" class=\"dataframe\">\n",
              "  <thead>\n",
              "    <tr style=\"text-align: right;\">\n",
              "      <th></th>\n",
              "      <th>ftr1</th>\n",
              "      <th>ftr2</th>\n",
              "      <th>target</th>\n",
              "    </tr>\n",
              "  </thead>\n",
              "  <tbody>\n",
              "    <tr>\n",
              "      <th>0</th>\n",
              "      <td>-1.692427</td>\n",
              "      <td>3.622025</td>\n",
              "      <td>2</td>\n",
              "    </tr>\n",
              "    <tr>\n",
              "      <th>1</th>\n",
              "      <td>0.697940</td>\n",
              "      <td>4.428867</td>\n",
              "      <td>0</td>\n",
              "    </tr>\n",
              "    <tr>\n",
              "      <th>2</th>\n",
              "      <td>1.100228</td>\n",
              "      <td>4.606317</td>\n",
              "      <td>0</td>\n",
              "    </tr>\n",
              "  </tbody>\n",
              "</table>\n",
              "</div>"
            ],
            "text/plain": [
              "       ftr1      ftr2  target\n",
              "0 -1.692427  3.622025       2\n",
              "1  0.697940  4.428867       0\n",
              "2  1.100228  4.606317       0"
            ]
          },
          "metadata": {
            "tags": []
          },
          "execution_count": 16
        }
      ]
    },
    {
      "cell_type": "code",
      "metadata": {
        "colab": {
          "base_uri": "https://localhost:8080/",
          "height": 265
        },
        "id": "_fqcZEjIWyLD",
        "outputId": "4fc9ea7e-b3a8-4165-d749-bfb7da84415a"
      },
      "source": [
        "target_list = np.unique(y)\n",
        "# 각 target별 scatter plot 의 marker 값들. \n",
        "markers=['o', 's', '^', 'P','D','H','x']\n",
        "# 3개의 cluster 영역으로 구분한 데이터 셋을 생성했으므로 target_list는 [0,1,2]\n",
        "# target==0, target==1, target==2 로 scatter plot을 marker별로 생성. \n",
        "for target in target_list:\n",
        "    target_cluster = cluster_df[cluster_df['target']==target]\n",
        "    plt.scatter(x=target_cluster['ftr1'], y=target_cluster['ftr2'], edgecolor='k', marker=markers[target] )\n",
        "plt.show()"
      ],
      "execution_count": 18,
      "outputs": [
        {
          "output_type": "display_data",
          "data": {
            "image/png": "[encoded data removed]",
            "text/plain": [
              "<Figure size 432x288 with 1 Axes>"
            ]
          },
          "metadata": {
            "tags": [],
            "needs_background": "light"
          }
        }
      ]
    },
    {
      "cell_type": "code",
      "metadata": {
        "colab": {
          "base_uri": "https://localhost:8080/",
          "height": 283
        },
        "id": "R8Iob4dzW7Q5",
        "outputId": "a1105691-0ef1-41c6-91b7-dc815b8bdfad"
      },
      "source": [
        "target_list = np.unique(y)\n",
        "plt.scatter(x=cluster_df['ftr1'], y=cluster_df['ftr2'], edgecolor='k', c=y )"
      ],
      "execution_count": 19,
      "outputs": [
        {
          "output_type": "execute_result",
          "data": {
            "text/plain": [
              "<matplotlib.collections.PathCollection at 0x7fae4e56ef10>"
            ]
          },
          "metadata": {
            "tags": []
          },
          "execution_count": 19
        },
        {
          "output_type": "display_data",
          "data": {
            "image/png": "[encoded data removed]",
            "text/plain": [
              "<Figure size 432x288 with 1 Axes>"
            ]
          },
          "metadata": {
            "tags": [],
            "needs_background": "light"
          }
        }
      ]
    },
    {
      "cell_type": "markdown",
      "metadata": {
        "id": "WGZiQhnyXAHQ"
      },
      "source": [
        "K-Means 클러스터링을 수행하고 개별 클러스터의 중심 위치를 시각화"
      ]
    },
    {
      "cell_type": "code",
      "metadata": {
        "colab": {
          "base_uri": "https://localhost:8080/",
          "height": 265
        },
        "id": "3eXgKhWMXHPg",
        "outputId": "4d1f7ff1-2639-4143-cdec-835ad2ba8f92"
      },
      "source": [
        "# KMeans 객체를 이용하여 X 데이터를 K-Means 클러스터링 수행\n",
        "kmeans = KMeans(n_clusters=3, init='k-means++', max_iter=200, random_state=0)\n",
        "cluster_labels = kmeans.fit_predict(X)\n",
        "cluster_df['kmeans_label'] = cluster_labels\n",
        "\n",
        "# cluster_centers_는 개별 클러스터의 중심 위치 좌표 시각화를 위해 추출\n",
        "centers = kmeans.cluster_centers_\n",
        "unique_labels = np.unique(cluster_labels)\n",
        "markers = ['o','s','^','P','D','H','x']\n",
        "\n",
        "# 군집된 label 유형별로 iteration 하면서 marker 별로 scatter plot 수행.\n",
        "for label in unique_labels:\n",
        "  label_cluster = cluster_df[cluster_df['kmeans_label'] == label]\n",
        "  center_x_y = centers[label]\n",
        "  plt.scatter(x=label_cluster['ftr1'], y=label_cluster['ftr2'], edgecolors='k',\n",
        "              marker = markers[label])\n",
        "  \n",
        "  # 군집별 중심 위치 좌표 시각화\n",
        "  plt.scatter(x=center_x_y[0], y=center_x_y[1], s=200, color='white',\n",
        "              alpha=0.9, edgecolor='k', marker=markers[label])\n",
        "  plt.scatter(x=center_x_y[0], y=center_x_y[1], s=70, color='k', edgecolor='k', \n",
        "              marker='$%d$' % label)"
      ],
      "execution_count": 25,
      "outputs": [
        {
          "output_type": "display_data",
          "data": {
            "image/png": "[encoded data removed]",
            "text/plain": [
              "<Figure size 432x288 with 1 Axes>"
            ]
          },
          "metadata": {
            "tags": [],
            "needs_background": "light"
          }
        }
      ]
    },
    {
      "cell_type": "code",
      "metadata": {
        "colab": {
          "base_uri": "https://localhost:8080/"
        },
        "id": "w98PsFLVZeSV",
        "outputId": "6cb91186-b022-4571-8651-6f65d71911e4"
      },
      "source": [
        "centers"
      ],
      "execution_count": 26,
      "outputs": [
        {
          "output_type": "execute_result",
          "data": {
            "text/plain": [
              "array([[ 0.990103  ,  4.44666506],\n",
              "       [ 1.95763312,  0.81041752],\n",
              "       [-1.70636483,  2.92759224]])"
            ]
          },
          "metadata": {
            "tags": []
          },
          "execution_count": 26
        }
      ]
    },
    {
      "cell_type": "code",
      "metadata": {
        "colab": {
          "base_uri": "https://localhost:8080/"
        },
        "id": "HManAJUHbnj3",
        "outputId": "5002669a-75c9-4692-859e-83e189276b03"
      },
      "source": [
        "print(cluster_df.groupby('target')['kmeans_label'].value_counts())"
      ],
      "execution_count": 29,
      "outputs": [
        {
          "output_type": "stream",
          "text": [
            "target  kmeans_label\n",
            "0       0               66\n",
            "        2                1\n",
            "1       1               67\n",
            "2       2               65\n",
            "        1                1\n",
            "Name: kmeans_label, dtype: int64\n"
          ],
          "name": "stdout"
        }
      ]
    }
  ]
}