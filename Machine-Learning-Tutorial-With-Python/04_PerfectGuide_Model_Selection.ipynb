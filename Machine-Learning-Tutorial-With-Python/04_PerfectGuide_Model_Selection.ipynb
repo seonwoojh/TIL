{
  "nbformat": 4,
  "nbformat_minor": 0,
  "metadata": {
    "colab": {
      "name": "04_PerfectGuide_Model Selection.ipynb",
      "provenance": [],
      "collapsed_sections": [],
      "authorship_tag": "ABX9TyPfm+/LjT3bpUDI1LH8OpxV",
      "include_colab_link": true
    },
    "kernelspec": {
      "name": "python3",
      "display_name": "Python 3"
    }
  },
  "cells": [
    {
      "cell_type": "markdown",
      "metadata": {
        "id": "view-in-github",
        "colab_type": "text"
      },
      "source": [
        "<a href=\"https://colab.research.google.com/github/swjh9523/Perfect_Guide_Python/blob/main/04_PerfectGuide_Model_Selection.ipynb\" target=\"_parent\"><img src=\"https://colab.research.google.com/assets/colab-badge.svg\" alt=\"Open In Colab\"/></a>"
      ]
    },
    {
      "cell_type": "code",
      "metadata": {
        "id": "Djh72sbuYMqx"
      },
      "source": [
        "from sklearn.datasets import load_iris\r\n",
        "from sklearn.tree import DecisionTreeClassifier\r\n",
        "from sklearn.metrics import accuracy_score"
      ],
      "execution_count": 53,
      "outputs": []
    },
    {
      "cell_type": "code",
      "metadata": {
        "colab": {
          "base_uri": "https://localhost:8080/"
        },
        "id": "T3tz52stYuAz",
        "outputId": "007cd288-5ef1-435f-aa7c-7998b9a4f199"
      },
      "source": [
        "iris = load_iris()\r\n",
        "dt_clf = DecisionTreeClassifier()\r\n",
        "train_data = iris.data\r\n",
        "train_label = iris.target\r\n",
        "dt_clf.fit(train_data, train_label)\r\n",
        "\r\n",
        "# 학습 데이터 셋으로 예측 수행 - 예측할때는 Test 데이터를 이용해야함(예측정확도 1.0 )\r\n",
        "pred = dt_clf.predict(train_data)\r\n",
        "print(\"예측정확도 : \", accuracy_score(train_label,pred))"
      ],
      "execution_count": null,
      "outputs": [
        {
          "output_type": "stream",
          "text": [
            "예측정확도 :  1.0\n"
          ],
          "name": "stdout"
        }
      ]
    },
    {
      "cell_type": "code",
      "metadata": {
        "id": "0AeCyFCKcgfG"
      },
      "source": [
        "from sklearn.tree import DecisionTreeClassifier\r\n",
        "from sklearn.metrics import accuracy_score\r\n",
        "from sklearn.datasets import load_iris\r\n",
        "from sklearn.model_selection import train_test_split\r\n",
        "\r\n",
        "dt_clf=DecisionTreeClassifier()\r\n",
        "iris_data = load_iris()\r\n",
        "\r\n",
        "X_train, X_test,y_train, y_test = train_test_split(iris_data.data, iris_data.target,\r\n",
        "                                                   test_size=0.3, random_state=121)"
      ],
      "execution_count": null,
      "outputs": []
    },
    {
      "cell_type": "code",
      "metadata": {
        "colab": {
          "base_uri": "https://localhost:8080/"
        },
        "id": "9h5RibgCdL8T",
        "outputId": "c1c012d1-70f0-44c2-fe9d-b8d753cada43"
      },
      "source": [
        "dt_clf.fit(X_train, y_train)\r\n",
        "pred = dt_clf.predict(X_test)\r\n",
        "print(\"예측 정확도 : {0:.4f}\".format(accuracy_score(y_test, pred)))"
      ],
      "execution_count": null,
      "outputs": [
        {
          "output_type": "stream",
          "text": [
            "예측 정확도 : 0.9556\n"
          ],
          "name": "stdout"
        }
      ]
    },
    {
      "cell_type": "markdown",
      "metadata": {
        "id": "yyygKMKqe49k"
      },
      "source": [
        "넘파이 ndarray 뿐만 아니라 판다스 DataFrame/Series도 train_test_split()으로 분할 가능"
      ]
    },
    {
      "cell_type": "code",
      "metadata": {
        "colab": {
          "base_uri": "https://localhost:8080/",
          "height": 204
        },
        "id": "ZeJOcMrNe3B_",
        "outputId": "b07ed4fb-0fbd-44fc-f3b9-455dc7ae3d93"
      },
      "source": [
        "import pandas as pd\r\n",
        "\r\n",
        "iris_df = pd.DataFrame(data=iris_data.data, columns=iris_data.feature_names)\r\n",
        "iris_df['target'] = iris_data.target\r\n",
        "iris_df.head()"
      ],
      "execution_count": null,
      "outputs": [
        {
          "output_type": "execute_result",
          "data": {
            "text/html": [
              "<div>\n",
              "<style scoped>\n",
              "    .dataframe tbody tr th:only-of-type {\n",
              "        vertical-align: middle;\n",
              "    }\n",
              "\n",
              "    .dataframe tbody tr th {\n",
              "        vertical-align: top;\n",
              "    }\n",
              "\n",
              "    .dataframe thead th {\n",
              "        text-align: right;\n",
              "    }\n",
              "</style>\n",
              "<table border=\"1\" class=\"dataframe\">\n",
              "  <thead>\n",
              "    <tr style=\"text-align: right;\">\n",
              "      <th></th>\n",
              "      <th>sepal length (cm)</th>\n",
              "      <th>sepal width (cm)</th>\n",
              "      <th>petal length (cm)</th>\n",
              "      <th>petal width (cm)</th>\n",
              "      <th>target</th>\n",
              "    </tr>\n",
              "  </thead>\n",
              "  <tbody>\n",
              "    <tr>\n",
              "      <th>0</th>\n",
              "      <td>5.1</td>\n",
              "      <td>3.5</td>\n",
              "      <td>1.4</td>\n",
              "      <td>0.2</td>\n",
              "      <td>0</td>\n",
              "    </tr>\n",
              "    <tr>\n",
              "      <th>1</th>\n",
              "      <td>4.9</td>\n",
              "      <td>3.0</td>\n",
              "      <td>1.4</td>\n",
              "      <td>0.2</td>\n",
              "      <td>0</td>\n",
              "    </tr>\n",
              "    <tr>\n",
              "      <th>2</th>\n",
              "      <td>4.7</td>\n",
              "      <td>3.2</td>\n",
              "      <td>1.3</td>\n",
              "      <td>0.2</td>\n",
              "      <td>0</td>\n",
              "    </tr>\n",
              "    <tr>\n",
              "      <th>3</th>\n",
              "      <td>4.6</td>\n",
              "      <td>3.1</td>\n",
              "      <td>1.5</td>\n",
              "      <td>0.2</td>\n",
              "      <td>0</td>\n",
              "    </tr>\n",
              "    <tr>\n",
              "      <th>4</th>\n",
              "      <td>5.0</td>\n",
              "      <td>3.6</td>\n",
              "      <td>1.4</td>\n",
              "      <td>0.2</td>\n",
              "      <td>0</td>\n",
              "    </tr>\n",
              "  </tbody>\n",
              "</table>\n",
              "</div>"
            ],
            "text/plain": [
              "   sepal length (cm)  sepal width (cm)  ...  petal width (cm)  target\n",
              "0                5.1               3.5  ...               0.2       0\n",
              "1                4.9               3.0  ...               0.2       0\n",
              "2                4.7               3.2  ...               0.2       0\n",
              "3                4.6               3.1  ...               0.2       0\n",
              "4                5.0               3.6  ...               0.2       0\n",
              "\n",
              "[5 rows x 5 columns]"
            ]
          },
          "metadata": {
            "tags": []
          },
          "execution_count": 35
        }
      ]
    },
    {
      "cell_type": "code",
      "metadata": {
        "id": "c8u2_FlXsaBg"
      },
      "source": [
        "ftr_df = iris_df.iloc[:, :-1]\r\n",
        "tgt_df = iris_df.iloc[:, -1]\r\n",
        "\r\n",
        "X_train, X_test, y_train, y_test = train_test_split(ftr_df, tgt_df,\r\n",
        "                                                    test_size=0.3, random_state=121)"
      ],
      "execution_count": null,
      "outputs": []
    },
    {
      "cell_type": "code",
      "metadata": {
        "colab": {
          "base_uri": "https://localhost:8080/"
        },
        "id": "xAWNvw4Ws28q",
        "outputId": "f4eb770e-1f0a-4a9f-d45d-d4639481e17b"
      },
      "source": [
        "print(type(X_train), type(X_test), type(y_train), type(y_test))"
      ],
      "execution_count": null,
      "outputs": [
        {
          "output_type": "stream",
          "text": [
            "<class 'pandas.core.frame.DataFrame'> <class 'pandas.core.frame.DataFrame'> <class 'pandas.core.series.Series'> <class 'pandas.core.series.Series'>\n"
          ],
          "name": "stdout"
        }
      ]
    },
    {
      "cell_type": "code",
      "metadata": {
        "colab": {
          "base_uri": "https://localhost:8080/"
        },
        "id": "Ni6qgAsltB-i",
        "outputId": "9730a5a6-d15d-4032-fcb3-ca5fd304a3ad"
      },
      "source": [
        "dt_clf = DecisionTreeClassifier()\r\n",
        "dt_clf.fit(X_train, y_train)\r\n",
        "pred = dt_clf.predict(X_test)\r\n",
        "print(\"예측 정확도 : {0:.4f}\" .format(accuracy_score(y_test, pred)))"
      ],
      "execution_count": null,
      "outputs": [
        {
          "output_type": "stream",
          "text": [
            "예측 정확도 : 0.9556\n"
          ],
          "name": "stdout"
        }
      ]
    },
    {
      "cell_type": "markdown",
      "metadata": {
        "id": "Hsqvgp0ZtuR7"
      },
      "source": [
        "### 교차검증\r\n",
        "* K 폴드"
      ]
    },
    {
      "cell_type": "code",
      "metadata": {
        "colab": {
          "base_uri": "https://localhost:8080/"
        },
        "id": "rTYccBklttNw",
        "outputId": "9c504a9c-b255-484b-bb57-ec78188243cd"
      },
      "source": [
        "from sklearn.tree import DecisionTreeClassifier\r\n",
        "from sklearn.metrics import accuracy_score\r\n",
        "from sklearn.model_selection import KFold\r\n",
        "import numpy as np\r\n",
        "\r\n",
        "iris = load_iris()\r\n",
        "features = iris.data\r\n",
        "label = iris.target\r\n",
        "dt_clf = DecisionTreeClassifier(random_state=156)\r\n",
        "\r\n",
        "# 5개의 폴드 세트로 분리하는 KFold 객체와 폴드 세트별 정확도를 담을 리스트 객체 생성\r\n",
        "kfold = KFold(n_splits=5)\r\n",
        "cv_accuracy = [] # 예측성능을 리스트로 담아주기\r\n",
        "print('붓꽃 데이터 세트 크기 : ', features.shape[0])"
      ],
      "execution_count": 54,
      "outputs": [
        {
          "output_type": "stream",
          "text": [
            "붓꽃 데이터 세트 크기 :  150\n"
          ],
          "name": "stdout"
        }
      ]
    },
    {
      "cell_type": "code",
      "metadata": {
        "colab": {
          "base_uri": "https://localhost:8080/"
        },
        "id": "wIPogyrvuzyu",
        "outputId": "1ef964d8-8f7e-4502-f97d-49716c7c2ea3"
      },
      "source": [
        "n_iter = 0\r\n",
        "\r\n",
        "# KFold객체의 split()을 호출하면 폴드 별 학습용, 검증용 테스트의 로우 인덱스를 array로 반환\r\n",
        "\r\n",
        "for train_index, test_index in kfold.split(features): #features 는 ndarray인데 학습용 ndarray를 가지는 위치인덱스, 검증용 ndarray를 가지는 위치인덱스를 반환함.\r\n",
        "  X_train, X_test = features[train_index], features[test_index]\r\n",
        "  y_train, y_test = label[train_index], label[test_index]\r\n",
        "\r\n",
        "  # 학습 및 예측\r\n",
        "  dt_clf.fit(X_train, y_train)\r\n",
        "  pred = dt_clf.predict(X_test)\r\n",
        "  n_iter += 1\r\n",
        "  # 반복 시 마다 정확도 측정\r\n",
        "  accuracy = np.round(accuracy_score(y_test, pred),4)\r\n",
        "  train_size = X_train.shape[0]\r\n",
        "  test_size = X_test.shape[0]\r\n",
        "  print('\\n#{0} 교차 검증 정확도 : {1}, 학습데이터 크기 : {2}, 검증 데이터 크기: {3}'\r\n",
        "  .format(n_iter, accuracy, train_size, test_size))\r\n",
        "  print('\\{0} 검증 세트 인덱스 : {1}'. format(n_iter, test_index))\r\n",
        "\r\n",
        "  cv_accuracy.append(accuracy)\r\n",
        "\r\n",
        "# 개별 iteration별 정확도를 합하여 평균 정확도 계산\r\n",
        "print('\\n## 평균 검증 정확도 :', np.mean(cv_accuracy))"
      ],
      "execution_count": 57,
      "outputs": [
        {
          "output_type": "stream",
          "text": [
            "\n",
            "#1 교차 검증 정확도 : 1.0, 학습데이터 크기 : 120, 검증 데이터 크기: 30\n",
            "\\1 검증 세트 인덱스 : [ 0  1  2  3  4  5  6  7  8  9 10 11 12 13 14 15 16 17 18 19 20 21 22 23\n",
            " 24 25 26 27 28 29]\n",
            "\n",
            "#2 교차 검증 정확도 : 0.9667, 학습데이터 크기 : 120, 검증 데이터 크기: 30\n",
            "\\2 검증 세트 인덱스 : [30 31 32 33 34 35 36 37 38 39 40 41 42 43 44 45 46 47 48 49 50 51 52 53\n",
            " 54 55 56 57 58 59]\n",
            "\n",
            "#3 교차 검증 정확도 : 0.8667, 학습데이터 크기 : 120, 검증 데이터 크기: 30\n",
            "\\3 검증 세트 인덱스 : [60 61 62 63 64 65 66 67 68 69 70 71 72 73 74 75 76 77 78 79 80 81 82 83\n",
            " 84 85 86 87 88 89]\n",
            "\n",
            "#4 교차 검증 정확도 : 0.9333, 학습데이터 크기 : 120, 검증 데이터 크기: 30\n",
            "\\4 검증 세트 인덱스 : [ 90  91  92  93  94  95  96  97  98  99 100 101 102 103 104 105 106 107\n",
            " 108 109 110 111 112 113 114 115 116 117 118 119]\n",
            "\n",
            "#5 교차 검증 정확도 : 0.7333, 학습데이터 크기 : 120, 검증 데이터 크기: 30\n",
            "\\5 검증 세트 인덱스 : [120 121 122 123 124 125 126 127 128 129 130 131 132 133 134 135 136 137\n",
            " 138 139 140 141 142 143 144 145 146 147 148 149]\n",
            "\n",
            "## 평균 검증 정확도 : 0.9\n"
          ],
          "name": "stdout"
        }
      ]
    },
    {
      "cell_type": "markdown",
      "metadata": {
        "id": "cGgUruvOThbt"
      },
      "source": [
        "* Stratified K 폴드드"
      ]
    },
    {
      "cell_type": "code",
      "metadata": {
        "id": "JB233-1Ru2VL",
        "colab": {
          "base_uri": "https://localhost:8080/"
        },
        "outputId": "03dc8d0f-4002-4305-a5d9-0f8c60f1c91f"
      },
      "source": [
        "import pandas as pd\r\n",
        "iris = load_iris()\r\n",
        "\r\n",
        "iris_df = pd.DataFrame(data=iris.data, columns=iris.feature_names)\r\n",
        "iris_df['label'] = iris.target\r\n",
        "iris_df['label'].value_counts()"
      ],
      "execution_count": 59,
      "outputs": [
        {
          "output_type": "execute_result",
          "data": {
            "text/plain": [
              "2    50\n",
              "1    50\n",
              "0    50\n",
              "Name: label, dtype: int64"
            ]
          },
          "metadata": {
            "tags": []
          },
          "execution_count": 59
        }
      ]
    },
    {
      "cell_type": "code",
      "metadata": {
        "colab": {
          "base_uri": "https://localhost:8080/"
        },
        "id": "fAEf68yoT6_v",
        "outputId": "006eb9c6-a53d-43d4-f7fa-cd5bbd3000a5"
      },
      "source": [
        "kfold = KFold(n_splits=3)\r\n",
        "# kfold.split(x)는 폴드 세트를 5번 반복할 때마다 달라지는 학습/테스트 용 데이터 로우 인덱스 번호 반환.\r\n",
        "n_iter = 0\r\n",
        "\r\n",
        "for train_index, test_index in kfold.split(iris_df):\r\n",
        "  n_iter += 1\r\n",
        "  label_train = iris_df['label'].iloc[train_index]\r\n",
        "  label_test = iris_df['label'].iloc[test_index]\r\n",
        "  print('## 교차 검증 : {0} .format(n_iter)')\r\n",
        "  print('학습 레이블 데이터 분포: \\n', label_train.value_counts())\r\n",
        "  print('검증 레이블 데이터 분포 : \\n', label_test.value_counts())\r\n",
        "\r\n",
        "# 학습 레이블 데이터 분포에는 없는 값이 검증 레이블에 있는 경우 해당 레이블값에 대한 학습이 되지 않았기 때문에 좋지못하다."
      ],
      "execution_count": 60,
      "outputs": [
        {
          "output_type": "stream",
          "text": [
            "## 교차 검증 : {0} .format(n_iter)\n",
            "학습 레이블 데이터 분포: \n",
            " 2    50\n",
            "1    50\n",
            "Name: label, dtype: int64\n",
            "검증 레이블 데이터 분포 : \n",
            " 0    50\n",
            "Name: label, dtype: int64\n",
            "## 교차 검증 : {0} .format(n_iter)\n",
            "학습 레이블 데이터 분포: \n",
            " 2    50\n",
            "0    50\n",
            "Name: label, dtype: int64\n",
            "검증 레이블 데이터 분포 : \n",
            " 1    50\n",
            "Name: label, dtype: int64\n",
            "## 교차 검증 : {0} .format(n_iter)\n",
            "학습 레이블 데이터 분포: \n",
            " 1    50\n",
            "0    50\n",
            "Name: label, dtype: int64\n",
            "검증 레이블 데이터 분포 : \n",
            " 2    50\n",
            "Name: label, dtype: int64\n"
          ],
          "name": "stdout"
        }
      ]
    },
    {
      "cell_type": "code",
      "metadata": {
        "colab": {
          "base_uri": "https://localhost:8080/"
        },
        "id": "9QsV_f0EU0mi",
        "outputId": "2afd775f-4e46-462c-e46a-19041438465c"
      },
      "source": [
        "from sklearn.model_selection import StratifiedKFold\r\n",
        "\r\n",
        "skf = StratifiedKFold(n_splits=3)\r\n",
        "n_iter = 0\r\n",
        "\r\n",
        "for train_index, test_index in skf.split(iris_df, iris_df['label']):\r\n",
        "  n_iter +=1\r\n",
        "  label_train = iris_df['label'].iloc[train_index]\r\n",
        "  label_test = iris_df['label'].iloc[test_index]\r\n",
        "  print('## 교차검증 : {0}'.format(n_iter))\r\n",
        "  print('학습 레이블 데이터 분포 :\\n',label_train.value_counts())\r\n",
        "  print('검증 레이블 데이터 분포 :\\n',label_test.value_counts())"
      ],
      "execution_count": 64,
      "outputs": [
        {
          "output_type": "stream",
          "text": [
            "## 교차검증 : 1\n",
            "학습 레이블 데이터 분포 :\n",
            " 2    34\n",
            "1    33\n",
            "0    33\n",
            "Name: label, dtype: int64\n",
            "검증 레이블 데이터 분포 :\n",
            " 1    17\n",
            "0    17\n",
            "2    16\n",
            "Name: label, dtype: int64\n",
            "## 교차검증 : 2\n",
            "학습 레이블 데이터 분포 :\n",
            " 1    34\n",
            "2    33\n",
            "0    33\n",
            "Name: label, dtype: int64\n",
            "검증 레이블 데이터 분포 :\n",
            " 2    17\n",
            "0    17\n",
            "1    16\n",
            "Name: label, dtype: int64\n",
            "## 교차검증 : 3\n",
            "학습 레이블 데이터 분포 :\n",
            " 0    34\n",
            "2    33\n",
            "1    33\n",
            "Name: label, dtype: int64\n",
            "검증 레이블 데이터 분포 :\n",
            " 2    17\n",
            "1    17\n",
            "0    16\n",
            "Name: label, dtype: int64\n"
          ],
          "name": "stdout"
        }
      ]
    },
    {
      "cell_type": "code",
      "metadata": {
        "colab": {
          "base_uri": "https://localhost:8080/"
        },
        "id": "ELzMrejmVgkA",
        "outputId": "407666d9-508d-464b-ec70-775f24013678"
      },
      "source": [
        "dt_clf = DecisionTreeClassifier(random_state=156)\r\n",
        "\r\n",
        "skfold = StratifiedKFold(n_splits=3)\r\n",
        "n_iter = 0\r\n",
        "cv_accuracy = []\r\n",
        "\r\n",
        "# StratifiedKFold의 split() 호출시 반드시 레이블 데이터 셋도 추가 입력 필요\r\n",
        "\r\n",
        "for train_index, test_index in skfold.split(features, label):\r\n",
        "  # split()으로 반환된 인덱스를 이용하여 학습용, 검증용 테스트 데이터 추출\r\n",
        "  X_train, X_test = features[train_index], features[test_index]\r\n",
        "  y_train, y_test = label[train_index], label[test_index]\r\n",
        "\r\n",
        "  # 학습 및 예측\r\n",
        "  dt_clf.fit(X_train, y_train)\r\n",
        "  pred = dt_clf.predict(X_test)\r\n",
        "\r\n",
        "  # 반복 시 마다 정확도 측정\r\n",
        "  n_iter +=1\r\n",
        "  accuracy = np.round(accuracy_score(y_test,pred),4)\r\n",
        "  train_size = X_train.shape[0]\r\n",
        "  test_size = X_test.shape[0]\r\n",
        "\r\n",
        "  print('\\n#{0} 교차 검증 정확도 : {1}, 학습데이터 크기 : {2}, 검증 데이터 크기: {3}'\r\n",
        "  .format(n_iter, accuracy, train_size, test_size))\r\n",
        "  print('\\{0} 검증 세트 인덱스 : {1}'. format(n_iter, test_index))\r\n",
        "  cv_accuracy.append(accuracy)\r\n",
        "\r\n",
        "# 개별 iteration별 정확도를 합하여 평균 정확도 계산\r\n",
        "print('\\n## 교차 검증별 정확도 :', np.round(cv_accuracy),4)\r\n",
        "print('## 평균 검증 정확도 : ', np.mean(cv_accuracy))"
      ],
      "execution_count": 66,
      "outputs": [
        {
          "output_type": "stream",
          "text": [
            "\n",
            "#1 교차 검증 정확도 : 0.98, 학습데이터 크기 : 100, 검증 데이터 크기: 50\n",
            "\\1 검증 세트 인덱스 : [  0   1   2   3   4   5   6   7   8   9  10  11  12  13  14  15  16  50\n",
            "  51  52  53  54  55  56  57  58  59  60  61  62  63  64  65  66 100 101\n",
            " 102 103 104 105 106 107 108 109 110 111 112 113 114 115]\n",
            "\n",
            "#2 교차 검증 정확도 : 0.94, 학습데이터 크기 : 100, 검증 데이터 크기: 50\n",
            "\\2 검증 세트 인덱스 : [ 17  18  19  20  21  22  23  24  25  26  27  28  29  30  31  32  33  67\n",
            "  68  69  70  71  72  73  74  75  76  77  78  79  80  81  82 116 117 118\n",
            " 119 120 121 122 123 124 125 126 127 128 129 130 131 132]\n",
            "\n",
            "#3 교차 검증 정확도 : 0.98, 학습데이터 크기 : 100, 검증 데이터 크기: 50\n",
            "\\3 검증 세트 인덱스 : [ 34  35  36  37  38  39  40  41  42  43  44  45  46  47  48  49  83  84\n",
            "  85  86  87  88  89  90  91  92  93  94  95  96  97  98  99 133 134 135\n",
            " 136 137 138 139 140 141 142 143 144 145 146 147 148 149]\n",
            "\n",
            "## 교차 검증별 정확도 : [1. 1. 1.] 4\n",
            "## 평균 검증 정확도 :  0.9666666666666667\n"
          ],
          "name": "stdout"
        }
      ]
    },
    {
      "cell_type": "code",
      "metadata": {
        "id": "5QtcfzHPjA-8"
      },
      "source": [
        ""
      ],
      "execution_count": null,
      "outputs": []
    }
  ]
}