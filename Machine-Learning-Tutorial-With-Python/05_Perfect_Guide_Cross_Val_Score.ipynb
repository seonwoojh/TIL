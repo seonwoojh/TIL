{
  "nbformat": 4,
  "nbformat_minor": 0,
  "metadata": {
    "colab": {
      "name": "05.Perfect_Guide_Cross_Val_Score.ipynb",
      "provenance": [],
      "authorship_tag": "ABX9TyN6oHeNtZwX4bTPe8Gap9q2",
      "include_colab_link": true
    },
    "kernelspec": {
      "name": "python3",
      "display_name": "Python 3"
    }
  },
  "cells": [
    {
      "cell_type": "markdown",
      "metadata": {
        "id": "view-in-github",
        "colab_type": "text"
      },
      "source": [
        "<a href=\"https://colab.research.google.com/github/swjh9523/Perfect_Guide_Python/blob/main/05_Perfect_Guide_Cross_Val_Score.ipynb\" target=\"_parent\"><img src=\"https://colab.research.google.com/assets/colab-badge.svg\" alt=\"Open In Colab\"/></a>"
      ]
    },
    {
      "cell_type": "markdown",
      "metadata": {
        "id": "l_2PhjdtSQZ6"
      },
      "source": [
        "# 교차검증을 보다 간편하게 - cross_val_score()\r\n",
        "\r\n",
        "* KFold 클래스를 이용한 교차 검증 방법\r\n",
        "\r\n",
        "    1. 폴드 세트 설정\r\n",
        "    2. For 루프에서 반복적으로 학습/검증 데이터 추출 및 학습과 예측 수행\r\n",
        "    3. 폴드 세트별로 예측 성능을 평균하여 최종 성능 평가\r\n",
        "\r\n",
        "    ---> cross_val_score() 함수로 폴드 세트 추출, 학습/예측, 평가를 한번에 수행\r\n",
        "\r\n",
        "    ```\r\n",
        "    cross_val_score(estimator, X, y=None, scoring=None,cv=None,\r\n",
        "    n_jobs = 1, verbose=0, fit_params=None, pre_dispatch='2*n_jobs')\r\n",
        "    ```"
      ]
    },
    {
      "cell_type": "markdown",
      "metadata": {
        "id": "3KdbqP6vTdmi"
      },
      "source": [
        "# GridSearchCV - 교차 검증과 최적 하이퍼 파라미터 튜닝을 한번에\r\n",
        "\r\n",
        "* 사이킷런은 GridSearchCV를 이용해 Classifier나 Regressor와 같은 알고리즘에 사용되는 하이퍼 파라미터를 순차적으로 입력하면서 편리하게 최적의 파라미터를 도출할 수 있는 방안을 제공합니다.\r\n",
        "\r\n",
        "```\r\n",
        "grid_parameters = {'max_depth' : [1, 2. 3],\r\n",
        "'min_samples_split' : [2, 3]\r\n",
        "}\r\n",
        "```\r\n",
        "\r\n",
        "ex) cv세트가 3이라면?\r\n",
        "        파라미터 순차 적용횟수 6 * cv세트수 3 = 학습/검증 총 수행횟수 18"
      ]
    },
    {
      "cell_type": "markdown",
      "metadata": {
        "id": "viapPMyJUnko"
      },
      "source": [
        "* cross_val_score()"
      ]
    },
    {
      "cell_type": "code",
      "metadata": {
        "colab": {
          "base_uri": "https://localhost:8080/"
        },
        "id": "6v_fFiwzSDyU",
        "outputId": "d6cfecbe-bd8a-4cbf-afa4-b40c06b204fe"
      },
      "source": [
        "from sklearn.tree import DecisionTreeClassifier\r\n",
        "from sklearn.model_selection import cross_val_score, cross_validate\r\n",
        "from sklearn.datasets import load_iris\r\n",
        "import numpy as np\r\n",
        "\r\n",
        "iris_data = load_iris()\r\n",
        "dt_clf = DecisionTreeClassifier(random_state=156)\r\n",
        "\r\n",
        "data = iris_data.data\r\n",
        "label = iris_data.target\r\n",
        "\r\n",
        "# 성능 지표는 정확도(accuracy), 교차 검증세트 3개\r\n",
        "scores = cross_val_score(dt_clf, data, label, scoring='accuracy', cv=3)\r\n",
        "print('교차 검증별 정확도 : ', np.round(scores,4))\r\n",
        "print('평균 검증 정확도 : ', np.round(np.mean(scores), 4))"
      ],
      "execution_count": 8,
      "outputs": [
        {
          "output_type": "stream",
          "text": [
            "교차 검증별 정확도 :  [0.98 0.94 0.98]\n",
            "평균 검증 정확도 :  0.9667\n"
          ],
          "name": "stdout"
        }
      ]
    },
    {
      "cell_type": "markdown",
      "metadata": {
        "id": "mGawObZRWNeu"
      },
      "source": [
        "* GridSearchCV"
      ]
    },
    {
      "cell_type": "code",
      "metadata": {
        "id": "rjPFmvq1UyU-"
      },
      "source": [
        "from sklearn.datasets import load_iris\r\n",
        "from sklearn.tree import DecisionTreeClassifier\r\n",
        "from sklearn.model_selection import train_test_split, GridSearchCV\r\n",
        "from sklearn.metrics import accuracy_score\r\n",
        "\r\n",
        "X_train, X_test, y_train, y_test = train_test_split(iris_data.data, iris_data.target,\r\n",
        "                                                    test_size = 0.2, random_state = 121)\r\n",
        "\r\n",
        "dtree = DecisionTreeClassifier()\r\n",
        "\r\n",
        "# parameter 들을 dictionary 형태로 설정\r\n",
        "\r\n",
        "parameters = {'max_depth' : [1,2,3], 'min_samples_split' : [2,3]}"
      ],
      "execution_count": 11,
      "outputs": []
    },
    {
      "cell_type": "code",
      "metadata": {
        "colab": {
          "base_uri": "https://localhost:8080/",
          "height": 235
        },
        "id": "chDdy9FvWfWu",
        "outputId": "d00dcdd7-f8de-4904-8d44-6136dde7218e"
      },
      "source": [
        "import pandas as pd\r\n",
        "\r\n",
        "# param_grid의 하이퍼 파라미터들을 3개의 train, test set fold로 나누어서 테스트 수행 설정.\r\n",
        "# refit=True가 default임. True이면 가장 좋은 파라미터 설정으로 재 학습 시킴.\r\n",
        "grid_dtree = GridSearchCV(dtree, param_grid=parameters, cv=3, refit=True, return_train_score=True)\r\n",
        "\r\n",
        "# 붓꽃 Train 데이터로 param_grid의 하이퍼 파라미터들을 순차적으로 학습/평가\r\n",
        "grid_dtree.fit(X_train, y_train)\r\n",
        "\r\n",
        "# GridSearchCV 결과는 cv_results_라는 딕셔너리로 저장됨. 이를 DataFrame으로 변환\r\n",
        "scores_df = pd.DataFrame(grid_dtree.cv_results_)\r\n",
        "scores_df[['params', 'mean_test_score','rank_test_score','split0_test_score','split1_test_score','split2_test_score']]"
      ],
      "execution_count": 13,
      "outputs": [
        {
          "output_type": "execute_result",
          "data": {
            "text/html": [
              "<div>\n",
              "<style scoped>\n",
              "    .dataframe tbody tr th:only-of-type {\n",
              "        vertical-align: middle;\n",
              "    }\n",
              "\n",
              "    .dataframe tbody tr th {\n",
              "        vertical-align: top;\n",
              "    }\n",
              "\n",
              "    .dataframe thead th {\n",
              "        text-align: right;\n",
              "    }\n",
              "</style>\n",
              "<table border=\"1\" class=\"dataframe\">\n",
              "  <thead>\n",
              "    <tr style=\"text-align: right;\">\n",
              "      <th></th>\n",
              "      <th>params</th>\n",
              "      <th>mean_test_score</th>\n",
              "      <th>rank_test_score</th>\n",
              "      <th>split0_test_score</th>\n",
              "      <th>split1_test_score</th>\n",
              "      <th>split2_test_score</th>\n",
              "    </tr>\n",
              "  </thead>\n",
              "  <tbody>\n",
              "    <tr>\n",
              "      <th>0</th>\n",
              "      <td>{'max_depth': 1, 'min_samples_split': 2}</td>\n",
              "      <td>0.700000</td>\n",
              "      <td>5</td>\n",
              "      <td>0.700</td>\n",
              "      <td>0.7</td>\n",
              "      <td>0.70</td>\n",
              "    </tr>\n",
              "    <tr>\n",
              "      <th>1</th>\n",
              "      <td>{'max_depth': 1, 'min_samples_split': 3}</td>\n",
              "      <td>0.700000</td>\n",
              "      <td>5</td>\n",
              "      <td>0.700</td>\n",
              "      <td>0.7</td>\n",
              "      <td>0.70</td>\n",
              "    </tr>\n",
              "    <tr>\n",
              "      <th>2</th>\n",
              "      <td>{'max_depth': 2, 'min_samples_split': 2}</td>\n",
              "      <td>0.958333</td>\n",
              "      <td>3</td>\n",
              "      <td>0.925</td>\n",
              "      <td>1.0</td>\n",
              "      <td>0.95</td>\n",
              "    </tr>\n",
              "    <tr>\n",
              "      <th>3</th>\n",
              "      <td>{'max_depth': 2, 'min_samples_split': 3}</td>\n",
              "      <td>0.958333</td>\n",
              "      <td>3</td>\n",
              "      <td>0.925</td>\n",
              "      <td>1.0</td>\n",
              "      <td>0.95</td>\n",
              "    </tr>\n",
              "    <tr>\n",
              "      <th>4</th>\n",
              "      <td>{'max_depth': 3, 'min_samples_split': 2}</td>\n",
              "      <td>0.975000</td>\n",
              "      <td>1</td>\n",
              "      <td>0.975</td>\n",
              "      <td>1.0</td>\n",
              "      <td>0.95</td>\n",
              "    </tr>\n",
              "    <tr>\n",
              "      <th>5</th>\n",
              "      <td>{'max_depth': 3, 'min_samples_split': 3}</td>\n",
              "      <td>0.975000</td>\n",
              "      <td>1</td>\n",
              "      <td>0.975</td>\n",
              "      <td>1.0</td>\n",
              "      <td>0.95</td>\n",
              "    </tr>\n",
              "  </tbody>\n",
              "</table>\n",
              "</div>"
            ],
            "text/plain": [
              "                                     params  ...  split2_test_score\n",
              "0  {'max_depth': 1, 'min_samples_split': 2}  ...               0.70\n",
              "1  {'max_depth': 1, 'min_samples_split': 3}  ...               0.70\n",
              "2  {'max_depth': 2, 'min_samples_split': 2}  ...               0.95\n",
              "3  {'max_depth': 2, 'min_samples_split': 3}  ...               0.95\n",
              "4  {'max_depth': 3, 'min_samples_split': 2}  ...               0.95\n",
              "5  {'max_depth': 3, 'min_samples_split': 3}  ...               0.95\n",
              "\n",
              "[6 rows x 6 columns]"
            ]
          },
          "metadata": {
            "tags": []
          },
          "execution_count": 13
        }
      ]
    },
    {
      "cell_type": "code",
      "metadata": {
        "id": "5J0s3RFKYWTl"
      },
      "source": [
        ""
      ],
      "execution_count": null,
      "outputs": []
    }
  ]
}