{
  "nbformat": 4,
  "nbformat_minor": 0,
  "metadata": {
    "colab": {
      "name": "코로나_데이터_PCA.ipynb",
      "provenance": [],
      "authorship_tag": "ABX9TyMPhJt17MhhG/Qo4B1/zWRo",
      "include_colab_link": true
    },
    "kernelspec": {
      "name": "python3",
      "display_name": "Python 3"
    }
  },
  "cells": [
    {
      "cell_type": "markdown",
      "metadata": {
        "id": "view-in-github",
        "colab_type": "text"
      },
      "source": [
        "<a href=\"https://colab.research.google.com/github/swjh9523/Python_Tutorial/blob/master/%EC%BD%94%EB%A1%9C%EB%82%98_%EB%8D%B0%EC%9D%B4%ED%84%B0_PCA.ipynb\" target=\"_parent\"><img src=\"https://colab.research.google.com/assets/colab-badge.svg\" alt=\"Open In Colab\"/></a>"
      ]
    },
    {
      "cell_type": "code",
      "metadata": {
        "id": "mL9nkp24oyS9"
      },
      "source": [
        "import pandas as pd\r\n",
        "import numpy as np\r\n",
        "import matplotlib.pyplot as plt\r\n",
        "from sklearn.cluster import KMeans\r\n",
        "import datetime as dt\r\n",
        "import seaborn as sns\r\n",
        "import missingno\r\n",
        "import warnings\r\n",
        "warnings.filterwarnings(action='ignore')"
      ],
      "execution_count": 1,
      "outputs": []
    },
    {
      "cell_type": "code",
      "metadata": {
        "colab": {
          "base_uri": "https://localhost:8080/"
        },
        "id": "v_HR2sAqo15S",
        "outputId": "a059dc07-5284-4970-f4bd-9eb50fec317b"
      },
      "source": [
        "from google.colab import drive\r\n",
        "drive.mount('/content/drive')"
      ],
      "execution_count": 2,
      "outputs": [
        {
          "output_type": "stream",
          "text": [
            "Drive already mounted at /content/drive; to attempt to forcibly remount, call drive.mount(\"/content/drive\", force_remount=True).\n"
          ],
          "name": "stdout"
        }
      ]
    },
    {
      "cell_type": "code",
      "metadata": {
        "colab": {
          "base_uri": "https://localhost:8080/",
          "height": 252
        },
        "id": "GzLsGtPPo8Tj",
        "outputId": "8198d520-7ccb-4d58-9f74-d78746049059"
      },
      "source": [
        "# 그래프 한글폰트 사용설정 in Colab\r\n",
        "import matplotlib as mpl\r\n",
        "import matplotlib.pyplot as plt\r\n",
        "import matplotlib.font_manager as fm\r\n",
        "\r\n",
        "%config InlineBackend.figure_format = 'retina'\r\n",
        "!apt -qq -y install fonts-nanum\r\n",
        "\r\n",
        "fontpath = '/content/drive/My Drive/파이썬/NanumGothic.ttf'\r\n",
        "font = fm.FontProperties(fname=fontpath, size=9)\r\n",
        "plt.rc('font', family='NanumBarunGothic') \r\n",
        "mpl.font_manager._rebuild()\r\n",
        "\r\n",
        "## Test\r\n",
        "plt.figure(figsize=(3,3))\r\n",
        "plt.text(0.5, 0.5, '한글 폰트 테스트 성공!!!', size=15)\r\n",
        "plt.show()"
      ],
      "execution_count": 3,
      "outputs": [
        {
          "output_type": "stream",
          "text": [
            "fonts-nanum is already the newest version (20170925-1).\n",
            "0 upgraded, 0 newly installed, 0 to remove and 13 not upgraded.\n"
          ],
          "name": "stdout"
        },
        {
          "output_type": "display_data",
          "data": {
            "image/png": "[encoded data removed]",
            "text/plain": [
              "<Figure size 216x216 with 1 Axes>"
            ]
          },
          "metadata": {
            "tags": [],
            "image/png": {
              "width": 270,
              "height": 199
            },
            "needs_background": "light"
          }
        }
      ]
    },
    {
      "cell_type": "code",
      "metadata": {
        "id": "5yq_CiqfpLu5",
        "colab": {
          "base_uri": "https://localhost:8080/",
          "height": 204
        },
        "outputId": "8b721949-9a1a-43a2-fff5-c1f6cd20cc7a"
      },
      "source": [
        "fpopl = pd.read_csv('/content/drive/MyDrive/공모전데이터파일/COVID-19/fpopl.csv')\r\n",
        "fpopl.head()"
      ],
      "execution_count": 4,
      "outputs": [
        {
          "output_type": "execute_result",
          "data": {
            "text/html": [
              "<div>\n",
              "<style scoped>\n",
              "    .dataframe tbody tr th:only-of-type {\n",
              "        vertical-align: middle;\n",
              "    }\n",
              "\n",
              "    .dataframe tbody tr th {\n",
              "        vertical-align: top;\n",
              "    }\n",
              "\n",
              "    .dataframe thead th {\n",
              "        text-align: right;\n",
              "    }\n",
              "</style>\n",
              "<table border=\"1\" class=\"dataframe\">\n",
              "  <thead>\n",
              "    <tr style=\"text-align: right;\">\n",
              "      <th></th>\n",
              "      <th>base_ymd</th>\n",
              "      <th>tmzon_se_code</th>\n",
              "      <th>sexdstn_se_code</th>\n",
              "      <th>agrde_se_code</th>\n",
              "      <th>adstrd_code</th>\n",
              "      <th>popltn_cascnt</th>\n",
              "    </tr>\n",
              "  </thead>\n",
              "  <tbody>\n",
              "    <tr>\n",
              "      <th>0</th>\n",
              "      <td>20200101</td>\n",
              "      <td>0</td>\n",
              "      <td>M</td>\n",
              "      <td>age_00</td>\n",
              "      <td>11650560</td>\n",
              "      <td>15</td>\n",
              "    </tr>\n",
              "    <tr>\n",
              "      <th>1</th>\n",
              "      <td>20200101</td>\n",
              "      <td>0</td>\n",
              "      <td>M</td>\n",
              "      <td>age_00</td>\n",
              "      <td>11590620</td>\n",
              "      <td>6</td>\n",
              "    </tr>\n",
              "    <tr>\n",
              "      <th>2</th>\n",
              "      <td>20200101</td>\n",
              "      <td>0</td>\n",
              "      <td>M</td>\n",
              "      <td>age_00</td>\n",
              "      <td>11560710</td>\n",
              "      <td>4</td>\n",
              "    </tr>\n",
              "    <tr>\n",
              "      <th>3</th>\n",
              "      <td>20200101</td>\n",
              "      <td>0</td>\n",
              "      <td>M</td>\n",
              "      <td>age_00</td>\n",
              "      <td>11470680</td>\n",
              "      <td>12</td>\n",
              "    </tr>\n",
              "    <tr>\n",
              "      <th>4</th>\n",
              "      <td>20200101</td>\n",
              "      <td>0</td>\n",
              "      <td>M</td>\n",
              "      <td>age_00</td>\n",
              "      <td>11350665</td>\n",
              "      <td>6</td>\n",
              "    </tr>\n",
              "  </tbody>\n",
              "</table>\n",
              "</div>"
            ],
            "text/plain": [
              "   base_ymd  tmzon_se_code  ... adstrd_code popltn_cascnt\n",
              "0  20200101              0  ...    11650560            15\n",
              "1  20200101              0  ...    11590620             6\n",
              "2  20200101              0  ...    11560710             4\n",
              "3  20200101              0  ...    11470680            12\n",
              "4  20200101              0  ...    11350665             6\n",
              "\n",
              "[5 rows x 6 columns]"
            ]
          },
          "metadata": {
            "tags": []
          },
          "execution_count": 4
        }
      ]
    },
    {
      "cell_type": "code",
      "metadata": {
        "colab": {
          "base_uri": "https://localhost:8080/",
          "height": 204
        },
        "id": "A6hjCcZap8PX",
        "outputId": "6ee2edf0-68a9-42ce-8c01-9b16821405d2"
      },
      "source": [
        "fpopl.columns = [\"날짜\",\"시간\",\"성별\",\"연령\",\"행정동 코드\",\"인구수\"]"
      ],
      "execution_count": 5,
      "outputs": [
        {
          "output_type": "execute_result",
          "data": {
            "text/html": [
              "<div>\n",
              "<style scoped>\n",
              "    .dataframe tbody tr th:only-of-type {\n",
              "        vertical-align: middle;\n",
              "    }\n",
              "\n",
              "    .dataframe tbody tr th {\n",
              "        vertical-align: top;\n",
              "    }\n",
              "\n",
              "    .dataframe thead th {\n",
              "        text-align: right;\n",
              "    }\n",
              "</style>\n",
              "<table border=\"1\" class=\"dataframe\">\n",
              "  <thead>\n",
              "    <tr style=\"text-align: right;\">\n",
              "      <th></th>\n",
              "      <th>날짜</th>\n",
              "      <th>시간</th>\n",
              "      <th>성별</th>\n",
              "      <th>연령</th>\n",
              "      <th>행정동 코드</th>\n",
              "      <th>인구수</th>\n",
              "    </tr>\n",
              "  </thead>\n",
              "  <tbody>\n",
              "    <tr>\n",
              "      <th>0</th>\n",
              "      <td>20200101</td>\n",
              "      <td>0</td>\n",
              "      <td>M</td>\n",
              "      <td>age_00</td>\n",
              "      <td>11650560</td>\n",
              "      <td>15</td>\n",
              "    </tr>\n",
              "    <tr>\n",
              "      <th>1</th>\n",
              "      <td>20200101</td>\n",
              "      <td>0</td>\n",
              "      <td>M</td>\n",
              "      <td>age_00</td>\n",
              "      <td>11590620</td>\n",
              "      <td>6</td>\n",
              "    </tr>\n",
              "    <tr>\n",
              "      <th>2</th>\n",
              "      <td>20200101</td>\n",
              "      <td>0</td>\n",
              "      <td>M</td>\n",
              "      <td>age_00</td>\n",
              "      <td>11560710</td>\n",
              "      <td>4</td>\n",
              "    </tr>\n",
              "    <tr>\n",
              "      <th>3</th>\n",
              "      <td>20200101</td>\n",
              "      <td>0</td>\n",
              "      <td>M</td>\n",
              "      <td>age_00</td>\n",
              "      <td>11470680</td>\n",
              "      <td>12</td>\n",
              "    </tr>\n",
              "    <tr>\n",
              "      <th>4</th>\n",
              "      <td>20200101</td>\n",
              "      <td>0</td>\n",
              "      <td>M</td>\n",
              "      <td>age_00</td>\n",
              "      <td>11350665</td>\n",
              "      <td>6</td>\n",
              "    </tr>\n",
              "  </tbody>\n",
              "</table>\n",
              "</div>"
            ],
            "text/plain": [
              "         날짜  시간 성별      연령    행정동 코드  인구수\n",
              "0  20200101   0  M  age_00  11650560   15\n",
              "1  20200101   0  M  age_00  11590620    6\n",
              "2  20200101   0  M  age_00  11560710    4\n",
              "3  20200101   0  M  age_00  11470680   12\n",
              "4  20200101   0  M  age_00  11350665    6"
            ]
          },
          "metadata": {
            "tags": []
          },
          "execution_count": 5
        }
      ]
    },
    {
      "cell_type": "code",
      "metadata": {
        "colab": {
          "base_uri": "https://localhost:8080/"
        },
        "id": "_bd2y1OQqSTp",
        "outputId": "864459da-703c-450d-f99a-1000cba8bff8"
      },
      "source": [
        "print(fpopl[\"날짜\"].value_counts())\r\n",
        "print(fpopl[\"시간\"].value_counts())\r\n",
        "print(fpopl[\"성별\"].value_counts())\r\n",
        "print(fpopl[\"연령\"].value_counts())\r\n",
        "print(fpopl[\"행정동 코드\"].value_counts())\r\n",
        "print(fpopl[\"인구수\"].value_counts())"
      ],
      "execution_count": 11,
      "outputs": [
        {
          "output_type": "stream",
          "text": [
            "20200606    283720\n",
            "20200523    283707\n",
            "20200430    283689\n",
            "20200530    283667\n",
            "20200613    283618\n",
            "             ...  \n",
            "20200131    282406\n",
            "20200102    282393\n",
            "20200107    282376\n",
            "20200128    282370\n",
            "20200106    282142\n",
            "Name: 날짜, Length: 168, dtype: int64\n",
            "15    1997720\n",
            "16    1997660\n",
            "14    1997615\n",
            "17    1997536\n",
            "13    1997514\n",
            "18    1997250\n",
            "12    1997171\n",
            "19    1996564\n",
            "11    1996369\n",
            "20    1995647\n",
            "10    1995470\n",
            "0     1994764\n",
            "21    1994381\n",
            "9     1994263\n",
            "22    1991160\n",
            "8     1990102\n",
            "23    1984200\n",
            "7     1972142\n",
            "1     1961097\n",
            "6     1947853\n",
            "2     1946623\n",
            "3     1936615\n",
            "5     1936210\n",
            "4     1930517\n",
            "Name: 시간, dtype: int64\n",
            "F    23791453\n",
            "M    23754990\n",
            "Name: 성별, dtype: int64\n",
            "age_25    3425704\n",
            "age_30    3425702\n",
            "age_20    3425698\n",
            "age_35    3425685\n",
            "age_55    3425684\n",
            "age_50    3425681\n",
            "age_45    3425665\n",
            "age_40    3425657\n",
            "age_60    3425654\n",
            "age_70    3425450\n",
            "age_65    3425237\n",
            "age_15    3424390\n",
            "age_10    3373382\n",
            "age_00    3066854\n",
            "Name: 연령, dtype: int64\n",
            "11710670    112896\n",
            "11710680    112888\n",
            "11680650    112888\n",
            "11650531    112867\n",
            "11470510    112867\n",
            "             ...  \n",
            "11110690    107836\n",
            "11110600    107066\n",
            "11110540    106741\n",
            "11140605    106618\n",
            "11530800     90694\n",
            "Name: 행정동 코드, Length: 425, dtype: int64\n",
            "1       493594\n",
            "2       464127\n",
            "3       428675\n",
            "4       401002\n",
            "5       380572\n",
            "         ...  \n",
            "4231         1\n",
            "4230         1\n",
            "5035         1\n",
            "5032         1\n",
            "7830         1\n",
            "Name: 인구수, Length: 5401, dtype: int64\n"
          ],
          "name": "stdout"
        }
      ]
    },
    {
      "cell_type": "code",
      "metadata": {
        "id": "CH-8mlVLrGKX"
      },
      "source": [
        ""
      ],
      "execution_count": null,
      "outputs": []
    }
  ]
}