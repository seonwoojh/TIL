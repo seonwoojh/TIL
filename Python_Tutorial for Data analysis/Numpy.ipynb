{
  "nbformat": 4,
  "nbformat_minor": 0,
  "metadata": {
    "colab": {
      "name": "1.Numpy.ipynb",
      "provenance": []
    },
    "kernelspec": {
      "name": "python3",
      "display_name": "Python 3"
    },
    "language_info": {
      "name": "python"
    }
  },
  "cells": [
    {
      "cell_type": "markdown",
      "metadata": {
        "id": "Qr_6LaTjY52-"
      },
      "source": [
        "### 데이터 분석을 위한 기본적인 numpy 예제를 알아봅시다."
      ]
    },
    {
      "cell_type": "markdown",
      "metadata": {
        "id": "WsFwbRwIZD2O"
      },
      "source": [
        "# 1. Numpy 사용하기"
      ]
    },
    {
      "cell_type": "code",
      "metadata": {
        "colab": {
          "base_uri": "https://localhost:8080/"
        },
        "id": "TYN2Rt7CZMLn",
        "outputId": "08f120a0-fec4-412d-c5ec-963ada30b6b6"
      },
      "source": [
        "!pip install numpy"
      ],
      "execution_count": 1,
      "outputs": [
        {
          "output_type": "stream",
          "name": "stdout",
          "text": [
            "Requirement already satisfied: numpy in /usr/local/lib/python3.7/dist-packages (1.19.5)\n"
          ]
        }
      ]
    },
    {
      "cell_type": "code",
      "metadata": {
        "id": "7OCbbiwgZU6j"
      },
      "source": [
        "import numpy as np"
      ],
      "execution_count": 2,
      "outputs": []
    },
    {
      "cell_type": "markdown",
      "metadata": {
        "id": "1yoZj4akZbvx"
      },
      "source": [
        "## 2.Numpy 배열\n",
        "numpy 배열은 데이터분석에서 가장 많이 사용되는 배열 중 하나\n",
        "* 벡터 : 1차원 배열\n",
        "* 매트릭스 : 2차원 배열"
      ]
    },
    {
      "cell_type": "markdown",
      "metadata": {
        "id": "7-5Ygj-vZxYS"
      },
      "source": [
        "## 3. 배열 생성하기\n",
        "1. 파이썬 리스트 이용 : np.array([list])\n",
        "2. 0 또는 1로 채우기 : np.zeros(), np.ones()\n",
        "3. 일정한 간격을 가지는 숫자배열 : np.arange()\n",
        "4. 일정 범위 안에서 일정 갯수를 가진 배열 np.linspace()\n",
        "5. 랜덤 값을 가지는 배열 : np.random.rand() / randint() / randn()"
      ]
    },
    {
      "cell_type": "markdown",
      "metadata": {
        "id": "lcpjUd2ha579"
      },
      "source": [
        "np.array()"
      ]
    },
    {
      "cell_type": "code",
      "metadata": {
        "colab": {
          "base_uri": "https://localhost:8080/"
        },
        "id": "lJlDKbRDa-qc",
        "outputId": "82c72cb6-ca24-4698-b396-d947b3240f21"
      },
      "source": [
        "list_array = [1, 2, 3, 4, 5]\n",
        "type(list_array)\n",
        "list_array"
      ],
      "execution_count": 4,
      "outputs": [
        {
          "output_type": "execute_result",
          "data": {
            "text/plain": [
              "[1, 2, 3, 4, 5]"
            ]
          },
          "metadata": {},
          "execution_count": 4
        }
      ]
    },
    {
      "cell_type": "code",
      "metadata": {
        "colab": {
          "base_uri": "https://localhost:8080/"
        },
        "id": "I_kuiVoqei2z",
        "outputId": "8032ea87-1284-436f-81c6-eab3a143fb61"
      },
      "source": [
        "len(list_array)"
      ],
      "execution_count": 5,
      "outputs": [
        {
          "output_type": "execute_result",
          "data": {
            "text/plain": [
              "5"
            ]
          },
          "metadata": {},
          "execution_count": 5
        }
      ]
    },
    {
      "cell_type": "code",
      "metadata": {
        "colab": {
          "base_uri": "https://localhost:8080/"
        },
        "id": "lNX72-bvekF6",
        "outputId": "3a703863-9639-4d06-818d-c48f02b209f0"
      },
      "source": [
        "arr = np.array(list_array)\n",
        "arr"
      ],
      "execution_count": 6,
      "outputs": [
        {
          "output_type": "execute_result",
          "data": {
            "text/plain": [
              "array([1, 2, 3, 4, 5])"
            ]
          },
          "metadata": {},
          "execution_count": 6
        }
      ]
    },
    {
      "cell_type": "code",
      "metadata": {
        "colab": {
          "base_uri": "https://localhost:8080/"
        },
        "id": "0vbkomrdepdV",
        "outputId": "ce666c6e-b3eb-47fd-e646-4245320d547f"
      },
      "source": [
        "type(arr)"
      ],
      "execution_count": 7,
      "outputs": [
        {
          "output_type": "execute_result",
          "data": {
            "text/plain": [
              "numpy.ndarray"
            ]
          },
          "metadata": {},
          "execution_count": 7
        }
      ]
    },
    {
      "cell_type": "code",
      "metadata": {
        "colab": {
          "base_uri": "https://localhost:8080/"
        },
        "id": "zu0oO2z7ere8",
        "outputId": "6099b05e-03f7-4f60-ac06-9f271e3ef30e"
      },
      "source": [
        "arr.ndim"
      ],
      "execution_count": 8,
      "outputs": [
        {
          "output_type": "execute_result",
          "data": {
            "text/plain": [
              "1"
            ]
          },
          "metadata": {},
          "execution_count": 8
        }
      ]
    },
    {
      "cell_type": "code",
      "metadata": {
        "colab": {
          "base_uri": "https://localhost:8080/"
        },
        "id": "ziGm-QzRetuj",
        "outputId": "60c89c47-ce6f-4e43-b2e2-905424f0df34"
      },
      "source": [
        "arr.size"
      ],
      "execution_count": 9,
      "outputs": [
        {
          "output_type": "execute_result",
          "data": {
            "text/plain": [
              "5"
            ]
          },
          "metadata": {},
          "execution_count": 9
        }
      ]
    },
    {
      "cell_type": "code",
      "metadata": {
        "colab": {
          "base_uri": "https://localhost:8080/"
        },
        "id": "Z2kVzxmAew-U",
        "outputId": "dc81b061-c734-497a-b907-d21ee852db12"
      },
      "source": [
        "mat = [[1,2],[3,4]]\n",
        "mat"
      ],
      "execution_count": 10,
      "outputs": [
        {
          "output_type": "execute_result",
          "data": {
            "text/plain": [
              "[[1, 2], [3, 4]]"
            ]
          },
          "metadata": {},
          "execution_count": 10
        }
      ]
    },
    {
      "cell_type": "code",
      "metadata": {
        "colab": {
          "base_uri": "https://localhost:8080/"
        },
        "id": "CADTLRcAe12n",
        "outputId": "c6d5ae4d-eedf-4d24-9b02-1afa17945534"
      },
      "source": [
        "m_arr = np.array(mat)\n",
        "m_arr"
      ],
      "execution_count": 11,
      "outputs": [
        {
          "output_type": "execute_result",
          "data": {
            "text/plain": [
              "array([[1, 2],\n",
              "       [3, 4]])"
            ]
          },
          "metadata": {},
          "execution_count": 11
        }
      ]
    },
    {
      "cell_type": "code",
      "metadata": {
        "colab": {
          "base_uri": "https://localhost:8080/"
        },
        "id": "L3lAedXre5ij",
        "outputId": "6ce01dfd-44fd-4b4f-c303-3b51a060266c"
      },
      "source": [
        "m_arr.ndim"
      ],
      "execution_count": 12,
      "outputs": [
        {
          "output_type": "execute_result",
          "data": {
            "text/plain": [
              "2"
            ]
          },
          "metadata": {},
          "execution_count": 12
        }
      ]
    },
    {
      "cell_type": "code",
      "metadata": {
        "colab": {
          "base_uri": "https://localhost:8080/"
        },
        "id": "zYerlYvVe8M5",
        "outputId": "070bb571-43ef-45fc-cbac-92822709d453"
      },
      "source": [
        "m_arr.size"
      ],
      "execution_count": 13,
      "outputs": [
        {
          "output_type": "execute_result",
          "data": {
            "text/plain": [
              "4"
            ]
          },
          "metadata": {},
          "execution_count": 13
        }
      ]
    },
    {
      "cell_type": "markdown",
      "metadata": {
        "id": "F3NcCpMEe9Rh"
      },
      "source": [
        "np.zeros() / np.ones()"
      ]
    },
    {
      "cell_type": "code",
      "metadata": {
        "colab": {
          "base_uri": "https://localhost:8080/"
        },
        "id": "pXwGEw0sfC1y",
        "outputId": "fe10940d-6f58-49e7-974a-489c6f80f5fe"
      },
      "source": [
        "np.zeros(5)"
      ],
      "execution_count": 14,
      "outputs": [
        {
          "output_type": "execute_result",
          "data": {
            "text/plain": [
              "array([0., 0., 0., 0., 0.])"
            ]
          },
          "metadata": {},
          "execution_count": 14
        }
      ]
    },
    {
      "cell_type": "code",
      "metadata": {
        "colab": {
          "base_uri": "https://localhost:8080/"
        },
        "id": "gwn_YZilfFCl",
        "outputId": "018b4d32-dadd-486a-aef5-17bec29f5d64"
      },
      "source": [
        "type(np.zeros(5))"
      ],
      "execution_count": 15,
      "outputs": [
        {
          "output_type": "execute_result",
          "data": {
            "text/plain": [
              "numpy.ndarray"
            ]
          },
          "metadata": {},
          "execution_count": 15
        }
      ]
    },
    {
      "cell_type": "code",
      "metadata": {
        "colab": {
          "base_uri": "https://localhost:8080/"
        },
        "id": "swqe0Q49fL70",
        "outputId": "bab725af-165e-405d-e186-29f236080ee0"
      },
      "source": [
        "np.zeros([5,5])"
      ],
      "execution_count": 17,
      "outputs": [
        {
          "output_type": "execute_result",
          "data": {
            "text/plain": [
              "array([[0., 0., 0., 0., 0.],\n",
              "       [0., 0., 0., 0., 0.],\n",
              "       [0., 0., 0., 0., 0.],\n",
              "       [0., 0., 0., 0., 0.],\n",
              "       [0., 0., 0., 0., 0.]])"
            ]
          },
          "metadata": {},
          "execution_count": 17
        }
      ]
    },
    {
      "cell_type": "code",
      "metadata": {
        "colab": {
          "base_uri": "https://localhost:8080/"
        },
        "id": "DgmtpkUXfOOC",
        "outputId": "687be16f-c9d0-42f4-b7a8-1fae08e1e5ac"
      },
      "source": [
        "np.ones(5)"
      ],
      "execution_count": 18,
      "outputs": [
        {
          "output_type": "execute_result",
          "data": {
            "text/plain": [
              "array([1., 1., 1., 1., 1.])"
            ]
          },
          "metadata": {},
          "execution_count": 18
        }
      ]
    },
    {
      "cell_type": "code",
      "metadata": {
        "colab": {
          "base_uri": "https://localhost:8080/"
        },
        "id": "S_5vMCLufSr-",
        "outputId": "32be6557-2673-460f-f237-f11bf0a0b204"
      },
      "source": [
        "np.ones((5,5))"
      ],
      "execution_count": 19,
      "outputs": [
        {
          "output_type": "execute_result",
          "data": {
            "text/plain": [
              "array([[1., 1., 1., 1., 1.],\n",
              "       [1., 1., 1., 1., 1.],\n",
              "       [1., 1., 1., 1., 1.],\n",
              "       [1., 1., 1., 1., 1.],\n",
              "       [1., 1., 1., 1., 1.]])"
            ]
          },
          "metadata": {},
          "execution_count": 19
        }
      ]
    },
    {
      "cell_type": "markdown",
      "metadata": {
        "id": "2i5fAfK2fV1Q"
      },
      "source": [
        "np.arange()"
      ]
    },
    {
      "cell_type": "code",
      "metadata": {
        "colab": {
          "base_uri": "https://localhost:8080/"
        },
        "id": "PYJo2DkwfhA-",
        "outputId": "022a56e3-fa03-48bd-9c5f-d6b37b23838f"
      },
      "source": [
        "range(11)"
      ],
      "execution_count": 20,
      "outputs": [
        {
          "output_type": "execute_result",
          "data": {
            "text/plain": [
              "range(0, 11)"
            ]
          },
          "metadata": {},
          "execution_count": 20
        }
      ]
    },
    {
      "cell_type": "code",
      "metadata": {
        "colab": {
          "base_uri": "https://localhost:8080/"
        },
        "id": "ks6hG3gsfiMs",
        "outputId": "aa890333-e6b3-4848-b2c1-54b4cbcd0dcb"
      },
      "source": [
        "temp_list = list(range(10))\n",
        "temp_list"
      ],
      "execution_count": 21,
      "outputs": [
        {
          "output_type": "execute_result",
          "data": {
            "text/plain": [
              "[0, 1, 2, 3, 4, 5, 6, 7, 8, 9]"
            ]
          },
          "metadata": {},
          "execution_count": 21
        }
      ]
    },
    {
      "cell_type": "code",
      "metadata": {
        "colab": {
          "base_uri": "https://localhost:8080/",
          "height": 169
        },
        "id": "sLSiM8N_fmKk",
        "outputId": "e2d73604-2a80-4e48-f29c-0abe222548ac"
      },
      "source": [
        "temp_list + 7"
      ],
      "execution_count": 23,
      "outputs": [
        {
          "output_type": "error",
          "ename": "TypeError",
          "evalue": "ignored",
          "traceback": [
            "\u001b[0;31m---------------------------------------------------------------------------\u001b[0m",
            "\u001b[0;31mTypeError\u001b[0m                                 Traceback (most recent call last)",
            "\u001b[0;32m<ipython-input-23-ada7499f72c3>\u001b[0m in \u001b[0;36m<module>\u001b[0;34m()\u001b[0m\n\u001b[0;32m----> 1\u001b[0;31m \u001b[0mtemp_list\u001b[0m \u001b[0;34m+\u001b[0m \u001b[0;36m7\u001b[0m\u001b[0;34m\u001b[0m\u001b[0;34m\u001b[0m\u001b[0m\n\u001b[0m",
            "\u001b[0;31mTypeError\u001b[0m: can only concatenate list (not \"int\") to list"
          ]
        }
      ]
    },
    {
      "cell_type": "code",
      "metadata": {
        "colab": {
          "base_uri": "https://localhost:8080/"
        },
        "id": "H82dDP3lfp-Q",
        "outputId": "f6bae529-5309-45c2-e2fd-747538e93bcf"
      },
      "source": [
        "np.arange(0,13) + 7"
      ],
      "execution_count": 24,
      "outputs": [
        {
          "output_type": "execute_result",
          "data": {
            "text/plain": [
              "array([ 7,  8,  9, 10, 11, 12, 13, 14, 15, 16, 17, 18, 19])"
            ]
          },
          "metadata": {},
          "execution_count": 24
        }
      ]
    },
    {
      "cell_type": "code",
      "metadata": {
        "colab": {
          "base_uri": "https://localhost:8080/"
        },
        "id": "qW38_QCIfv5K",
        "outputId": "c9aef4d9-88f4-4aca-be96-c7fb392d570b"
      },
      "source": [
        "np.arange(0, 11, 2)"
      ],
      "execution_count": 25,
      "outputs": [
        {
          "output_type": "execute_result",
          "data": {
            "text/plain": [
              "array([ 0,  2,  4,  6,  8, 10])"
            ]
          },
          "metadata": {},
          "execution_count": 25
        }
      ]
    },
    {
      "cell_type": "code",
      "metadata": {
        "colab": {
          "base_uri": "https://localhost:8080/"
        },
        "id": "jiOYn7Z3fzfF",
        "outputId": "8b12dd2c-f070-4040-9b3c-a510a10947d5"
      },
      "source": [
        "np.arange(0,11,2).reshape(3,2)"
      ],
      "execution_count": 27,
      "outputs": [
        {
          "output_type": "execute_result",
          "data": {
            "text/plain": [
              "array([[ 0,  2],\n",
              "       [ 4,  6],\n",
              "       [ 8, 10]])"
            ]
          },
          "metadata": {},
          "execution_count": 27
        }
      ]
    },
    {
      "cell_type": "code",
      "metadata": {
        "colab": {
          "base_uri": "https://localhost:8080/"
        },
        "id": "cTyR2lxLf3wp",
        "outputId": "f6bc38f0-e501-40c1-fe4a-d2ae6c0be0c1"
      },
      "source": [
        "np.arange(0,11,2)"
      ],
      "execution_count": 29,
      "outputs": [
        {
          "output_type": "execute_result",
          "data": {
            "text/plain": [
              "array([ 0,  2,  4,  6,  8, 10])"
            ]
          },
          "metadata": {},
          "execution_count": 29
        }
      ]
    },
    {
      "cell_type": "markdown",
      "metadata": {
        "id": "INooLBspf8gh"
      },
      "source": [
        "np.random.rand() / randint() / randn()"
      ]
    },
    {
      "cell_type": "code",
      "metadata": {
        "colab": {
          "base_uri": "https://localhost:8080/"
        },
        "id": "0fp06elBgMTn",
        "outputId": "00962031-ba46-4389-d503-f6a567f0f82a"
      },
      "source": [
        "# 0-1범위 내의 정규분포를 따르는 랜덤값을 가져와서 생성\n",
        "np.random.rand(5)"
      ],
      "execution_count": 30,
      "outputs": [
        {
          "output_type": "execute_result",
          "data": {
            "text/plain": [
              "array([0.79806566, 0.59127474, 0.54067748, 0.93814278, 0.87119194])"
            ]
          },
          "metadata": {},
          "execution_count": 30
        }
      ]
    },
    {
      "cell_type": "code",
      "metadata": {
        "colab": {
          "base_uri": "https://localhost:8080/"
        },
        "id": "dUDVKppJgV4w",
        "outputId": "44196e71-5181-4e12-f4f4-27b68068bbd5"
      },
      "source": [
        "np.random.rand(5,5)"
      ],
      "execution_count": 31,
      "outputs": [
        {
          "output_type": "execute_result",
          "data": {
            "text/plain": [
              "array([[0.90129179, 0.12958945, 0.04384532, 0.91001395, 0.71108472],\n",
              "       [0.20243483, 0.63743784, 0.86400835, 0.33124929, 0.90233039],\n",
              "       [0.42212348, 0.5894941 , 0.26654233, 0.58135721, 0.29705965],\n",
              "       [0.01094179, 0.98777804, 0.36560629, 0.77959624, 0.207692  ],\n",
              "       [0.93384467, 0.46527461, 0.94377805, 0.77558483, 0.27712793]])"
            ]
          },
          "metadata": {},
          "execution_count": 31
        }
      ]
    },
    {
      "cell_type": "code",
      "metadata": {
        "colab": {
          "base_uri": "https://localhost:8080/"
        },
        "id": "6_nwGdlIgZDh",
        "outputId": "817bf8ae-3343-4f3b-f150-cc99078648ab"
      },
      "source": [
        "# 가우시안 표준 정규 분포 랜덤값을 가져와서 생성\n",
        "np.random.rand(5)"
      ],
      "execution_count": 32,
      "outputs": [
        {
          "output_type": "execute_result",
          "data": {
            "text/plain": [
              "array([0.71951869, 0.277481  , 0.6584526 , 0.95190848, 0.13721452])"
            ]
          },
          "metadata": {},
          "execution_count": 32
        }
      ]
    },
    {
      "cell_type": "code",
      "metadata": {
        "colab": {
          "base_uri": "https://localhost:8080/"
        },
        "id": "YQ01UUs7ghez",
        "outputId": "1d7583f4-887f-4a6e-b56f-86822edbded4"
      },
      "source": [
        "np.random.rand(5,5)"
      ],
      "execution_count": 33,
      "outputs": [
        {
          "output_type": "execute_result",
          "data": {
            "text/plain": [
              "array([[0.79066665, 0.16333685, 0.0595712 , 0.39834277, 0.36656995],\n",
              "       [0.52862628, 0.0832886 , 0.5628296 , 0.45016143, 0.13758199],\n",
              "       [0.71052374, 0.52523012, 0.09438966, 0.93676692, 0.1517645 ],\n",
              "       [0.23803322, 0.86836404, 0.71866488, 0.7853769 , 0.26141007],\n",
              "       [0.05810958, 0.46444358, 0.99972808, 0.08509577, 0.63552898]])"
            ]
          },
          "metadata": {},
          "execution_count": 33
        }
      ]
    },
    {
      "cell_type": "code",
      "metadata": {
        "colab": {
          "base_uri": "https://localhost:8080/"
        },
        "id": "o1oc_kwWgkKJ",
        "outputId": "38c7a3f5-2d4a-486c-cd98-1b2dee51af1b"
      },
      "source": [
        "# 특정 범위 내서 랜덤 정수의 숫자를 가져와서 생성\n",
        "np.random.randint(1,1000)"
      ],
      "execution_count": 35,
      "outputs": [
        {
          "output_type": "execute_result",
          "data": {
            "text/plain": [
              "661"
            ]
          },
          "metadata": {},
          "execution_count": 35
        }
      ]
    },
    {
      "cell_type": "code",
      "metadata": {
        "colab": {
          "base_uri": "https://localhost:8080/"
        },
        "id": "kx5BcJ_LgtYh",
        "outputId": "ad99deff-6479-4a50-e9a1-79edd451303f"
      },
      "source": [
        "np.random.randint(0, 1000, 10)"
      ],
      "execution_count": 36,
      "outputs": [
        {
          "output_type": "execute_result",
          "data": {
            "text/plain": [
              "array([316, 568, 903, 290,  61, 384, 323, 598, 918, 105])"
            ]
          },
          "metadata": {},
          "execution_count": 36
        }
      ]
    },
    {
      "cell_type": "code",
      "metadata": {
        "id": "kaN-Ld5bg8uP"
      },
      "source": [
        ""
      ],
      "execution_count": null,
      "outputs": []
    }
  ]
}