{
  "nbformat": 4,
  "nbformat_minor": 0,
  "metadata": {
    "colab": {
      "name": "그냥공부.ipynb",
      "provenance": [],
      "collapsed_sections": [],
      "authorship_tag": "ABX9TyMxcBRfyyIpRPDaIogV2yS4",
      "include_colab_link": true
    },
    "kernelspec": {
      "name": "python3",
      "display_name": "Python 3"
    }
  },
  "cells": [
    {
      "cell_type": "markdown",
      "metadata": {
        "id": "view-in-github",
        "colab_type": "text"
      },
      "source": [
        "<a href=\"https://colab.research.google.com/github/swjh9523/Python_Tutorial/blob/master/%EA%B7%B8%EB%83%A5%EA%B3%B5%EB%B6%80.ipynb\" target=\"_parent\"><img src=\"https://colab.research.google.com/assets/colab-badge.svg\" alt=\"Open In Colab\"/></a>"
      ]
    },
    {
      "cell_type": "code",
      "metadata": {
        "id": "6c5rkWIqIga6"
      },
      "source": [
        "import numpy as np\r\n",
        "import pandas as pd\r\n",
        "import matplotlib.pyplot as plt\r\n",
        "import seaborn as sns\r\n",
        "import pandas_profiling"
      ],
      "execution_count": 1,
      "outputs": []
    },
    {
      "cell_type": "code",
      "metadata": {
        "colab": {
          "base_uri": "https://localhost:8080/"
        },
        "id": "HQw8pGJmMhpw",
        "outputId": "2669a2ed-1056-4fc9-9e48-e526199379e9"
      },
      "source": [
        "from google.colab import drive\r\n",
        "drive.mount('/content/drive')"
      ],
      "execution_count": 2,
      "outputs": [
        {
          "output_type": "stream",
          "text": [
            "Mounted at /content/drive\n"
          ],
          "name": "stdout"
        }
      ]
    },
    {
      "cell_type": "code",
      "metadata": {
        "colab": {
          "base_uri": "https://localhost:8080/",
          "height": 251
        },
        "id": "KurqbtzfMuJx",
        "outputId": "429cdae7-b0e8-4363-ac4c-0972a4db0ebf"
      },
      "source": [
        "# 최근 데이터 시각화하기\r\n",
        "# 그래프 한글폰트 사용설정 in Colab\r\n",
        "import matplotlib as mpl\r\n",
        "import matplotlib.pyplot as plt\r\n",
        "import matplotlib.font_manager as fm\r\n",
        "\r\n",
        "%config InlineBackend.figure_format = 'retina'\r\n",
        "!apt -qq -y install fonts-nanum\r\n",
        "\r\n",
        "fontpath = '/content/drive/My Drive/파이썬/NanumGothic.ttf'\r\n",
        "font = fm.FontProperties(fname=fontpath, size=9)\r\n",
        "plt.rc('font', family='NanumBarunGothic') \r\n",
        "mpl.font_manager._rebuild()\r\n",
        "\r\n",
        "## Test\r\n",
        "plt.figure(figsize=(3,3))\r\n",
        "plt.text(0.5, 0.5, '한글 폰트 테스트 성공!!!', size=15)\r\n",
        "plt.show()"
      ],
      "execution_count": 2,
      "outputs": [
        {
          "output_type": "stream",
          "text": [
            "fonts-nanum is already the newest version (20170925-1).\n",
            "0 upgraded, 0 newly installed, 0 to remove and 13 not upgraded.\n"
          ],
          "name": "stdout"
        },
        {
          "output_type": "display_data",
          "data": {
            "image/png": "[encoded data removed]",
            "text/plain": [
              "<Figure size 216x216 with 1 Axes>"
            ]
          },
          "metadata": {
            "tags": [],
            "image/png": {
              "width": 270,
              "height": 199
            },
            "needs_background": "light"
          }
        }
      ]
    },
    {
      "cell_type": "markdown",
      "metadata": {
        "id": "DEjB08MGo8c4"
      },
      "source": [
        "x= 나이 y=인구수"
      ]
    },
    {
      "cell_type": "code",
      "metadata": {
        "colab": {
          "base_uri": "https://localhost:8080/",
          "height": 546
        },
        "id": "-Bhkjfstogbe",
        "outputId": "1f4920f5-6975-46f3-fe73-4ae3563033ec"
      },
      "source": [
        "age = pd.read_csv('/content/drive/MyDrive/파이썬 데이터분석 연습/age.csv', encoding=\"cp949\")\r\n",
        "age.head()"
      ],
      "execution_count": 3,
      "outputs": [
        {
          "output_type": "execute_result",
          "data": {
            "text/html": [
              "<div>\n",
              "<style scoped>\n",
              "    .dataframe tbody tr th:only-of-type {\n",
              "        vertical-align: middle;\n",
              "    }\n",
              "\n",
              "    .dataframe tbody tr th {\n",
              "        vertical-align: top;\n",
              "    }\n",
              "\n",
              "    .dataframe thead th {\n",
              "        text-align: right;\n",
              "    }\n",
              "</style>\n",
              "<table border=\"1\" class=\"dataframe\">\n",
              "  <thead>\n",
              "    <tr style=\"text-align: right;\">\n",
              "      <th></th>\n",
              "      <th>행정구역</th>\n",
              "      <th>2019년02월_계_총인구수</th>\n",
              "      <th>2019년02월_계_연령구간인구수</th>\n",
              "      <th>2019년02월_계_0세</th>\n",
              "      <th>2019년02월_계_1세</th>\n",
              "      <th>2019년02월_계_2세</th>\n",
              "      <th>2019년02월_계_3세</th>\n",
              "      <th>2019년02월_계_4세</th>\n",
              "      <th>2019년02월_계_5세</th>\n",
              "      <th>2019년02월_계_6세</th>\n",
              "      <th>2019년02월_계_7세</th>\n",
              "      <th>2019년02월_계_8세</th>\n",
              "      <th>2019년02월_계_9세</th>\n",
              "      <th>2019년02월_계_10세</th>\n",
              "      <th>2019년02월_계_11세</th>\n",
              "      <th>2019년02월_계_12세</th>\n",
              "      <th>2019년02월_계_13세</th>\n",
              "      <th>2019년02월_계_14세</th>\n",
              "      <th>2019년02월_계_15세</th>\n",
              "      <th>2019년02월_계_16세</th>\n",
              "      <th>2019년02월_계_17세</th>\n",
              "      <th>2019년02월_계_18세</th>\n",
              "      <th>2019년02월_계_19세</th>\n",
              "      <th>2019년02월_계_20세</th>\n",
              "      <th>2019년02월_계_21세</th>\n",
              "      <th>2019년02월_계_22세</th>\n",
              "      <th>2019년02월_계_23세</th>\n",
              "      <th>2019년02월_계_24세</th>\n",
              "      <th>2019년02월_계_25세</th>\n",
              "      <th>2019년02월_계_26세</th>\n",
              "      <th>2019년02월_계_27세</th>\n",
              "      <th>2019년02월_계_28세</th>\n",
              "      <th>2019년02월_계_29세</th>\n",
              "      <th>2019년02월_계_30세</th>\n",
              "      <th>2019년02월_계_31세</th>\n",
              "      <th>2019년02월_계_32세</th>\n",
              "      <th>2019년02월_계_33세</th>\n",
              "      <th>2019년02월_계_34세</th>\n",
              "      <th>2019년02월_계_35세</th>\n",
              "      <th>2019년02월_계_36세</th>\n",
              "      <th>...</th>\n",
              "      <th>2019년02월_계_61세</th>\n",
              "      <th>2019년02월_계_62세</th>\n",
              "      <th>2019년02월_계_63세</th>\n",
              "      <th>2019년02월_계_64세</th>\n",
              "      <th>2019년02월_계_65세</th>\n",
              "      <th>2019년02월_계_66세</th>\n",
              "      <th>2019년02월_계_67세</th>\n",
              "      <th>2019년02월_계_68세</th>\n",
              "      <th>2019년02월_계_69세</th>\n",
              "      <th>2019년02월_계_70세</th>\n",
              "      <th>2019년02월_계_71세</th>\n",
              "      <th>2019년02월_계_72세</th>\n",
              "      <th>2019년02월_계_73세</th>\n",
              "      <th>2019년02월_계_74세</th>\n",
              "      <th>2019년02월_계_75세</th>\n",
              "      <th>2019년02월_계_76세</th>\n",
              "      <th>2019년02월_계_77세</th>\n",
              "      <th>2019년02월_계_78세</th>\n",
              "      <th>2019년02월_계_79세</th>\n",
              "      <th>2019년02월_계_80세</th>\n",
              "      <th>2019년02월_계_81세</th>\n",
              "      <th>2019년02월_계_82세</th>\n",
              "      <th>2019년02월_계_83세</th>\n",
              "      <th>2019년02월_계_84세</th>\n",
              "      <th>2019년02월_계_85세</th>\n",
              "      <th>2019년02월_계_86세</th>\n",
              "      <th>2019년02월_계_87세</th>\n",
              "      <th>2019년02월_계_88세</th>\n",
              "      <th>2019년02월_계_89세</th>\n",
              "      <th>2019년02월_계_90세</th>\n",
              "      <th>2019년02월_계_91세</th>\n",
              "      <th>2019년02월_계_92세</th>\n",
              "      <th>2019년02월_계_93세</th>\n",
              "      <th>2019년02월_계_94세</th>\n",
              "      <th>2019년02월_계_95세</th>\n",
              "      <th>2019년02월_계_96세</th>\n",
              "      <th>2019년02월_계_97세</th>\n",
              "      <th>2019년02월_계_98세</th>\n",
              "      <th>2019년02월_계_99세</th>\n",
              "      <th>2019년02월_계_100세 이상</th>\n",
              "    </tr>\n",
              "  </thead>\n",
              "  <tbody>\n",
              "    <tr>\n",
              "      <th>0</th>\n",
              "      <td>서울특별시  (1100000000)</td>\n",
              "      <td>9,770,638</td>\n",
              "      <td>9,770,638</td>\n",
              "      <td>53,738</td>\n",
              "      <td>59,599</td>\n",
              "      <td>65,815</td>\n",
              "      <td>70,726</td>\n",
              "      <td>70,037</td>\n",
              "      <td>69,000</td>\n",
              "      <td>76,377</td>\n",
              "      <td>73,745</td>\n",
              "      <td>75,639</td>\n",
              "      <td>70,189</td>\n",
              "      <td>74,217</td>\n",
              "      <td>80,273</td>\n",
              "      <td>74,774</td>\n",
              "      <td>71,529</td>\n",
              "      <td>78,329</td>\n",
              "      <td>82,561</td>\n",
              "      <td>82,083</td>\n",
              "      <td>90,416</td>\n",
              "      <td>107,254</td>\n",
              "      <td>109,552</td>\n",
              "      <td>114,315</td>\n",
              "      <td>122,473</td>\n",
              "      <td>129,497</td>\n",
              "      <td>141,673</td>\n",
              "      <td>150,625</td>\n",
              "      <td>156,258</td>\n",
              "      <td>165,662</td>\n",
              "      <td>165,771</td>\n",
              "      <td>152,776</td>\n",
              "      <td>151,006</td>\n",
              "      <td>150,177</td>\n",
              "      <td>144,503</td>\n",
              "      <td>144,300</td>\n",
              "      <td>145,260</td>\n",
              "      <td>142,644</td>\n",
              "      <td>157,624</td>\n",
              "      <td>164,934</td>\n",
              "      <td>...</td>\n",
              "      <td>142,867</td>\n",
              "      <td>132,352</td>\n",
              "      <td>135,608</td>\n",
              "      <td>123,861</td>\n",
              "      <td>103,339</td>\n",
              "      <td>110,202</td>\n",
              "      <td>83,062</td>\n",
              "      <td>85,623</td>\n",
              "      <td>88,133</td>\n",
              "      <td>85,983</td>\n",
              "      <td>86,008</td>\n",
              "      <td>79,560</td>\n",
              "      <td>60,652</td>\n",
              "      <td>63,418</td>\n",
              "      <td>59,401</td>\n",
              "      <td>72,043</td>\n",
              "      <td>60,979</td>\n",
              "      <td>49,561</td>\n",
              "      <td>47,432</td>\n",
              "      <td>42,445</td>\n",
              "      <td>37,293</td>\n",
              "      <td>33,253</td>\n",
              "      <td>29,705</td>\n",
              "      <td>25,250</td>\n",
              "      <td>20,503</td>\n",
              "      <td>17,751</td>\n",
              "      <td>14,506</td>\n",
              "      <td>12,100</td>\n",
              "      <td>10,729</td>\n",
              "      <td>8,923</td>\n",
              "      <td>7,199</td>\n",
              "      <td>5,374</td>\n",
              "      <td>3,972</td>\n",
              "      <td>2,927</td>\n",
              "      <td>2,813</td>\n",
              "      <td>2,260</td>\n",
              "      <td>1,565</td>\n",
              "      <td>1,180</td>\n",
              "      <td>880</td>\n",
              "      <td>5,932</td>\n",
              "    </tr>\n",
              "    <tr>\n",
              "      <th>1</th>\n",
              "      <td>서울특별시 종로구 (1111000000)</td>\n",
              "      <td>152,880</td>\n",
              "      <td>152,880</td>\n",
              "      <td>593</td>\n",
              "      <td>683</td>\n",
              "      <td>775</td>\n",
              "      <td>874</td>\n",
              "      <td>852</td>\n",
              "      <td>863</td>\n",
              "      <td>1,023</td>\n",
              "      <td>904</td>\n",
              "      <td>1,012</td>\n",
              "      <td>923</td>\n",
              "      <td>1,004</td>\n",
              "      <td>1,151</td>\n",
              "      <td>1,084</td>\n",
              "      <td>1,005</td>\n",
              "      <td>1,099</td>\n",
              "      <td>1,180</td>\n",
              "      <td>1,171</td>\n",
              "      <td>1,338</td>\n",
              "      <td>1,528</td>\n",
              "      <td>1,767</td>\n",
              "      <td>1,899</td>\n",
              "      <td>2,122</td>\n",
              "      <td>2,193</td>\n",
              "      <td>2,454</td>\n",
              "      <td>2,438</td>\n",
              "      <td>2,572</td>\n",
              "      <td>2,682</td>\n",
              "      <td>2,598</td>\n",
              "      <td>2,446</td>\n",
              "      <td>2,234</td>\n",
              "      <td>2,206</td>\n",
              "      <td>2,161</td>\n",
              "      <td>2,060</td>\n",
              "      <td>1,949</td>\n",
              "      <td>1,888</td>\n",
              "      <td>2,149</td>\n",
              "      <td>2,116</td>\n",
              "      <td>...</td>\n",
              "      <td>2,267</td>\n",
              "      <td>2,204</td>\n",
              "      <td>2,185</td>\n",
              "      <td>2,014</td>\n",
              "      <td>1,665</td>\n",
              "      <td>1,796</td>\n",
              "      <td>1,362</td>\n",
              "      <td>1,387</td>\n",
              "      <td>1,454</td>\n",
              "      <td>1,432</td>\n",
              "      <td>1,512</td>\n",
              "      <td>1,369</td>\n",
              "      <td>1,099</td>\n",
              "      <td>1,215</td>\n",
              "      <td>1,144</td>\n",
              "      <td>1,424</td>\n",
              "      <td>1,245</td>\n",
              "      <td>1,044</td>\n",
              "      <td>1,065</td>\n",
              "      <td>894</td>\n",
              "      <td>763</td>\n",
              "      <td>725</td>\n",
              "      <td>626</td>\n",
              "      <td>572</td>\n",
              "      <td>462</td>\n",
              "      <td>395</td>\n",
              "      <td>336</td>\n",
              "      <td>282</td>\n",
              "      <td>236</td>\n",
              "      <td>199</td>\n",
              "      <td>163</td>\n",
              "      <td>132</td>\n",
              "      <td>112</td>\n",
              "      <td>79</td>\n",
              "      <td>69</td>\n",
              "      <td>81</td>\n",
              "      <td>53</td>\n",
              "      <td>40</td>\n",
              "      <td>39</td>\n",
              "      <td>236</td>\n",
              "    </tr>\n",
              "    <tr>\n",
              "      <th>2</th>\n",
              "      <td>서울특별시 종로구 청운효자동(1111051500)</td>\n",
              "      <td>13,010</td>\n",
              "      <td>13,010</td>\n",
              "      <td>66</td>\n",
              "      <td>79</td>\n",
              "      <td>72</td>\n",
              "      <td>98</td>\n",
              "      <td>98</td>\n",
              "      <td>94</td>\n",
              "      <td>108</td>\n",
              "      <td>109</td>\n",
              "      <td>115</td>\n",
              "      <td>95</td>\n",
              "      <td>125</td>\n",
              "      <td>142</td>\n",
              "      <td>130</td>\n",
              "      <td>105</td>\n",
              "      <td>136</td>\n",
              "      <td>124</td>\n",
              "      <td>134</td>\n",
              "      <td>151</td>\n",
              "      <td>155</td>\n",
              "      <td>147</td>\n",
              "      <td>172</td>\n",
              "      <td>143</td>\n",
              "      <td>181</td>\n",
              "      <td>188</td>\n",
              "      <td>139</td>\n",
              "      <td>163</td>\n",
              "      <td>171</td>\n",
              "      <td>186</td>\n",
              "      <td>151</td>\n",
              "      <td>137</td>\n",
              "      <td>168</td>\n",
              "      <td>157</td>\n",
              "      <td>172</td>\n",
              "      <td>160</td>\n",
              "      <td>162</td>\n",
              "      <td>193</td>\n",
              "      <td>178</td>\n",
              "      <td>...</td>\n",
              "      <td>150</td>\n",
              "      <td>138</td>\n",
              "      <td>160</td>\n",
              "      <td>131</td>\n",
              "      <td>132</td>\n",
              "      <td>124</td>\n",
              "      <td>91</td>\n",
              "      <td>103</td>\n",
              "      <td>115</td>\n",
              "      <td>106</td>\n",
              "      <td>119</td>\n",
              "      <td>118</td>\n",
              "      <td>95</td>\n",
              "      <td>103</td>\n",
              "      <td>92</td>\n",
              "      <td>125</td>\n",
              "      <td>94</td>\n",
              "      <td>87</td>\n",
              "      <td>103</td>\n",
              "      <td>83</td>\n",
              "      <td>64</td>\n",
              "      <td>67</td>\n",
              "      <td>62</td>\n",
              "      <td>47</td>\n",
              "      <td>47</td>\n",
              "      <td>31</td>\n",
              "      <td>30</td>\n",
              "      <td>12</td>\n",
              "      <td>21</td>\n",
              "      <td>14</td>\n",
              "      <td>9</td>\n",
              "      <td>8</td>\n",
              "      <td>14</td>\n",
              "      <td>6</td>\n",
              "      <td>7</td>\n",
              "      <td>9</td>\n",
              "      <td>4</td>\n",
              "      <td>2</td>\n",
              "      <td>2</td>\n",
              "      <td>16</td>\n",
              "    </tr>\n",
              "    <tr>\n",
              "      <th>3</th>\n",
              "      <td>서울특별시 종로구 사직동(1111053000)</td>\n",
              "      <td>9,584</td>\n",
              "      <td>9,584</td>\n",
              "      <td>43</td>\n",
              "      <td>50</td>\n",
              "      <td>64</td>\n",
              "      <td>67</td>\n",
              "      <td>67</td>\n",
              "      <td>70</td>\n",
              "      <td>94</td>\n",
              "      <td>65</td>\n",
              "      <td>82</td>\n",
              "      <td>64</td>\n",
              "      <td>88</td>\n",
              "      <td>73</td>\n",
              "      <td>88</td>\n",
              "      <td>70</td>\n",
              "      <td>64</td>\n",
              "      <td>75</td>\n",
              "      <td>77</td>\n",
              "      <td>68</td>\n",
              "      <td>81</td>\n",
              "      <td>96</td>\n",
              "      <td>95</td>\n",
              "      <td>110</td>\n",
              "      <td>93</td>\n",
              "      <td>103</td>\n",
              "      <td>127</td>\n",
              "      <td>120</td>\n",
              "      <td>151</td>\n",
              "      <td>139</td>\n",
              "      <td>137</td>\n",
              "      <td>126</td>\n",
              "      <td>127</td>\n",
              "      <td>169</td>\n",
              "      <td>150</td>\n",
              "      <td>124</td>\n",
              "      <td>120</td>\n",
              "      <td>138</td>\n",
              "      <td>147</td>\n",
              "      <td>...</td>\n",
              "      <td>137</td>\n",
              "      <td>139</td>\n",
              "      <td>117</td>\n",
              "      <td>114</td>\n",
              "      <td>106</td>\n",
              "      <td>116</td>\n",
              "      <td>65</td>\n",
              "      <td>91</td>\n",
              "      <td>85</td>\n",
              "      <td>85</td>\n",
              "      <td>95</td>\n",
              "      <td>78</td>\n",
              "      <td>74</td>\n",
              "      <td>80</td>\n",
              "      <td>68</td>\n",
              "      <td>80</td>\n",
              "      <td>82</td>\n",
              "      <td>75</td>\n",
              "      <td>66</td>\n",
              "      <td>68</td>\n",
              "      <td>60</td>\n",
              "      <td>53</td>\n",
              "      <td>60</td>\n",
              "      <td>51</td>\n",
              "      <td>38</td>\n",
              "      <td>26</td>\n",
              "      <td>22</td>\n",
              "      <td>22</td>\n",
              "      <td>20</td>\n",
              "      <td>17</td>\n",
              "      <td>14</td>\n",
              "      <td>5</td>\n",
              "      <td>12</td>\n",
              "      <td>6</td>\n",
              "      <td>5</td>\n",
              "      <td>8</td>\n",
              "      <td>2</td>\n",
              "      <td>5</td>\n",
              "      <td>4</td>\n",
              "      <td>17</td>\n",
              "    </tr>\n",
              "    <tr>\n",
              "      <th>4</th>\n",
              "      <td>서울특별시 종로구 삼청동(1111054000)</td>\n",
              "      <td>2,820</td>\n",
              "      <td>2,820</td>\n",
              "      <td>9</td>\n",
              "      <td>15</td>\n",
              "      <td>3</td>\n",
              "      <td>21</td>\n",
              "      <td>11</td>\n",
              "      <td>13</td>\n",
              "      <td>9</td>\n",
              "      <td>16</td>\n",
              "      <td>14</td>\n",
              "      <td>25</td>\n",
              "      <td>18</td>\n",
              "      <td>27</td>\n",
              "      <td>20</td>\n",
              "      <td>17</td>\n",
              "      <td>19</td>\n",
              "      <td>17</td>\n",
              "      <td>17</td>\n",
              "      <td>27</td>\n",
              "      <td>23</td>\n",
              "      <td>27</td>\n",
              "      <td>25</td>\n",
              "      <td>36</td>\n",
              "      <td>29</td>\n",
              "      <td>35</td>\n",
              "      <td>35</td>\n",
              "      <td>33</td>\n",
              "      <td>37</td>\n",
              "      <td>31</td>\n",
              "      <td>36</td>\n",
              "      <td>42</td>\n",
              "      <td>46</td>\n",
              "      <td>35</td>\n",
              "      <td>35</td>\n",
              "      <td>41</td>\n",
              "      <td>32</td>\n",
              "      <td>42</td>\n",
              "      <td>45</td>\n",
              "      <td>...</td>\n",
              "      <td>46</td>\n",
              "      <td>41</td>\n",
              "      <td>51</td>\n",
              "      <td>51</td>\n",
              "      <td>27</td>\n",
              "      <td>45</td>\n",
              "      <td>23</td>\n",
              "      <td>24</td>\n",
              "      <td>36</td>\n",
              "      <td>34</td>\n",
              "      <td>43</td>\n",
              "      <td>31</td>\n",
              "      <td>19</td>\n",
              "      <td>28</td>\n",
              "      <td>23</td>\n",
              "      <td>33</td>\n",
              "      <td>34</td>\n",
              "      <td>25</td>\n",
              "      <td>26</td>\n",
              "      <td>15</td>\n",
              "      <td>18</td>\n",
              "      <td>20</td>\n",
              "      <td>16</td>\n",
              "      <td>14</td>\n",
              "      <td>14</td>\n",
              "      <td>14</td>\n",
              "      <td>10</td>\n",
              "      <td>8</td>\n",
              "      <td>8</td>\n",
              "      <td>4</td>\n",
              "      <td>6</td>\n",
              "      <td>6</td>\n",
              "      <td>1</td>\n",
              "      <td>3</td>\n",
              "      <td>0</td>\n",
              "      <td>3</td>\n",
              "      <td>1</td>\n",
              "      <td>0</td>\n",
              "      <td>2</td>\n",
              "      <td>7</td>\n",
              "    </tr>\n",
              "  </tbody>\n",
              "</table>\n",
              "<p>5 rows × 104 columns</p>\n",
              "</div>"
            ],
            "text/plain": [
              "                          행정구역  ... 2019년02월_계_100세 이상\n",
              "0          서울특별시  (1100000000)  ...              5,932\n",
              "1       서울특별시 종로구 (1111000000)  ...                236\n",
              "2  서울특별시 종로구 청운효자동(1111051500)  ...                 16\n",
              "3    서울특별시 종로구 사직동(1111053000)  ...                 17\n",
              "4    서울특별시 종로구 삼청동(1111054000)  ...                  7\n",
              "\n",
              "[5 rows x 104 columns]"
            ]
          },
          "metadata": {
            "tags": []
          },
          "execution_count": 3
        }
      ]
    },
    {
      "cell_type": "code",
      "metadata": {
        "colab": {
          "base_uri": "https://localhost:8080/"
        },
        "id": "zf0mVKSeot_0",
        "outputId": "39e421ec-7688-4d9a-ffd2-b6974ed9860e"
      },
      "source": [
        "age.columns"
      ],
      "execution_count": null,
      "outputs": [
        {
          "output_type": "execute_result",
          "data": {
            "text/plain": [
              "Index(['행정구역', '2019년02월_계_총인구수', '2019년02월_계_연령구간인구수', '2019년02월_계_0세',\n",
              "       '2019년02월_계_1세', '2019년02월_계_2세', '2019년02월_계_3세', '2019년02월_계_4세',\n",
              "       '2019년02월_계_5세', '2019년02월_계_6세',\n",
              "       ...\n",
              "       '2019년02월_계_91세', '2019년02월_계_92세', '2019년02월_계_93세', '2019년02월_계_94세',\n",
              "       '2019년02월_계_95세', '2019년02월_계_96세', '2019년02월_계_97세', '2019년02월_계_98세',\n",
              "       '2019년02월_계_99세', '2019년02월_계_100세 이상'],\n",
              "      dtype='object', length=104)"
            ]
          },
          "metadata": {
            "tags": []
          },
          "execution_count": 8
        }
      ]
    },
    {
      "cell_type": "code",
      "metadata": {
        "id": "tj6tyLJTpRzE"
      },
      "source": [
        "age_sindorim = age[age[\"행정구역\"].str.contains('신도림')].copy()"
      ],
      "execution_count": 4,
      "outputs": []
    },
    {
      "cell_type": "code",
      "metadata": {
        "colab": {
          "base_uri": "https://localhost:8080/",
          "height": 277
        },
        "id": "BwW1byqepcZo",
        "outputId": "7235cfed-f662-4285-8806-ccb0d29fb655"
      },
      "source": [
        "age_sindorim.head()"
      ],
      "execution_count": 5,
      "outputs": [
        {
          "output_type": "execute_result",
          "data": {
            "text/html": [
              "<div>\n",
              "<style scoped>\n",
              "    .dataframe tbody tr th:only-of-type {\n",
              "        vertical-align: middle;\n",
              "    }\n",
              "\n",
              "    .dataframe tbody tr th {\n",
              "        vertical-align: top;\n",
              "    }\n",
              "\n",
              "    .dataframe thead th {\n",
              "        text-align: right;\n",
              "    }\n",
              "</style>\n",
              "<table border=\"1\" class=\"dataframe\">\n",
              "  <thead>\n",
              "    <tr style=\"text-align: right;\">\n",
              "      <th></th>\n",
              "      <th>행정구역</th>\n",
              "      <th>2019년02월_계_총인구수</th>\n",
              "      <th>2019년02월_계_연령구간인구수</th>\n",
              "      <th>2019년02월_계_0세</th>\n",
              "      <th>2019년02월_계_1세</th>\n",
              "      <th>2019년02월_계_2세</th>\n",
              "      <th>2019년02월_계_3세</th>\n",
              "      <th>2019년02월_계_4세</th>\n",
              "      <th>2019년02월_계_5세</th>\n",
              "      <th>2019년02월_계_6세</th>\n",
              "      <th>2019년02월_계_7세</th>\n",
              "      <th>2019년02월_계_8세</th>\n",
              "      <th>2019년02월_계_9세</th>\n",
              "      <th>2019년02월_계_10세</th>\n",
              "      <th>2019년02월_계_11세</th>\n",
              "      <th>2019년02월_계_12세</th>\n",
              "      <th>2019년02월_계_13세</th>\n",
              "      <th>2019년02월_계_14세</th>\n",
              "      <th>2019년02월_계_15세</th>\n",
              "      <th>2019년02월_계_16세</th>\n",
              "      <th>2019년02월_계_17세</th>\n",
              "      <th>2019년02월_계_18세</th>\n",
              "      <th>2019년02월_계_19세</th>\n",
              "      <th>2019년02월_계_20세</th>\n",
              "      <th>2019년02월_계_21세</th>\n",
              "      <th>2019년02월_계_22세</th>\n",
              "      <th>2019년02월_계_23세</th>\n",
              "      <th>2019년02월_계_24세</th>\n",
              "      <th>2019년02월_계_25세</th>\n",
              "      <th>2019년02월_계_26세</th>\n",
              "      <th>2019년02월_계_27세</th>\n",
              "      <th>2019년02월_계_28세</th>\n",
              "      <th>2019년02월_계_29세</th>\n",
              "      <th>2019년02월_계_30세</th>\n",
              "      <th>2019년02월_계_31세</th>\n",
              "      <th>2019년02월_계_32세</th>\n",
              "      <th>2019년02월_계_33세</th>\n",
              "      <th>2019년02월_계_34세</th>\n",
              "      <th>2019년02월_계_35세</th>\n",
              "      <th>2019년02월_계_36세</th>\n",
              "      <th>...</th>\n",
              "      <th>2019년02월_계_61세</th>\n",
              "      <th>2019년02월_계_62세</th>\n",
              "      <th>2019년02월_계_63세</th>\n",
              "      <th>2019년02월_계_64세</th>\n",
              "      <th>2019년02월_계_65세</th>\n",
              "      <th>2019년02월_계_66세</th>\n",
              "      <th>2019년02월_계_67세</th>\n",
              "      <th>2019년02월_계_68세</th>\n",
              "      <th>2019년02월_계_69세</th>\n",
              "      <th>2019년02월_계_70세</th>\n",
              "      <th>2019년02월_계_71세</th>\n",
              "      <th>2019년02월_계_72세</th>\n",
              "      <th>2019년02월_계_73세</th>\n",
              "      <th>2019년02월_계_74세</th>\n",
              "      <th>2019년02월_계_75세</th>\n",
              "      <th>2019년02월_계_76세</th>\n",
              "      <th>2019년02월_계_77세</th>\n",
              "      <th>2019년02월_계_78세</th>\n",
              "      <th>2019년02월_계_79세</th>\n",
              "      <th>2019년02월_계_80세</th>\n",
              "      <th>2019년02월_계_81세</th>\n",
              "      <th>2019년02월_계_82세</th>\n",
              "      <th>2019년02월_계_83세</th>\n",
              "      <th>2019년02월_계_84세</th>\n",
              "      <th>2019년02월_계_85세</th>\n",
              "      <th>2019년02월_계_86세</th>\n",
              "      <th>2019년02월_계_87세</th>\n",
              "      <th>2019년02월_계_88세</th>\n",
              "      <th>2019년02월_계_89세</th>\n",
              "      <th>2019년02월_계_90세</th>\n",
              "      <th>2019년02월_계_91세</th>\n",
              "      <th>2019년02월_계_92세</th>\n",
              "      <th>2019년02월_계_93세</th>\n",
              "      <th>2019년02월_계_94세</th>\n",
              "      <th>2019년02월_계_95세</th>\n",
              "      <th>2019년02월_계_96세</th>\n",
              "      <th>2019년02월_계_97세</th>\n",
              "      <th>2019년02월_계_98세</th>\n",
              "      <th>2019년02월_계_99세</th>\n",
              "      <th>2019년02월_계_100세 이상</th>\n",
              "    </tr>\n",
              "  </thead>\n",
              "  <tbody>\n",
              "    <tr>\n",
              "      <th>278</th>\n",
              "      <td>서울특별시 구로구 신도림동(1153051000)</td>\n",
              "      <td>37,268</td>\n",
              "      <td>37,268</td>\n",
              "      <td>326</td>\n",
              "      <td>334</td>\n",
              "      <td>406</td>\n",
              "      <td>413</td>\n",
              "      <td>389</td>\n",
              "      <td>408</td>\n",
              "      <td>417</td>\n",
              "      <td>434</td>\n",
              "      <td>411</td>\n",
              "      <td>387</td>\n",
              "      <td>420</td>\n",
              "      <td>383</td>\n",
              "      <td>354</td>\n",
              "      <td>357</td>\n",
              "      <td>340</td>\n",
              "      <td>338</td>\n",
              "      <td>349</td>\n",
              "      <td>339</td>\n",
              "      <td>407</td>\n",
              "      <td>380</td>\n",
              "      <td>390</td>\n",
              "      <td>453</td>\n",
              "      <td>424</td>\n",
              "      <td>516</td>\n",
              "      <td>451</td>\n",
              "      <td>466</td>\n",
              "      <td>448</td>\n",
              "      <td>484</td>\n",
              "      <td>471</td>\n",
              "      <td>476</td>\n",
              "      <td>558</td>\n",
              "      <td>541</td>\n",
              "      <td>579</td>\n",
              "      <td>619</td>\n",
              "      <td>638</td>\n",
              "      <td>740</td>\n",
              "      <td>756</td>\n",
              "      <td>...</td>\n",
              "      <td>456</td>\n",
              "      <td>426</td>\n",
              "      <td>497</td>\n",
              "      <td>379</td>\n",
              "      <td>384</td>\n",
              "      <td>399</td>\n",
              "      <td>279</td>\n",
              "      <td>289</td>\n",
              "      <td>276</td>\n",
              "      <td>268</td>\n",
              "      <td>271</td>\n",
              "      <td>223</td>\n",
              "      <td>170</td>\n",
              "      <td>150</td>\n",
              "      <td>154</td>\n",
              "      <td>177</td>\n",
              "      <td>140</td>\n",
              "      <td>126</td>\n",
              "      <td>114</td>\n",
              "      <td>121</td>\n",
              "      <td>97</td>\n",
              "      <td>86</td>\n",
              "      <td>80</td>\n",
              "      <td>59</td>\n",
              "      <td>48</td>\n",
              "      <td>44</td>\n",
              "      <td>43</td>\n",
              "      <td>28</td>\n",
              "      <td>29</td>\n",
              "      <td>22</td>\n",
              "      <td>15</td>\n",
              "      <td>13</td>\n",
              "      <td>12</td>\n",
              "      <td>5</td>\n",
              "      <td>8</td>\n",
              "      <td>5</td>\n",
              "      <td>4</td>\n",
              "      <td>2</td>\n",
              "      <td>3</td>\n",
              "      <td>7</td>\n",
              "    </tr>\n",
              "  </tbody>\n",
              "</table>\n",
              "<p>1 rows × 104 columns</p>\n",
              "</div>"
            ],
            "text/plain": [
              "                           행정구역  ... 2019년02월_계_100세 이상\n",
              "278  서울특별시 구로구 신도림동(1153051000)  ...                  7\n",
              "\n",
              "[1 rows x 104 columns]"
            ]
          },
          "metadata": {
            "tags": []
          },
          "execution_count": 5
        }
      ]
    },
    {
      "cell_type": "code",
      "metadata": {
        "colab": {
          "base_uri": "https://localhost:8080/",
          "height": 195
        },
        "id": "njmf01nZq4O7",
        "outputId": "0aca7dc5-649b-4f1c-daeb-afc507cbfb16"
      },
      "source": [
        "age = pd.read_csv('/content/drive/MyDrive/파이썬 데이터분석 연습/age.csv', encoding=\"cp949\")\r\n",
        "age_sindorim = age[age[\"행정구역\"].str.contains('신도림')].copy()\r\n",
        "age_sindorim = age_sindorim.drop([\"2019년02월_계_총인구수\", \"2019년02월_계_연령구간인구수\",\"행정구역\"], axis=1)\r\n",
        "data = age_sindorim.transpose()\r\n",
        "data = data.reset_index().copy()\r\n",
        "data.head()"
      ],
      "execution_count": 22,
      "outputs": [
        {
          "output_type": "execute_result",
          "data": {
            "text/html": [
              "<div>\n",
              "<style scoped>\n",
              "    .dataframe tbody tr th:only-of-type {\n",
              "        vertical-align: middle;\n",
              "    }\n",
              "\n",
              "    .dataframe tbody tr th {\n",
              "        vertical-align: top;\n",
              "    }\n",
              "\n",
              "    .dataframe thead th {\n",
              "        text-align: right;\n",
              "    }\n",
              "</style>\n",
              "<table border=\"1\" class=\"dataframe\">\n",
              "  <thead>\n",
              "    <tr style=\"text-align: right;\">\n",
              "      <th></th>\n",
              "      <th>index</th>\n",
              "      <th>278</th>\n",
              "    </tr>\n",
              "  </thead>\n",
              "  <tbody>\n",
              "    <tr>\n",
              "      <th>0</th>\n",
              "      <td>2019년02월_계_0세</td>\n",
              "      <td>326</td>\n",
              "    </tr>\n",
              "    <tr>\n",
              "      <th>1</th>\n",
              "      <td>2019년02월_계_1세</td>\n",
              "      <td>334</td>\n",
              "    </tr>\n",
              "    <tr>\n",
              "      <th>2</th>\n",
              "      <td>2019년02월_계_2세</td>\n",
              "      <td>406</td>\n",
              "    </tr>\n",
              "    <tr>\n",
              "      <th>3</th>\n",
              "      <td>2019년02월_계_3세</td>\n",
              "      <td>413</td>\n",
              "    </tr>\n",
              "    <tr>\n",
              "      <th>4</th>\n",
              "      <td>2019년02월_계_4세</td>\n",
              "      <td>389</td>\n",
              "    </tr>\n",
              "  </tbody>\n",
              "</table>\n",
              "</div>"
            ],
            "text/plain": [
              "           index  278\n",
              "0  2019년02월_계_0세  326\n",
              "1  2019년02월_계_1세  334\n",
              "2  2019년02월_계_2세  406\n",
              "3  2019년02월_계_3세  413\n",
              "4  2019년02월_계_4세  389"
            ]
          },
          "metadata": {
            "tags": []
          },
          "execution_count": 22
        }
      ]
    },
    {
      "cell_type": "code",
      "metadata": {
        "id": "qmxPnqQy1PdC"
      },
      "source": [
        "data = age_sindorim.transpose()\r\n",
        "data[\"나이\"] = list(age_sindorim.columns)\r\n",
        "data = data.reset_index().copy()"
      ],
      "execution_count": 23,
      "outputs": []
    },
    {
      "cell_type": "code",
      "metadata": {
        "colab": {
          "base_uri": "https://localhost:8080/"
        },
        "id": "qpkkAR9Xs4rR",
        "outputId": "f26fbebf-bc26-469f-c598-2b5fe4191f67"
      },
      "source": [
        "list(age_sindorim.columns)"
      ],
      "execution_count": 24,
      "outputs": [
        {
          "output_type": "execute_result",
          "data": {
            "text/plain": [
              "['2019년02월_계_0세',\n",
              " '2019년02월_계_1세',\n",
              " '2019년02월_계_2세',\n",
              " '2019년02월_계_3세',\n",
              " '2019년02월_계_4세',\n",
              " '2019년02월_계_5세',\n",
              " '2019년02월_계_6세',\n",
              " '2019년02월_계_7세',\n",
              " '2019년02월_계_8세',\n",
              " '2019년02월_계_9세',\n",
              " '2019년02월_계_10세',\n",
              " '2019년02월_계_11세',\n",
              " '2019년02월_계_12세',\n",
              " '2019년02월_계_13세',\n",
              " '2019년02월_계_14세',\n",
              " '2019년02월_계_15세',\n",
              " '2019년02월_계_16세',\n",
              " '2019년02월_계_17세',\n",
              " '2019년02월_계_18세',\n",
              " '2019년02월_계_19세',\n",
              " '2019년02월_계_20세',\n",
              " '2019년02월_계_21세',\n",
              " '2019년02월_계_22세',\n",
              " '2019년02월_계_23세',\n",
              " '2019년02월_계_24세',\n",
              " '2019년02월_계_25세',\n",
              " '2019년02월_계_26세',\n",
              " '2019년02월_계_27세',\n",
              " '2019년02월_계_28세',\n",
              " '2019년02월_계_29세',\n",
              " '2019년02월_계_30세',\n",
              " '2019년02월_계_31세',\n",
              " '2019년02월_계_32세',\n",
              " '2019년02월_계_33세',\n",
              " '2019년02월_계_34세',\n",
              " '2019년02월_계_35세',\n",
              " '2019년02월_계_36세',\n",
              " '2019년02월_계_37세',\n",
              " '2019년02월_계_38세',\n",
              " '2019년02월_계_39세',\n",
              " '2019년02월_계_40세',\n",
              " '2019년02월_계_41세',\n",
              " '2019년02월_계_42세',\n",
              " '2019년02월_계_43세',\n",
              " '2019년02월_계_44세',\n",
              " '2019년02월_계_45세',\n",
              " '2019년02월_계_46세',\n",
              " '2019년02월_계_47세',\n",
              " '2019년02월_계_48세',\n",
              " '2019년02월_계_49세',\n",
              " '2019년02월_계_50세',\n",
              " '2019년02월_계_51세',\n",
              " '2019년02월_계_52세',\n",
              " '2019년02월_계_53세',\n",
              " '2019년02월_계_54세',\n",
              " '2019년02월_계_55세',\n",
              " '2019년02월_계_56세',\n",
              " '2019년02월_계_57세',\n",
              " '2019년02월_계_58세',\n",
              " '2019년02월_계_59세',\n",
              " '2019년02월_계_60세',\n",
              " '2019년02월_계_61세',\n",
              " '2019년02월_계_62세',\n",
              " '2019년02월_계_63세',\n",
              " '2019년02월_계_64세',\n",
              " '2019년02월_계_65세',\n",
              " '2019년02월_계_66세',\n",
              " '2019년02월_계_67세',\n",
              " '2019년02월_계_68세',\n",
              " '2019년02월_계_69세',\n",
              " '2019년02월_계_70세',\n",
              " '2019년02월_계_71세',\n",
              " '2019년02월_계_72세',\n",
              " '2019년02월_계_73세',\n",
              " '2019년02월_계_74세',\n",
              " '2019년02월_계_75세',\n",
              " '2019년02월_계_76세',\n",
              " '2019년02월_계_77세',\n",
              " '2019년02월_계_78세',\n",
              " '2019년02월_계_79세',\n",
              " '2019년02월_계_80세',\n",
              " '2019년02월_계_81세',\n",
              " '2019년02월_계_82세',\n",
              " '2019년02월_계_83세',\n",
              " '2019년02월_계_84세',\n",
              " '2019년02월_계_85세',\n",
              " '2019년02월_계_86세',\n",
              " '2019년02월_계_87세',\n",
              " '2019년02월_계_88세',\n",
              " '2019년02월_계_89세',\n",
              " '2019년02월_계_90세',\n",
              " '2019년02월_계_91세',\n",
              " '2019년02월_계_92세',\n",
              " '2019년02월_계_93세',\n",
              " '2019년02월_계_94세',\n",
              " '2019년02월_계_95세',\n",
              " '2019년02월_계_96세',\n",
              " '2019년02월_계_97세',\n",
              " '2019년02월_계_98세',\n",
              " '2019년02월_계_99세',\n",
              " '2019년02월_계_100세 이상']"
            ]
          },
          "metadata": {
            "tags": []
          },
          "execution_count": 24
        }
      ]
    },
    {
      "cell_type": "code",
      "metadata": {
        "id": "FXBr_YBfy76_"
      },
      "source": [
        "data = data.drop([\"나이\"],axis=1)"
      ],
      "execution_count": 25,
      "outputs": []
    },
    {
      "cell_type": "code",
      "metadata": {
        "id": "wDH3fDQw2iXv"
      },
      "source": [
        "data.columns = [\"Age\", \"Frq\"]"
      ],
      "execution_count": 26,
      "outputs": []
    },
    {
      "cell_type": "code",
      "metadata": {
        "colab": {
          "base_uri": "https://localhost:8080/",
          "height": 195
        },
        "id": "5aGsmrFW3JEH",
        "outputId": "56c92a16-b9f1-4d3b-8550-2b6886eee545"
      },
      "source": [
        "data.head()"
      ],
      "execution_count": 27,
      "outputs": [
        {
          "output_type": "execute_result",
          "data": {
            "text/html": [
              "<div>\n",
              "<style scoped>\n",
              "    .dataframe tbody tr th:only-of-type {\n",
              "        vertical-align: middle;\n",
              "    }\n",
              "\n",
              "    .dataframe tbody tr th {\n",
              "        vertical-align: top;\n",
              "    }\n",
              "\n",
              "    .dataframe thead th {\n",
              "        text-align: right;\n",
              "    }\n",
              "</style>\n",
              "<table border=\"1\" class=\"dataframe\">\n",
              "  <thead>\n",
              "    <tr style=\"text-align: right;\">\n",
              "      <th></th>\n",
              "      <th>Age</th>\n",
              "      <th>Frq</th>\n",
              "    </tr>\n",
              "  </thead>\n",
              "  <tbody>\n",
              "    <tr>\n",
              "      <th>0</th>\n",
              "      <td>2019년02월_계_0세</td>\n",
              "      <td>326</td>\n",
              "    </tr>\n",
              "    <tr>\n",
              "      <th>1</th>\n",
              "      <td>2019년02월_계_1세</td>\n",
              "      <td>334</td>\n",
              "    </tr>\n",
              "    <tr>\n",
              "      <th>2</th>\n",
              "      <td>2019년02월_계_2세</td>\n",
              "      <td>406</td>\n",
              "    </tr>\n",
              "    <tr>\n",
              "      <th>3</th>\n",
              "      <td>2019년02월_계_3세</td>\n",
              "      <td>413</td>\n",
              "    </tr>\n",
              "    <tr>\n",
              "      <th>4</th>\n",
              "      <td>2019년02월_계_4세</td>\n",
              "      <td>389</td>\n",
              "    </tr>\n",
              "  </tbody>\n",
              "</table>\n",
              "</div>"
            ],
            "text/plain": [
              "             Age  Frq\n",
              "0  2019년02월_계_0세  326\n",
              "1  2019년02월_계_1세  334\n",
              "2  2019년02월_계_2세  406\n",
              "3  2019년02월_계_3세  413\n",
              "4  2019년02월_계_4세  389"
            ]
          },
          "metadata": {
            "tags": []
          },
          "execution_count": 27
        }
      ]
    },
    {
      "cell_type": "code",
      "metadata": {
        "id": "QnrLzReL5kQe"
      },
      "source": [
        "data[\"Frq\"] = data[\"Frq\"].astype('int')"
      ],
      "execution_count": 28,
      "outputs": []
    },
    {
      "cell_type": "code",
      "metadata": {
        "colab": {
          "base_uri": "https://localhost:8080/"
        },
        "id": "HewbtVMN5Wa-",
        "outputId": "0e070bd8-df5c-46df-ac38-bf0b6512ddd4"
      },
      "source": [
        "data.info()"
      ],
      "execution_count": 29,
      "outputs": [
        {
          "output_type": "stream",
          "text": [
            "<class 'pandas.core.frame.DataFrame'>\n",
            "RangeIndex: 101 entries, 0 to 100\n",
            "Data columns (total 2 columns):\n",
            " #   Column  Non-Null Count  Dtype \n",
            "---  ------  --------------  ----- \n",
            " 0   Age     101 non-null    object\n",
            " 1   Frq     101 non-null    int64 \n",
            "dtypes: int64(1), object(1)\n",
            "memory usage: 1.7+ KB\n"
          ],
          "name": "stdout"
        }
      ]
    },
    {
      "cell_type": "code",
      "metadata": {
        "colab": {
          "base_uri": "https://localhost:8080/",
          "height": 195
        },
        "id": "bw1DdxZ156E6",
        "outputId": "8029d3bf-6d1b-4fd5-cdae-558928f11bd3"
      },
      "source": [
        "data.head()"
      ],
      "execution_count": 30,
      "outputs": [
        {
          "output_type": "execute_result",
          "data": {
            "text/html": [
              "<div>\n",
              "<style scoped>\n",
              "    .dataframe tbody tr th:only-of-type {\n",
              "        vertical-align: middle;\n",
              "    }\n",
              "\n",
              "    .dataframe tbody tr th {\n",
              "        vertical-align: top;\n",
              "    }\n",
              "\n",
              "    .dataframe thead th {\n",
              "        text-align: right;\n",
              "    }\n",
              "</style>\n",
              "<table border=\"1\" class=\"dataframe\">\n",
              "  <thead>\n",
              "    <tr style=\"text-align: right;\">\n",
              "      <th></th>\n",
              "      <th>Age</th>\n",
              "      <th>Frq</th>\n",
              "    </tr>\n",
              "  </thead>\n",
              "  <tbody>\n",
              "    <tr>\n",
              "      <th>0</th>\n",
              "      <td>2019년02월_계_0세</td>\n",
              "      <td>326</td>\n",
              "    </tr>\n",
              "    <tr>\n",
              "      <th>1</th>\n",
              "      <td>2019년02월_계_1세</td>\n",
              "      <td>334</td>\n",
              "    </tr>\n",
              "    <tr>\n",
              "      <th>2</th>\n",
              "      <td>2019년02월_계_2세</td>\n",
              "      <td>406</td>\n",
              "    </tr>\n",
              "    <tr>\n",
              "      <th>3</th>\n",
              "      <td>2019년02월_계_3세</td>\n",
              "      <td>413</td>\n",
              "    </tr>\n",
              "    <tr>\n",
              "      <th>4</th>\n",
              "      <td>2019년02월_계_4세</td>\n",
              "      <td>389</td>\n",
              "    </tr>\n",
              "  </tbody>\n",
              "</table>\n",
              "</div>"
            ],
            "text/plain": [
              "             Age  Frq\n",
              "0  2019년02월_계_0세  326\n",
              "1  2019년02월_계_1세  334\n",
              "2  2019년02월_계_2세  406\n",
              "3  2019년02월_계_3세  413\n",
              "4  2019년02월_계_4세  389"
            ]
          },
          "metadata": {
            "tags": []
          },
          "execution_count": 30
        }
      ]
    },
    {
      "cell_type": "code",
      "metadata": {
        "colab": {
          "base_uri": "https://localhost:8080/",
          "height": 298
        },
        "id": "Qe9XHXwq57-Q",
        "outputId": "e2b5ec8a-b6ab-45a5-b107-1e59f640de1b"
      },
      "source": [
        "plt.figure(figsize=(15,4))\r\n",
        "sns.lineplot(data=data, x=\"Age\", y=\"Frq\")"
      ],
      "execution_count": 31,
      "outputs": [
        {
          "output_type": "execute_result",
          "data": {
            "text/plain": [
              "<matplotlib.axes._subplots.AxesSubplot at 0x7ff06e3d7a90>"
            ]
          },
          "metadata": {
            "tags": []
          },
          "execution_count": 31
        },
        {
          "output_type": "display_data",
          "data": {
            "image/png": "[encoded data removed]",
            "text/plain": [
              "<Figure size 1080x288 with 1 Axes>"
            ]
          },
          "metadata": {
            "tags": [],
            "image/png": {
              "width": 911,
              "height": 264
            },
            "needs_background": "light"
          }
        }
      ]
    },
    {
      "cell_type": "code",
      "metadata": {
        "id": "aCNjkN3X6HB9",
        "colab": {
          "base_uri": "https://localhost:8080/",
          "height": 195
        },
        "outputId": "e8a0c453-fcc4-48af-b07b-0bcfdae17346"
      },
      "source": [
        "data.head()"
      ],
      "execution_count": 32,
      "outputs": [
        {
          "output_type": "execute_result",
          "data": {
            "text/html": [
              "<div>\n",
              "<style scoped>\n",
              "    .dataframe tbody tr th:only-of-type {\n",
              "        vertical-align: middle;\n",
              "    }\n",
              "\n",
              "    .dataframe tbody tr th {\n",
              "        vertical-align: top;\n",
              "    }\n",
              "\n",
              "    .dataframe thead th {\n",
              "        text-align: right;\n",
              "    }\n",
              "</style>\n",
              "<table border=\"1\" class=\"dataframe\">\n",
              "  <thead>\n",
              "    <tr style=\"text-align: right;\">\n",
              "      <th></th>\n",
              "      <th>Age</th>\n",
              "      <th>Frq</th>\n",
              "    </tr>\n",
              "  </thead>\n",
              "  <tbody>\n",
              "    <tr>\n",
              "      <th>0</th>\n",
              "      <td>2019년02월_계_0세</td>\n",
              "      <td>326</td>\n",
              "    </tr>\n",
              "    <tr>\n",
              "      <th>1</th>\n",
              "      <td>2019년02월_계_1세</td>\n",
              "      <td>334</td>\n",
              "    </tr>\n",
              "    <tr>\n",
              "      <th>2</th>\n",
              "      <td>2019년02월_계_2세</td>\n",
              "      <td>406</td>\n",
              "    </tr>\n",
              "    <tr>\n",
              "      <th>3</th>\n",
              "      <td>2019년02월_계_3세</td>\n",
              "      <td>413</td>\n",
              "    </tr>\n",
              "    <tr>\n",
              "      <th>4</th>\n",
              "      <td>2019년02월_계_4세</td>\n",
              "      <td>389</td>\n",
              "    </tr>\n",
              "  </tbody>\n",
              "</table>\n",
              "</div>"
            ],
            "text/plain": [
              "             Age  Frq\n",
              "0  2019년02월_계_0세  326\n",
              "1  2019년02월_계_1세  334\n",
              "2  2019년02월_계_2세  406\n",
              "3  2019년02월_계_3세  413\n",
              "4  2019년02월_계_4세  389"
            ]
          },
          "metadata": {
            "tags": []
          },
          "execution_count": 32
        }
      ]
    },
    {
      "cell_type": "code",
      "metadata": {
        "colab": {
          "base_uri": "https://localhost:8080/"
        },
        "id": "O1EZOL_EG3U4",
        "outputId": "4ec0e2f8-e4b6-4d5f-c4a7-0eaa3451c503"
      },
      "source": [
        "list(np.array(range(101)))"
      ],
      "execution_count": null,
      "outputs": [
        {
          "output_type": "execute_result",
          "data": {
            "text/plain": [
              "[0,\n",
              " 1,\n",
              " 2,\n",
              " 3,\n",
              " 4,\n",
              " 5,\n",
              " 6,\n",
              " 7,\n",
              " 8,\n",
              " 9,\n",
              " 10,\n",
              " 11,\n",
              " 12,\n",
              " 13,\n",
              " 14,\n",
              " 15,\n",
              " 16,\n",
              " 17,\n",
              " 18,\n",
              " 19,\n",
              " 20,\n",
              " 21,\n",
              " 22,\n",
              " 23,\n",
              " 24,\n",
              " 25,\n",
              " 26,\n",
              " 27,\n",
              " 28,\n",
              " 29,\n",
              " 30,\n",
              " 31,\n",
              " 32,\n",
              " 33,\n",
              " 34,\n",
              " 35,\n",
              " 36,\n",
              " 37,\n",
              " 38,\n",
              " 39,\n",
              " 40,\n",
              " 41,\n",
              " 42,\n",
              " 43,\n",
              " 44,\n",
              " 45,\n",
              " 46,\n",
              " 47,\n",
              " 48,\n",
              " 49,\n",
              " 50,\n",
              " 51,\n",
              " 52,\n",
              " 53,\n",
              " 54,\n",
              " 55,\n",
              " 56,\n",
              " 57,\n",
              " 58,\n",
              " 59,\n",
              " 60,\n",
              " 61,\n",
              " 62,\n",
              " 63,\n",
              " 64,\n",
              " 65,\n",
              " 66,\n",
              " 67,\n",
              " 68,\n",
              " 69,\n",
              " 70,\n",
              " 71,\n",
              " 72,\n",
              " 73,\n",
              " 74,\n",
              " 75,\n",
              " 76,\n",
              " 77,\n",
              " 78,\n",
              " 79,\n",
              " 80,\n",
              " 81,\n",
              " 82,\n",
              " 83,\n",
              " 84,\n",
              " 85,\n",
              " 86,\n",
              " 87,\n",
              " 88,\n",
              " 89,\n",
              " 90,\n",
              " 91,\n",
              " 92,\n",
              " 93,\n",
              " 94,\n",
              " 95,\n",
              " 96,\n",
              " 97,\n",
              " 98,\n",
              " 99,\n",
              " 100]"
            ]
          },
          "metadata": {
            "tags": []
          },
          "execution_count": 134
        }
      ]
    },
    {
      "cell_type": "code",
      "metadata": {
        "id": "5zy7aRS_G7Cf"
      },
      "source": [
        "data[\"나이\"] = list(np.array(range(101)))"
      ],
      "execution_count": 33,
      "outputs": []
    },
    {
      "cell_type": "code",
      "metadata": {
        "colab": {
          "base_uri": "https://localhost:8080/",
          "height": 195
        },
        "id": "1cn0SSOAIAcA",
        "outputId": "566c0b1c-ddd2-4019-eee6-73de01cd0c3d"
      },
      "source": [
        "data.head()"
      ],
      "execution_count": 34,
      "outputs": [
        {
          "output_type": "execute_result",
          "data": {
            "text/html": [
              "<div>\n",
              "<style scoped>\n",
              "    .dataframe tbody tr th:only-of-type {\n",
              "        vertical-align: middle;\n",
              "    }\n",
              "\n",
              "    .dataframe tbody tr th {\n",
              "        vertical-align: top;\n",
              "    }\n",
              "\n",
              "    .dataframe thead th {\n",
              "        text-align: right;\n",
              "    }\n",
              "</style>\n",
              "<table border=\"1\" class=\"dataframe\">\n",
              "  <thead>\n",
              "    <tr style=\"text-align: right;\">\n",
              "      <th></th>\n",
              "      <th>Age</th>\n",
              "      <th>Frq</th>\n",
              "      <th>나이</th>\n",
              "    </tr>\n",
              "  </thead>\n",
              "  <tbody>\n",
              "    <tr>\n",
              "      <th>0</th>\n",
              "      <td>2019년02월_계_0세</td>\n",
              "      <td>326</td>\n",
              "      <td>0</td>\n",
              "    </tr>\n",
              "    <tr>\n",
              "      <th>1</th>\n",
              "      <td>2019년02월_계_1세</td>\n",
              "      <td>334</td>\n",
              "      <td>1</td>\n",
              "    </tr>\n",
              "    <tr>\n",
              "      <th>2</th>\n",
              "      <td>2019년02월_계_2세</td>\n",
              "      <td>406</td>\n",
              "      <td>2</td>\n",
              "    </tr>\n",
              "    <tr>\n",
              "      <th>3</th>\n",
              "      <td>2019년02월_계_3세</td>\n",
              "      <td>413</td>\n",
              "      <td>3</td>\n",
              "    </tr>\n",
              "    <tr>\n",
              "      <th>4</th>\n",
              "      <td>2019년02월_계_4세</td>\n",
              "      <td>389</td>\n",
              "      <td>4</td>\n",
              "    </tr>\n",
              "  </tbody>\n",
              "</table>\n",
              "</div>"
            ],
            "text/plain": [
              "             Age  Frq  나이\n",
              "0  2019년02월_계_0세  326   0\n",
              "1  2019년02월_계_1세  334   1\n",
              "2  2019년02월_계_2세  406   2\n",
              "3  2019년02월_계_3세  413   3\n",
              "4  2019년02월_계_4세  389   4"
            ]
          },
          "metadata": {
            "tags": []
          },
          "execution_count": 34
        }
      ]
    },
    {
      "cell_type": "code",
      "metadata": {
        "colab": {
          "base_uri": "https://localhost:8080/",
          "height": 298
        },
        "id": "YruQHCpDIB3G",
        "outputId": "3bdb845d-d941-44ca-a657-7b6538bf5c77"
      },
      "source": [
        "sns.lineplot(data=data, x=\"나이\", y=\"Frq\")"
      ],
      "execution_count": 35,
      "outputs": [
        {
          "output_type": "execute_result",
          "data": {
            "text/plain": [
              "<matplotlib.axes._subplots.AxesSubplot at 0x7ff06e280ac8>"
            ]
          },
          "metadata": {
            "tags": []
          },
          "execution_count": 35
        },
        {
          "output_type": "display_data",
          "data": {
            "image/png": "[encoded data removed]",
            "text/plain": [
              "<Figure size 432x288 with 1 Axes>"
            ]
          },
          "metadata": {
            "tags": [],
            "image/png": {
              "width": 388,
              "height": 264
            },
            "needs_background": "light"
          }
        }
      ]
    },
    {
      "cell_type": "code",
      "metadata": {
        "id": "PaHG5UfQIhBw",
        "colab": {
          "base_uri": "https://localhost:8080/",
          "height": 195
        },
        "outputId": "749c950e-da39-4c3e-b35c-da456966e855"
      },
      "source": [
        "data[\"month\"] = data[\"Age\"].astype('str').apply(lambda x : x[:4])\r\n",
        "data[\"나이2\"] = data[\"Age\"].astype('str').apply(lambda x : x[11:])\r\n",
        "data.head()"
      ],
      "execution_count": 51,
      "outputs": [
        {
          "output_type": "execute_result",
          "data": {
            "text/html": [
              "<div>\n",
              "<style scoped>\n",
              "    .dataframe tbody tr th:only-of-type {\n",
              "        vertical-align: middle;\n",
              "    }\n",
              "\n",
              "    .dataframe tbody tr th {\n",
              "        vertical-align: top;\n",
              "    }\n",
              "\n",
              "    .dataframe thead th {\n",
              "        text-align: right;\n",
              "    }\n",
              "</style>\n",
              "<table border=\"1\" class=\"dataframe\">\n",
              "  <thead>\n",
              "    <tr style=\"text-align: right;\">\n",
              "      <th></th>\n",
              "      <th>Age</th>\n",
              "      <th>Frq</th>\n",
              "      <th>나이</th>\n",
              "      <th>month</th>\n",
              "      <th>나아아이</th>\n",
              "      <th>나이2</th>\n",
              "    </tr>\n",
              "  </thead>\n",
              "  <tbody>\n",
              "    <tr>\n",
              "      <th>0</th>\n",
              "      <td>2019년02월_계_0세</td>\n",
              "      <td>326</td>\n",
              "      <td>0</td>\n",
              "      <td>2019</td>\n",
              "      <td>0세</td>\n",
              "      <td>0세</td>\n",
              "    </tr>\n",
              "    <tr>\n",
              "      <th>1</th>\n",
              "      <td>2019년02월_계_1세</td>\n",
              "      <td>334</td>\n",
              "      <td>1</td>\n",
              "      <td>2019</td>\n",
              "      <td>1세</td>\n",
              "      <td>1세</td>\n",
              "    </tr>\n",
              "    <tr>\n",
              "      <th>2</th>\n",
              "      <td>2019년02월_계_2세</td>\n",
              "      <td>406</td>\n",
              "      <td>2</td>\n",
              "      <td>2019</td>\n",
              "      <td>2세</td>\n",
              "      <td>2세</td>\n",
              "    </tr>\n",
              "    <tr>\n",
              "      <th>3</th>\n",
              "      <td>2019년02월_계_3세</td>\n",
              "      <td>413</td>\n",
              "      <td>3</td>\n",
              "      <td>2019</td>\n",
              "      <td>3세</td>\n",
              "      <td>3세</td>\n",
              "    </tr>\n",
              "    <tr>\n",
              "      <th>4</th>\n",
              "      <td>2019년02월_계_4세</td>\n",
              "      <td>389</td>\n",
              "      <td>4</td>\n",
              "      <td>2019</td>\n",
              "      <td>4세</td>\n",
              "      <td>4세</td>\n",
              "    </tr>\n",
              "  </tbody>\n",
              "</table>\n",
              "</div>"
            ],
            "text/plain": [
              "             Age  Frq  나이 month 나아아이 나이2\n",
              "0  2019년02월_계_0세  326   0  2019   0세  0세\n",
              "1  2019년02월_계_1세  334   1  2019   1세  1세\n",
              "2  2019년02월_계_2세  406   2  2019   2세  2세\n",
              "3  2019년02월_계_3세  413   3  2019   3세  3세\n",
              "4  2019년02월_계_4세  389   4  2019   4세  4세"
            ]
          },
          "metadata": {
            "tags": []
          },
          "execution_count": 51
        }
      ]
    },
    {
      "cell_type": "code",
      "metadata": {
        "id": "wOLNc0SZcJ67"
      },
      "source": [
        "data = data.drop([\"나아아이\"], axis=1)"
      ],
      "execution_count": 53,
      "outputs": []
    },
    {
      "cell_type": "code",
      "metadata": {
        "colab": {
          "base_uri": "https://localhost:8080/",
          "height": 77
        },
        "id": "tdKaoujweeUT",
        "outputId": "08b746fe-2440-4a5f-f741-2b1d0e8cfc1a"
      },
      "source": [
        "data.head(1)"
      ],
      "execution_count": 54,
      "outputs": [
        {
          "output_type": "execute_result",
          "data": {
            "text/html": [
              "<div>\n",
              "<style scoped>\n",
              "    .dataframe tbody tr th:only-of-type {\n",
              "        vertical-align: middle;\n",
              "    }\n",
              "\n",
              "    .dataframe tbody tr th {\n",
              "        vertical-align: top;\n",
              "    }\n",
              "\n",
              "    .dataframe thead th {\n",
              "        text-align: right;\n",
              "    }\n",
              "</style>\n",
              "<table border=\"1\" class=\"dataframe\">\n",
              "  <thead>\n",
              "    <tr style=\"text-align: right;\">\n",
              "      <th></th>\n",
              "      <th>Age</th>\n",
              "      <th>Frq</th>\n",
              "      <th>나이</th>\n",
              "      <th>month</th>\n",
              "      <th>나이2</th>\n",
              "    </tr>\n",
              "  </thead>\n",
              "  <tbody>\n",
              "    <tr>\n",
              "      <th>0</th>\n",
              "      <td>2019년02월_계_0세</td>\n",
              "      <td>326</td>\n",
              "      <td>0</td>\n",
              "      <td>2019</td>\n",
              "      <td>0세</td>\n",
              "    </tr>\n",
              "  </tbody>\n",
              "</table>\n",
              "</div>"
            ],
            "text/plain": [
              "             Age  Frq  나이 month 나이2\n",
              "0  2019년02월_계_0세  326   0  2019  0세"
            ]
          },
          "metadata": {
            "tags": []
          },
          "execution_count": 54
        }
      ]
    },
    {
      "cell_type": "code",
      "metadata": {
        "id": "9BLHZtwqgHbz"
      },
      "source": [
        "data = data[[\"나이\",\"나이2\",\"Age\",\"Frq\"]]"
      ],
      "execution_count": 59,
      "outputs": []
    },
    {
      "cell_type": "code",
      "metadata": {
        "colab": {
          "base_uri": "https://localhost:8080/",
          "height": 402
        },
        "id": "xdHGTwdmgdI9",
        "outputId": "d76de771-cf9a-4151-cf4c-26481428ce5f"
      },
      "source": [
        "data"
      ],
      "execution_count": 60,
      "outputs": [
        {
          "output_type": "execute_result",
          "data": {
            "text/html": [
              "<div>\n",
              "<style scoped>\n",
              "    .dataframe tbody tr th:only-of-type {\n",
              "        vertical-align: middle;\n",
              "    }\n",
              "\n",
              "    .dataframe tbody tr th {\n",
              "        vertical-align: top;\n",
              "    }\n",
              "\n",
              "    .dataframe thead th {\n",
              "        text-align: right;\n",
              "    }\n",
              "</style>\n",
              "<table border=\"1\" class=\"dataframe\">\n",
              "  <thead>\n",
              "    <tr style=\"text-align: right;\">\n",
              "      <th></th>\n",
              "      <th>나이</th>\n",
              "      <th>나이2</th>\n",
              "      <th>Age</th>\n",
              "      <th>Frq</th>\n",
              "    </tr>\n",
              "  </thead>\n",
              "  <tbody>\n",
              "    <tr>\n",
              "      <th>0</th>\n",
              "      <td>0</td>\n",
              "      <td>0세</td>\n",
              "      <td>2019년02월_계_0세</td>\n",
              "      <td>326</td>\n",
              "    </tr>\n",
              "    <tr>\n",
              "      <th>1</th>\n",
              "      <td>1</td>\n",
              "      <td>1세</td>\n",
              "      <td>2019년02월_계_1세</td>\n",
              "      <td>334</td>\n",
              "    </tr>\n",
              "    <tr>\n",
              "      <th>2</th>\n",
              "      <td>2</td>\n",
              "      <td>2세</td>\n",
              "      <td>2019년02월_계_2세</td>\n",
              "      <td>406</td>\n",
              "    </tr>\n",
              "    <tr>\n",
              "      <th>3</th>\n",
              "      <td>3</td>\n",
              "      <td>3세</td>\n",
              "      <td>2019년02월_계_3세</td>\n",
              "      <td>413</td>\n",
              "    </tr>\n",
              "    <tr>\n",
              "      <th>4</th>\n",
              "      <td>4</td>\n",
              "      <td>4세</td>\n",
              "      <td>2019년02월_계_4세</td>\n",
              "      <td>389</td>\n",
              "    </tr>\n",
              "    <tr>\n",
              "      <th>...</th>\n",
              "      <td>...</td>\n",
              "      <td>...</td>\n",
              "      <td>...</td>\n",
              "      <td>...</td>\n",
              "    </tr>\n",
              "    <tr>\n",
              "      <th>96</th>\n",
              "      <td>96</td>\n",
              "      <td>96세</td>\n",
              "      <td>2019년02월_계_96세</td>\n",
              "      <td>5</td>\n",
              "    </tr>\n",
              "    <tr>\n",
              "      <th>97</th>\n",
              "      <td>97</td>\n",
              "      <td>97세</td>\n",
              "      <td>2019년02월_계_97세</td>\n",
              "      <td>4</td>\n",
              "    </tr>\n",
              "    <tr>\n",
              "      <th>98</th>\n",
              "      <td>98</td>\n",
              "      <td>98세</td>\n",
              "      <td>2019년02월_계_98세</td>\n",
              "      <td>2</td>\n",
              "    </tr>\n",
              "    <tr>\n",
              "      <th>99</th>\n",
              "      <td>99</td>\n",
              "      <td>99세</td>\n",
              "      <td>2019년02월_계_99세</td>\n",
              "      <td>3</td>\n",
              "    </tr>\n",
              "    <tr>\n",
              "      <th>100</th>\n",
              "      <td>100</td>\n",
              "      <td>100세 이상</td>\n",
              "      <td>2019년02월_계_100세 이상</td>\n",
              "      <td>7</td>\n",
              "    </tr>\n",
              "  </tbody>\n",
              "</table>\n",
              "<p>101 rows × 4 columns</p>\n",
              "</div>"
            ],
            "text/plain": [
              "      나이      나이2                 Age  Frq\n",
              "0      0       0세       2019년02월_계_0세  326\n",
              "1      1       1세       2019년02월_계_1세  334\n",
              "2      2       2세       2019년02월_계_2세  406\n",
              "3      3       3세       2019년02월_계_3세  413\n",
              "4      4       4세       2019년02월_계_4세  389\n",
              "..   ...      ...                 ...  ...\n",
              "96    96      96세      2019년02월_계_96세    5\n",
              "97    97      97세      2019년02월_계_97세    4\n",
              "98    98      98세      2019년02월_계_98세    2\n",
              "99    99      99세      2019년02월_계_99세    3\n",
              "100  100  100세 이상  2019년02월_계_100세 이상    7\n",
              "\n",
              "[101 rows x 4 columns]"
            ]
          },
          "metadata": {
            "tags": []
          },
          "execution_count": 60
        }
      ]
    },
    {
      "cell_type": "code",
      "metadata": {
        "id": "xKMGNOVBhSfW"
      },
      "source": [
        ""
      ],
      "execution_count": null,
      "outputs": []
    }
  ]
}