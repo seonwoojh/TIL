{
  "nbformat": 4,
  "nbformat_minor": 0,
  "metadata": {
    "colab": {
      "name": "코로나 데이터분석 연습.ipynb",
      "provenance": [],
      "collapsed_sections": [],
      "authorship_tag": "ABX9TyOHyolcL6XmZ1b177394zMG",
      "include_colab_link": true
    },
    "kernelspec": {
      "display_name": "Python 3",
      "name": "python3"
    }
  },
  "cells": [
    {
      "cell_type": "markdown",
      "metadata": {
        "id": "view-in-github",
        "colab_type": "text"
      },
      "source": [
        "<a href=\"https://colab.research.google.com/github/swjh9523/Python_Tutorial/blob/master/%EC%BD%94%EB%A1%9C%EB%82%98_%EB%8D%B0%EC%9D%B4%ED%84%B0%EB%B6%84%EC%84%9D_%EC%97%B0%EC%8A%B5.ipynb\" target=\"_parent\"><img src=\"https://colab.research.google.com/assets/colab-badge.svg\" alt=\"Open In Colab\"/></a>"
      ]
    },
    {
      "cell_type": "markdown",
      "metadata": {
        "id": "iRJPiDHfDtUu"
      },
      "source": [
        "# 기본설정"
      ]
    },
    {
      "cell_type": "code",
      "metadata": {
        "id": "dSJe0bzYWDQk"
      },
      "source": [
        "import pandas as pd\r\n",
        "import numpy as np\r\n",
        "import matplotlib.pyplot as plt\r\n",
        "from sklearn.cluster import KMeans\r\n",
        "import datetime as dt\r\n",
        "import seaborn as sns\r\n",
        "import missingno\r\n",
        "import warnings\r\n",
        "warnings.filterwarnings(action='ignore')"
      ],
      "execution_count": null,
      "outputs": []
    },
    {
      "cell_type": "code",
      "metadata": {
        "colab": {
          "base_uri": "https://localhost:8080/"
        },
        "id": "-M9SOsbyWSrj",
        "outputId": "7882825b-3454-4e2f-e900-74c50aaadfe7"
      },
      "source": [
        "from google.colab import drive\r\n",
        "drive.mount('/content/drive')"
      ],
      "execution_count": null,
      "outputs": [
        {
          "output_type": "stream",
          "text": [
            "Drive already mounted at /content/drive; to attempt to forcibly remount, call drive.mount(\"/content/drive\", force_remount=True).\n"
          ],
          "name": "stdout"
        }
      ]
    },
    {
      "cell_type": "code",
      "metadata": {
        "colab": {
          "base_uri": "https://localhost:8080/",
          "height": 252
        },
        "id": "IbLwYIyhWf8j",
        "outputId": "55a143ca-1f38-4edd-d670-dfae44ee4df1"
      },
      "source": [
        "# 그래프 한글폰트 사용설정 in Colab\r\n",
        "import matplotlib as mpl\r\n",
        "import matplotlib.pyplot as plt\r\n",
        "import matplotlib.font_manager as fm\r\n",
        "\r\n",
        "%config InlineBackend.figure_format = 'retina'\r\n",
        "!apt -qq -y install fonts-nanum\r\n",
        "\r\n",
        "fontpath = '/content/drive/My Drive/파이썬/NanumGothic.ttf'\r\n",
        "font = fm.FontProperties(fname=fontpath, size=9)\r\n",
        "plt.rc('font', family='NanumBarunGothic') \r\n",
        "mpl.font_manager._rebuild()\r\n",
        "\r\n",
        "## Test\r\n",
        "plt.figure(figsize=(3,3))\r\n",
        "plt.text(0.5, 0.5, '한글 폰트 테스트 성공!!!', size=15)\r\n",
        "plt.show()"
      ],
      "execution_count": null,
      "outputs": [
        {
          "output_type": "stream",
          "text": [
            "fonts-nanum is already the newest version (20170925-1).\n",
            "0 upgraded, 0 newly installed, 0 to remove and 13 not upgraded.\n"
          ],
          "name": "stdout"
        },
        {
          "output_type": "display_data",
          "data": {
            "image/png": "[encoded data removed]",
            "text/plain": [
              "<Figure size 216x216 with 1 Axes>"
            ]
          },
          "metadata": {
            "tags": [],
            "image/png": {
              "width": 270,
              "height": 199
            },
            "needs_background": "light"
          }
        }
      ]
    },
    {
      "cell_type": "markdown",
      "metadata": {
        "id": "29GQInkbDzCr"
      },
      "source": [
        "## 전처리"
      ]
    },
    {
      "cell_type": "code",
      "metadata": {
        "id": "YvRlEpDbWtRD"
      },
      "source": [
        "card = pd.read_csv('/content/drive/MyDrive/공모전데이터파일/COVID-19/card_20200717.csv', encoding=\"UTF-8\")\r\n",
        "adstrd_master = pd.read_csv('/content/drive/MyDrive/공모전데이터파일/COVID-19/adstrd_master.csv', encoding=\"UTF-8\")\r\n",
        "fpopl = pd.read_csv('/content/drive/MyDrive/공모전데이터파일/COVID-19/fpopl.csv')\r\n",
        "delivery = pd.read_csv('/content/drive/MyDrive/공모전데이터파일/COVID-19/delivery.csv')"
      ],
      "execution_count": null,
      "outputs": []
    },
    {
      "cell_type": "code",
      "metadata": {
        "id": "OXqRts6nccYZ"
      },
      "source": [
        "card.head()"
      ],
      "execution_count": null,
      "outputs": []
    },
    {
      "cell_type": "code",
      "metadata": {
        "id": "hiOVCW4VhxEU"
      },
      "source": [
        "card.columns = [\"접수일자\",\"행정동 코드\", \"행정동 명\", \"업종 코드\", \"업종 명\", \"발생 건수\", \"발생 금액\"]\r\n",
        "card[\"접수일자\"] = card[\"접수일자\"].astype('str').apply(lambda x : x[:4] + '-' + x[4:6] + '-' + x[6:])\r\n",
        "adstrd_master.columns = [\"행정동 코드\", \"행정동\",\"광역시도\",\"시군구\"]"
      ],
      "execution_count": null,
      "outputs": []
    },
    {
      "cell_type": "code",
      "metadata": {
        "id": "2dbIOnJQaVv5"
      },
      "source": [
        "# 병합을 위한 글자길이 확인\r\n",
        "print(card[\"행정동 코드\"].astype('str').str.len())\r\n",
        "print(adstrd_master[\"행정동 코드\"].astype('str').str.len())\r\n",
        "\r\n",
        "# 데이터 병합을 위해 데이터 길이 맞추기\r\n",
        "adstrd_master[\"행정동 코드\"] = adstrd_master[\"행정동 코드\"].astype('int')\r\n",
        "adstrd_master[\"행정동 코드\"] = adstrd_master[\"행정동 코드\"].astype('str').apply(lambda x: x[0:] + '00').astype('int')\r\n",
        "\r\n",
        "# df로 병합하기(행정동 코드 기준 left)\r\n",
        "card2 = pd.merge(card, adstrd_master,on = '행정동 코드' ,how='left').copy()\r\n",
        "card2.head()\r\n"
      ],
      "execution_count": null,
      "outputs": []
    },
    {
      "cell_type": "code",
      "metadata": {
        "id": "zo4VrIy7j6_B"
      },
      "source": [
        "card2[~(card2[\"광역시도\"] == \"서울특별시\")] # 지역은 서울특별시로 한정\r\n",
        "\r\n",
        "card2 = card2.drop('행정동 코드', axis=1)"
      ],
      "execution_count": null,
      "outputs": []
    },
    {
      "cell_type": "code",
      "metadata": {
        "id": "aorFeL9Vnker"
      },
      "source": [
        "# 날짜별 업종별 발생 건수와 발생금액의 합\r\n",
        "\r\n",
        "card3 = card2.groupby(['접수일자','업종 명'])[[\"발생 건수\", \"발생 금액\"]].sum().reset_index()\r\n",
        "card3.head()"
      ],
      "execution_count": null,
      "outputs": []
    },
    {
      "cell_type": "code",
      "metadata": {
        "id": "VwUqvTu5ljLT"
      },
      "source": [
        "# 결측치 확인\r\n",
        "sns.set(font=\"NanumGothic\", \r\n",
        "         rc={\"axes.unicode_minus\":False},\r\n",
        "         style='darkgrid')\r\n",
        "missingno.matrix(card3)"
      ],
      "execution_count": null,
      "outputs": []
    },
    {
      "cell_type": "code",
      "metadata": {
        "id": "VtV-2wCaVEBt"
      },
      "source": [
        "import datetime as dt\r\n",
        "card_compare = card3.copy()\r\n",
        "card_compare = card_compare.groupby([\"접수일자\", \"업종 명\"]).mean().reset_index()\r\n",
        "\r\n",
        "card_compare[\"주\"] = pd.to_datetime(card_compare[\"접수일자\"]).dt.week\r\n",
        "card_compare.head()\r\n",
        "\r\n",
        "card_compare  = card_compare.groupby([\"업종 명\",\"주\"]).mean().reset_index()\r\n",
        "card_compare.head()"
      ],
      "execution_count": null,
      "outputs": []
    },
    {
      "cell_type": "code",
      "metadata": {
        "id": "O6jgohowoXIT"
      },
      "source": [
        "# import datetime as dt\r\n",
        "# card_compare[\"주\"] = pd.to_datetime(card_compare[\"발생 건수\"]).dt.week\r\n",
        "# card_compare = card_compare.groupby([\"업종 명\",\"주\"]).mean().reset_index()\r\n",
        "# card_compare.head()"
      ],
      "execution_count": null,
      "outputs": []
    },
    {
      "cell_type": "code",
      "metadata": {
        "id": "VzCAj-Ttzr6L"
      },
      "source": [
        "card_compare2 = card3.copy()\r\n",
        "card_compare2[\"일\"] = pd.to_datetime(card_compare2[\"접수일자\"]).dt.day\r\n",
        "card_compare2.groupby([\"업종 명\",\"일\"]).mean().reset_index()"
      ],
      "execution_count": null,
      "outputs": []
    },
    {
      "cell_type": "code",
      "metadata": {
        "id": "rzRvP6w8yH-b"
      },
      "source": [
        "fig, ax = plt.subplots(1,2,figsize=(14,5))\r\n",
        "\r\n",
        "ax[0].plot(card_compare2[card_compare2['업종 명'] == '인터넷종합Mall']['발생 건수'])\r\n",
        "ax[0].set_title(\"일별 인터넷종합Mall 발생 건수\", fontsize=15)\r\n",
        "ax[0].set_xticks([])\r\n",
        "ax[1].plot(card_compare[card_compare['업종 명'] == '인터넷종합Mall']['발생 건수'])\r\n",
        "ax[1].set_title(\"월별 인터넷종합Mall 발생 건수\", fontsize=15)   \r\n",
        "ax[1].set_xticks([])\r\n",
        "plt.tight_layout()\r\n"
      ],
      "execution_count": null,
      "outputs": []
    },
    {
      "cell_type": "code",
      "metadata": {
        "id": "7b91s6HFBtNa"
      },
      "source": [
        "date = list(card['접수일자'].unique())\r\n",
        "category = list(card['업종 명'].unique())\r\n",
        "item = [date, category]\r\n",
        "\r\n",
        "from itertools import product\r\n",
        "card_temp = pd.DataFrame(product(*item), columns= ['접수일자','업종 명'])\r\n",
        "\r\n",
        "card_to_temp = pd.merge(card3,card_temp,on=['접수일자','업종 명'], how='right')\r\n",
        "card_to_temp.head()\r\n",
        "card_to_temp = card_to_temp.fillna(0)\r\n",
        "card_to_temp = card_to_temp.groupby(['접수일자','업종 명']).mean().reset_index()\r\n",
        "card_to_temp.head()\r\n",
        "card_to_temp[card_to_temp[[\"발생 건수\", \"발생 금액\"]].isin([0])].count()"
      ],
      "execution_count": null,
      "outputs": []
    },
    {
      "cell_type": "code",
      "metadata": {
        "id": "AH36u4lahlaP"
      },
      "source": [
        "card_to_temp.shape"
      ],
      "execution_count": null,
      "outputs": []
    },
    {
      "cell_type": "code",
      "metadata": {
        "id": "-YcAMriaai3U"
      },
      "source": [
        "corr = pd.pivot(card_compare[~card_compare[\"주\"].isin([1,2,3])], index=\"주\", columns=\"업종 명\", values=\"발생 건수\").corr()\r\n",
        "temp = corr.isnull().sum()\r\n",
        "temp.head()"
      ],
      "execution_count": null,
      "outputs": []
    },
    {
      "cell_type": "code",
      "metadata": {
        "id": "0ZzJcNcdkGbR"
      },
      "source": [
        "temp\r\n",
        "kind = list(card_compare['업종 명'].unique())"
      ],
      "execution_count": null,
      "outputs": []
    },
    {
      "cell_type": "code",
      "metadata": {
        "id": "Lhhvcrtrlrav"
      },
      "source": [
        "card_compare = card_compare[~card_compare[\"업종 명\"].isin(list(temp.index))]"
      ],
      "execution_count": null,
      "outputs": []
    },
    {
      "cell_type": "code",
      "metadata": {
        "id": "SrBWm0r_kVyS"
      },
      "source": [
        "import scipy.cluster.hierarchy as spc\r\n",
        "def hierarchical_clustering(correlation, method, param): \r\n",
        "    pdist = spc.distance.pdist(correlation)\r\n",
        "    linkage = spc.linkage(pdist, method=method)\r\n",
        "    idx = spc.fcluster(linkage, param * pdist.max(), 'distance')\r\n",
        "    cluster = pd.DataFrame({'업종 명':correlation.index, '그룹':idx})   \r\n",
        "    return cluster"
      ],
      "execution_count": null,
      "outputs": []
    },
    {
      "cell_type": "code",
      "metadata": {
        "id": "U9KmwslXkqhQ"
      },
      "source": [
        "#업종별로 MinMax Scaling하는 함수\r\n",
        "def get_scale(Data, target1, target2):\r\n",
        "    Data[target1 + \"_sc\"] = np.zeros(Data.shape[0])\r\n",
        "    Data[target1 + \"_sc\"] = np.zeros(Data.shape[0])\r\n",
        "    \r\n",
        "    for kind in Data['업종 명'].unique():\r\n",
        "        temp = Data[Data['업종 명'] == kind].copy()\r\n",
        "        temp[target1 + \"_sc\"]  = temp[target1].transform(lambda x:(x-x.min())/(x.max()-x.min()))\r\n",
        "        temp[target2 + \"_sc\"]  = temp[target2].transform(lambda x:(x-x.min())/(x.max()-x.min()))\r\n",
        "        index = temp.index\r\n",
        "        Data.loc[index,target1 + \"_sc\"] = temp[target1 + \"_sc\"]\r\n",
        "        Data.loc[index,target2 + \"_sc\"] = temp[target2 + \"_sc\"]\r\n",
        "    \r\n",
        "    return Data"
      ],
      "execution_count": null,
      "outputs": []
    },
    {
      "cell_type": "code",
      "metadata": {
        "id": "g8xj7WJcksqZ"
      },
      "source": [
        "cluster = hierarchical_clustering(corr, 'complete', 0.45)"
      ],
      "execution_count": null,
      "outputs": []
    },
    {
      "cell_type": "code",
      "metadata": {
        "id": "dgGIrqZip6mb"
      },
      "source": [
        "card_compare = get_scale(card_compare, \"발생 금액\", \"발생 건수\")"
      ],
      "execution_count": null,
      "outputs": []
    },
    {
      "cell_type": "code",
      "metadata": {
        "id": "SyI6oMQVqftI"
      },
      "source": [
        "fig,ax = plt.subplots(3,1,figsize=(20,10))\r\n",
        "for num,i in enumerate([10,11,12]):\r\n",
        "    cluster_kind = list(cluster[cluster['그룹']==i]['업종 명'])\r\n",
        "    temp = card_compare[card_compare['업종 명'].isin(cluster_kind)]\r\n",
        "    sns.lineplot(temp['주'],temp['발생 건수_sc'],hue=temp['업종 명'],ax=ax[num])\r\n",
        "    ax[num].legend().set_visible(False); ax[num].set_xlabel('')\r\n",
        "    ax[num].set_title(i, fontsize=16)"
      ],
      "execution_count": null,
      "outputs": []
    },
    {
      "cell_type": "code",
      "metadata": {
        "id": "JsaP5OdBtPNw"
      },
      "source": [
        "plt.figure(figsize=(10,4))\r\n",
        "sns.lineplot(temp['주'],temp['발생 건수_sc'],hue=temp['업종 명'])"
      ],
      "execution_count": null,
      "outputs": []
    },
    {
      "cell_type": "code",
      "metadata": {
        "id": "0O92m9P3xYc4"
      },
      "source": [
        "from scipy.cluster.hierarchy import dendrogram, linkage\r\n",
        "import plotly.figure_factory as ff\r\n",
        "corr_ma2 = pd.pivot(card_compare[['업종 명','주', \"발생 건수\"]], index='주', columns='업종 명', values='발생 건수').corr()\r\n",
        "pdist = spc.distance.pdist(corr_ma2)\r\n",
        "linked = linkage(pdist, 'ward')\r\n",
        "\r\n",
        "fig = ff.create_dendrogram(linked, color_threshold=125)\r\n",
        "fig.update_layout(width=800, height=500)\r\n",
        "fig.show()"
      ],
      "execution_count": null,
      "outputs": []
    }
  ]
}