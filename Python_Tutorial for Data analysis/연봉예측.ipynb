{
  "nbformat": 4,
  "nbformat_minor": 0,
  "metadata": {
    "colab": {
      "name": "연봉예측.ipynb",
      "provenance": [],
      "authorship_tag": "ABX9TyOZAZayt+55TurfHzDW/XPR",
      "include_colab_link": true
    },
    "kernelspec": {
      "name": "python3",
      "display_name": "Python 3"
    }
  },
  "cells": [
    {
      "cell_type": "markdown",
      "metadata": {
        "id": "view-in-github",
        "colab_type": "text"
      },
      "source": [
        "<a href=\"https://colab.research.google.com/github/swjh9523/Python_Tutorial/blob/master/%EC%97%B0%EB%B4%89%EC%98%88%EC%B8%A1.ipynb\" target=\"_parent\"><img src=\"https://colab.research.google.com/assets/colab-badge.svg\" alt=\"Open In Colab\"/></a>"
      ]
    },
    {
      "cell_type": "code",
      "metadata": {
        "id": "MVz4Z9hTxRH2"
      },
      "source": [
        "import pandas as pd\r\n",
        "import numpy as np\r\n",
        "import matplotlib.pyplot as plt\r\n",
        "import seaborn as sns\r\n",
        "from sklearn import linear_model\r\n",
        "from sklearn.model_selection import train_test_split\r\n",
        "from sklearn.metrics import mean_squared_error\r\n",
        "from math import sqrt\r\n",
        "import missingno\r\n",
        "import warnings\r\n",
        "warnings.filterwarnings(action='ignore')"
      ],
      "execution_count": 1,
      "outputs": []
    },
    {
      "cell_type": "code",
      "metadata": {
        "colab": {
          "base_uri": "https://localhost:8080/"
        },
        "id": "x4BC44UayH5C",
        "outputId": "085b4f74-e9f8-426a-89c8-196f0a4e048d"
      },
      "source": [
        "from google.colab import drive\r\n",
        "drive.mount('/content/drive')"
      ],
      "execution_count": 2,
      "outputs": [
        {
          "output_type": "stream",
          "text": [
            "Drive already mounted at /content/drive; to attempt to forcibly remount, call drive.mount(\"/content/drive\", force_remount=True).\n"
          ],
          "name": "stdout"
        }
      ]
    },
    {
      "cell_type": "code",
      "metadata": {
        "colab": {
          "base_uri": "https://localhost:8080/",
          "height": 254
        },
        "id": "bxCnqyBJyJ-_",
        "outputId": "7909ebfd-77fb-4285-b771-0e1a30c554b5"
      },
      "source": [
        "# 그래프 한글폰트 사용설정 in Colab\r\n",
        "import matplotlib as mpl\r\n",
        "import matplotlib.pyplot as plt\r\n",
        "import matplotlib.font_manager as fm\r\n",
        "\r\n",
        "%config InlineBackend.figure_format = 'retina'\r\n",
        "!apt -qq -y install fonts-nanum\r\n",
        "\r\n",
        "fontpath = '/content/drive/My Drive/파이썬/NanumGothic.ttf'\r\n",
        "font = fm.FontProperties(fname=fontpath, size=9)\r\n",
        "plt.rc('font', family='NanumBarunGothic') \r\n",
        "mpl.font_manager._rebuild()\r\n",
        "\r\n",
        "## Test\r\n",
        "plt.figure(figsize=(3,3))\r\n",
        "plt.text(0.5, 0.5, '한글 폰트 테스트 성공!!!', size=15)\r\n",
        "plt.show()"
      ],
      "execution_count": 56,
      "outputs": [
        {
          "output_type": "stream",
          "text": [
            "fonts-nanum is already the newest version (20170925-1).\n",
            "0 upgraded, 0 newly installed, 0 to remove and 13 not upgraded.\n"
          ],
          "name": "stdout"
        },
        {
          "output_type": "display_data",
          "data": {
            "image/png": "[encoded data removed]",
            "text/plain": [
              "<Figure size 216x216 with 1 Axes>"
            ]
          },
          "metadata": {
            "tags": [],
            "image/png": {
              "width": 273,
              "height": 202
            }
          }
        }
      ]
    },
    {
      "cell_type": "code",
      "metadata": {
        "id": "_HFk2WigzmPT"
      },
      "source": [
        "picher = pd.read_csv('/content/drive/MyDrive/데이터파일/picher_stats_2017.csv')"
      ],
      "execution_count": 51,
      "outputs": []
    },
    {
      "cell_type": "code",
      "metadata": {
        "colab": {
          "base_uri": "https://localhost:8080/"
        },
        "id": "8LaAiycD-ZLt",
        "outputId": "e92a514a-fe5e-4ec2-d56a-95b16249a1af"
      },
      "source": [
        "picher.info()"
      ],
      "execution_count": 52,
      "outputs": [
        {
          "output_type": "stream",
          "text": [
            "<class 'pandas.core.frame.DataFrame'>\n",
            "RangeIndex: 152 entries, 0 to 151\n",
            "Data columns (total 22 columns):\n",
            " #   Column    Non-Null Count  Dtype  \n",
            "---  ------    --------------  -----  \n",
            " 0   선수명       152 non-null    object \n",
            " 1   팀명        152 non-null    object \n",
            " 2   승         152 non-null    int64  \n",
            " 3   패         152 non-null    int64  \n",
            " 4   세         152 non-null    int64  \n",
            " 5   홀드        152 non-null    int64  \n",
            " 6   블론        152 non-null    int64  \n",
            " 7   경기        152 non-null    int64  \n",
            " 8   선발        152 non-null    int64  \n",
            " 9   이닝        152 non-null    float64\n",
            " 10  삼진/9      152 non-null    float64\n",
            " 11  볼넷/9      152 non-null    float64\n",
            " 12  홈런/9      152 non-null    float64\n",
            " 13  BABIP     152 non-null    float64\n",
            " 14  LOB%      152 non-null    float64\n",
            " 15  ERA       152 non-null    float64\n",
            " 16  RA9-WAR   152 non-null    float64\n",
            " 17  FIP       152 non-null    float64\n",
            " 18  kFIP      152 non-null    float64\n",
            " 19  WAR       152 non-null    float64\n",
            " 20  연봉(2018)  152 non-null    int64  \n",
            " 21  연봉(2017)  152 non-null    int64  \n",
            "dtypes: float64(11), int64(9), object(2)\n",
            "memory usage: 26.2+ KB\n"
          ],
          "name": "stdout"
        }
      ]
    },
    {
      "cell_type": "code",
      "metadata": {
        "colab": {
          "base_uri": "https://localhost:8080/",
          "height": 394
        },
        "id": "XlDBdmLs0s5G",
        "outputId": "cf40e85b-d62f-4b18-a737-3c0b238d82a9"
      },
      "source": [
        "picher.columns = ['선수명', '팀명', '승', '패', '세이브', '홀드', '블론', '경기', '선발', '이닝', '삼진/9',\r\n",
        "       '볼넷/9', '홈런/9', 'BABIP', 'LOB%', 'ERA', 'RA9-WAR', 'FIP', 'kFIP', 'WAR',\r\n",
        "       '연봉(2018)', '연봉(2017)']\r\n",
        "picher.head()"
      ],
      "execution_count": 53,
      "outputs": [
        {
          "output_type": "execute_result",
          "data": {
            "text/html": [
              "<div>\n",
              "<style scoped>\n",
              "    .dataframe tbody tr th:only-of-type {\n",
              "        vertical-align: middle;\n",
              "    }\n",
              "\n",
              "    .dataframe tbody tr th {\n",
              "        vertical-align: top;\n",
              "    }\n",
              "\n",
              "    .dataframe thead th {\n",
              "        text-align: right;\n",
              "    }\n",
              "</style>\n",
              "<table border=\"1\" class=\"dataframe\">\n",
              "  <thead>\n",
              "    <tr style=\"text-align: right;\">\n",
              "      <th></th>\n",
              "      <th>선수명</th>\n",
              "      <th>팀명</th>\n",
              "      <th>승</th>\n",
              "      <th>패</th>\n",
              "      <th>세이브</th>\n",
              "      <th>홀드</th>\n",
              "      <th>블론</th>\n",
              "      <th>경기</th>\n",
              "      <th>선발</th>\n",
              "      <th>이닝</th>\n",
              "      <th>삼진/9</th>\n",
              "      <th>볼넷/9</th>\n",
              "      <th>홈런/9</th>\n",
              "      <th>BABIP</th>\n",
              "      <th>LOB%</th>\n",
              "      <th>ERA</th>\n",
              "      <th>RA9-WAR</th>\n",
              "      <th>FIP</th>\n",
              "      <th>kFIP</th>\n",
              "      <th>WAR</th>\n",
              "      <th>연봉(2018)</th>\n",
              "      <th>연봉(2017)</th>\n",
              "    </tr>\n",
              "  </thead>\n",
              "  <tbody>\n",
              "    <tr>\n",
              "      <th>0</th>\n",
              "      <td>켈리</td>\n",
              "      <td>SK</td>\n",
              "      <td>16</td>\n",
              "      <td>7</td>\n",
              "      <td>0</td>\n",
              "      <td>0</td>\n",
              "      <td>0</td>\n",
              "      <td>30</td>\n",
              "      <td>30</td>\n",
              "      <td>190.0</td>\n",
              "      <td>8.95</td>\n",
              "      <td>2.13</td>\n",
              "      <td>0.76</td>\n",
              "      <td>0.342</td>\n",
              "      <td>73.7</td>\n",
              "      <td>3.60</td>\n",
              "      <td>6.91</td>\n",
              "      <td>3.69</td>\n",
              "      <td>3.44</td>\n",
              "      <td>6.62</td>\n",
              "      <td>140000</td>\n",
              "      <td>85000</td>\n",
              "    </tr>\n",
              "    <tr>\n",
              "      <th>1</th>\n",
              "      <td>소사</td>\n",
              "      <td>LG</td>\n",
              "      <td>11</td>\n",
              "      <td>11</td>\n",
              "      <td>1</td>\n",
              "      <td>0</td>\n",
              "      <td>0</td>\n",
              "      <td>30</td>\n",
              "      <td>29</td>\n",
              "      <td>185.1</td>\n",
              "      <td>7.43</td>\n",
              "      <td>1.85</td>\n",
              "      <td>0.53</td>\n",
              "      <td>0.319</td>\n",
              "      <td>67.1</td>\n",
              "      <td>3.88</td>\n",
              "      <td>6.80</td>\n",
              "      <td>3.52</td>\n",
              "      <td>3.41</td>\n",
              "      <td>6.08</td>\n",
              "      <td>120000</td>\n",
              "      <td>50000</td>\n",
              "    </tr>\n",
              "    <tr>\n",
              "      <th>2</th>\n",
              "      <td>양현종</td>\n",
              "      <td>KIA</td>\n",
              "      <td>20</td>\n",
              "      <td>6</td>\n",
              "      <td>0</td>\n",
              "      <td>0</td>\n",
              "      <td>0</td>\n",
              "      <td>31</td>\n",
              "      <td>31</td>\n",
              "      <td>193.1</td>\n",
              "      <td>7.36</td>\n",
              "      <td>2.09</td>\n",
              "      <td>0.79</td>\n",
              "      <td>0.332</td>\n",
              "      <td>72.1</td>\n",
              "      <td>3.44</td>\n",
              "      <td>6.54</td>\n",
              "      <td>3.94</td>\n",
              "      <td>3.82</td>\n",
              "      <td>5.64</td>\n",
              "      <td>230000</td>\n",
              "      <td>150000</td>\n",
              "    </tr>\n",
              "    <tr>\n",
              "      <th>3</th>\n",
              "      <td>차우찬</td>\n",
              "      <td>LG</td>\n",
              "      <td>10</td>\n",
              "      <td>7</td>\n",
              "      <td>0</td>\n",
              "      <td>0</td>\n",
              "      <td>0</td>\n",
              "      <td>28</td>\n",
              "      <td>28</td>\n",
              "      <td>175.2</td>\n",
              "      <td>8.04</td>\n",
              "      <td>1.95</td>\n",
              "      <td>1.02</td>\n",
              "      <td>0.298</td>\n",
              "      <td>75.0</td>\n",
              "      <td>3.43</td>\n",
              "      <td>6.11</td>\n",
              "      <td>4.20</td>\n",
              "      <td>4.03</td>\n",
              "      <td>4.63</td>\n",
              "      <td>100000</td>\n",
              "      <td>100000</td>\n",
              "    </tr>\n",
              "    <tr>\n",
              "      <th>4</th>\n",
              "      <td>레일리</td>\n",
              "      <td>롯데</td>\n",
              "      <td>13</td>\n",
              "      <td>7</td>\n",
              "      <td>0</td>\n",
              "      <td>0</td>\n",
              "      <td>0</td>\n",
              "      <td>30</td>\n",
              "      <td>30</td>\n",
              "      <td>187.1</td>\n",
              "      <td>7.49</td>\n",
              "      <td>2.11</td>\n",
              "      <td>0.91</td>\n",
              "      <td>0.323</td>\n",
              "      <td>74.1</td>\n",
              "      <td>3.80</td>\n",
              "      <td>6.13</td>\n",
              "      <td>4.36</td>\n",
              "      <td>4.31</td>\n",
              "      <td>4.38</td>\n",
              "      <td>111000</td>\n",
              "      <td>85000</td>\n",
              "    </tr>\n",
              "  </tbody>\n",
              "</table>\n",
              "</div>"
            ],
            "text/plain": [
              "   선수명   팀명   승   패  세이브  홀드  ...  RA9-WAR   FIP  kFIP   WAR  연봉(2018)  연봉(2017)\n",
              "0   켈리   SK  16   7    0   0  ...     6.91  3.69  3.44  6.62    140000     85000\n",
              "1   소사   LG  11  11    1   0  ...     6.80  3.52  3.41  6.08    120000     50000\n",
              "2  양현종  KIA  20   6    0   0  ...     6.54  3.94  3.82  5.64    230000    150000\n",
              "3  차우찬   LG  10   7    0   0  ...     6.11  4.20  4.03  4.63    100000    100000\n",
              "4  레일리   롯데  13   7    0   0  ...     6.13  4.36  4.31  4.38    111000     85000\n",
              "\n",
              "[5 rows x 22 columns]"
            ]
          },
          "metadata": {
            "tags": []
          },
          "execution_count": 53
        }
      ]
    },
    {
      "cell_type": "code",
      "metadata": {
        "id": "n8ddXxGS_C99"
      },
      "source": [
        "profile = picher.profile_report()"
      ],
      "execution_count": 59,
      "outputs": []
    },
    {
      "cell_type": "code",
      "metadata": {
        "colab": {
          "base_uri": "https://localhost:8080/",
          "height": 369
        },
        "id": "EvFnsGejBfWS",
        "outputId": "48626090-3b74-4d07-bcf4-95cecb8c9c52"
      },
      "source": [
        "picher.boxplot('연봉(2018)')"
      ],
      "execution_count": 88,
      "outputs": [
        {
          "output_type": "execute_result",
          "data": {
            "text/plain": [
              "<matplotlib.axes._subplots.AxesSubplot at 0x7f94dd7d27b8>"
            ]
          },
          "metadata": {
            "tags": []
          },
          "execution_count": 88
        },
        {
          "output_type": "display_data",
          "data": {
            "image/png": "[encoded data removed]",
            "text/plain": [
              "<Figure size 576x396 with 1 Axes>"
            ]
          },
          "metadata": {
            "tags": [],
            "image/png": {
              "width": 506,
              "height": 334
            }
          }
        }
      ]
    },
    {
      "cell_type": "code",
      "metadata": {
        "colab": {
          "base_uri": "https://localhost:8080/",
          "height": 394
        },
        "id": "8vohLqqyEapG",
        "outputId": "08161684-d460-40b6-e6e5-8066237be31d"
      },
      "source": [
        "# 단위 통일하기\r\n",
        "\r\n",
        "picher.head()"
      ],
      "execution_count": 89,
      "outputs": [
        {
          "output_type": "execute_result",
          "data": {
            "text/html": [
              "<div>\n",
              "<style scoped>\n",
              "    .dataframe tbody tr th:only-of-type {\n",
              "        vertical-align: middle;\n",
              "    }\n",
              "\n",
              "    .dataframe tbody tr th {\n",
              "        vertical-align: top;\n",
              "    }\n",
              "\n",
              "    .dataframe thead th {\n",
              "        text-align: right;\n",
              "    }\n",
              "</style>\n",
              "<table border=\"1\" class=\"dataframe\">\n",
              "  <thead>\n",
              "    <tr style=\"text-align: right;\">\n",
              "      <th></th>\n",
              "      <th>선수명</th>\n",
              "      <th>팀명</th>\n",
              "      <th>승</th>\n",
              "      <th>패</th>\n",
              "      <th>세이브</th>\n",
              "      <th>홀드</th>\n",
              "      <th>블론</th>\n",
              "      <th>경기</th>\n",
              "      <th>선발</th>\n",
              "      <th>이닝</th>\n",
              "      <th>삼진/9</th>\n",
              "      <th>볼넷/9</th>\n",
              "      <th>홈런/9</th>\n",
              "      <th>BABIP</th>\n",
              "      <th>LOB%</th>\n",
              "      <th>ERA</th>\n",
              "      <th>RA9-WAR</th>\n",
              "      <th>FIP</th>\n",
              "      <th>kFIP</th>\n",
              "      <th>WAR</th>\n",
              "      <th>연봉(2018)</th>\n",
              "      <th>연봉(2017)</th>\n",
              "    </tr>\n",
              "  </thead>\n",
              "  <tbody>\n",
              "    <tr>\n",
              "      <th>0</th>\n",
              "      <td>켈리</td>\n",
              "      <td>SK</td>\n",
              "      <td>16</td>\n",
              "      <td>7</td>\n",
              "      <td>0</td>\n",
              "      <td>0</td>\n",
              "      <td>0</td>\n",
              "      <td>30</td>\n",
              "      <td>30</td>\n",
              "      <td>190.0</td>\n",
              "      <td>8.95</td>\n",
              "      <td>2.13</td>\n",
              "      <td>0.76</td>\n",
              "      <td>0.342</td>\n",
              "      <td>73.7</td>\n",
              "      <td>3.60</td>\n",
              "      <td>6.91</td>\n",
              "      <td>3.69</td>\n",
              "      <td>3.44</td>\n",
              "      <td>6.62</td>\n",
              "      <td>140000</td>\n",
              "      <td>85000</td>\n",
              "    </tr>\n",
              "    <tr>\n",
              "      <th>1</th>\n",
              "      <td>소사</td>\n",
              "      <td>LG</td>\n",
              "      <td>11</td>\n",
              "      <td>11</td>\n",
              "      <td>1</td>\n",
              "      <td>0</td>\n",
              "      <td>0</td>\n",
              "      <td>30</td>\n",
              "      <td>29</td>\n",
              "      <td>185.1</td>\n",
              "      <td>7.43</td>\n",
              "      <td>1.85</td>\n",
              "      <td>0.53</td>\n",
              "      <td>0.319</td>\n",
              "      <td>67.1</td>\n",
              "      <td>3.88</td>\n",
              "      <td>6.80</td>\n",
              "      <td>3.52</td>\n",
              "      <td>3.41</td>\n",
              "      <td>6.08</td>\n",
              "      <td>120000</td>\n",
              "      <td>50000</td>\n",
              "    </tr>\n",
              "    <tr>\n",
              "      <th>2</th>\n",
              "      <td>양현종</td>\n",
              "      <td>KIA</td>\n",
              "      <td>20</td>\n",
              "      <td>6</td>\n",
              "      <td>0</td>\n",
              "      <td>0</td>\n",
              "      <td>0</td>\n",
              "      <td>31</td>\n",
              "      <td>31</td>\n",
              "      <td>193.1</td>\n",
              "      <td>7.36</td>\n",
              "      <td>2.09</td>\n",
              "      <td>0.79</td>\n",
              "      <td>0.332</td>\n",
              "      <td>72.1</td>\n",
              "      <td>3.44</td>\n",
              "      <td>6.54</td>\n",
              "      <td>3.94</td>\n",
              "      <td>3.82</td>\n",
              "      <td>5.64</td>\n",
              "      <td>230000</td>\n",
              "      <td>150000</td>\n",
              "    </tr>\n",
              "    <tr>\n",
              "      <th>3</th>\n",
              "      <td>차우찬</td>\n",
              "      <td>LG</td>\n",
              "      <td>10</td>\n",
              "      <td>7</td>\n",
              "      <td>0</td>\n",
              "      <td>0</td>\n",
              "      <td>0</td>\n",
              "      <td>28</td>\n",
              "      <td>28</td>\n",
              "      <td>175.2</td>\n",
              "      <td>8.04</td>\n",
              "      <td>1.95</td>\n",
              "      <td>1.02</td>\n",
              "      <td>0.298</td>\n",
              "      <td>75.0</td>\n",
              "      <td>3.43</td>\n",
              "      <td>6.11</td>\n",
              "      <td>4.20</td>\n",
              "      <td>4.03</td>\n",
              "      <td>4.63</td>\n",
              "      <td>100000</td>\n",
              "      <td>100000</td>\n",
              "    </tr>\n",
              "    <tr>\n",
              "      <th>4</th>\n",
              "      <td>레일리</td>\n",
              "      <td>롯데</td>\n",
              "      <td>13</td>\n",
              "      <td>7</td>\n",
              "      <td>0</td>\n",
              "      <td>0</td>\n",
              "      <td>0</td>\n",
              "      <td>30</td>\n",
              "      <td>30</td>\n",
              "      <td>187.1</td>\n",
              "      <td>7.49</td>\n",
              "      <td>2.11</td>\n",
              "      <td>0.91</td>\n",
              "      <td>0.323</td>\n",
              "      <td>74.1</td>\n",
              "      <td>3.80</td>\n",
              "      <td>6.13</td>\n",
              "      <td>4.36</td>\n",
              "      <td>4.31</td>\n",
              "      <td>4.38</td>\n",
              "      <td>111000</td>\n",
              "      <td>85000</td>\n",
              "    </tr>\n",
              "  </tbody>\n",
              "</table>\n",
              "</div>"
            ],
            "text/plain": [
              "   선수명   팀명   승   패  세이브  홀드  ...  RA9-WAR   FIP  kFIP   WAR  연봉(2018)  연봉(2017)\n",
              "0   켈리   SK  16   7    0   0  ...     6.91  3.69  3.44  6.62    140000     85000\n",
              "1   소사   LG  11  11    1   0  ...     6.80  3.52  3.41  6.08    120000     50000\n",
              "2  양현종  KIA  20   6    0   0  ...     6.54  3.94  3.82  5.64    230000    150000\n",
              "3  차우찬   LG  10   7    0   0  ...     6.11  4.20  4.03  4.63    100000    100000\n",
              "4  레일리   롯데  13   7    0   0  ...     6.13  4.36  4.31  4.38    111000     85000\n",
              "\n",
              "[5 rows x 22 columns]"
            ]
          },
          "metadata": {
            "tags": []
          },
          "execution_count": 89
        }
      ]
    }
  ]
}