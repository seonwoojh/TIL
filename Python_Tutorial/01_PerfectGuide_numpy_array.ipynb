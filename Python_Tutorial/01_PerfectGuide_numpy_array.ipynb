{
  "nbformat": 4,
  "nbformat_minor": 0,
  "metadata": {
    "colab": {
      "name": "01_PerfectGuide_numpy_array.ipynb",
      "provenance": [],
      "authorship_tag": "ABX9TyPBvfmTgBtKWxBpT/gz0DI1",
      "include_colab_link": true
    },
    "kernelspec": {
      "name": "python3",
      "display_name": "Python 3"
    }
  },
  "cells": [
    {
      "cell_type": "markdown",
      "metadata": {
        "id": "view-in-github",
        "colab_type": "text"
      },
      "source": [
        "<a href=\"https://colab.research.google.com/github/swjh9523/Python_Tutorial/blob/master/01_PerfectGuide_numpy_array.ipynb\" target=\"_parent\"><img src=\"https://colab.research.google.com/assets/colab-badge.svg\" alt=\"Open In Colab\"/></a>"
      ]
    },
    {
      "cell_type": "code",
      "metadata": {
        "id": "Q6Z2dCB_PiD1"
      },
      "source": [
        "import numpy as np"
      ],
      "execution_count": 1,
      "outputs": []
    },
    {
      "cell_type": "code",
      "metadata": {
        "colab": {
          "base_uri": "https://localhost:8080/"
        },
        "id": "QMuOhc3hQXet",
        "outputId": "563e7a01-6024-470e-9610-02d984e24861"
      },
      "source": [
        "# ndarray 생성 np.array()\r\n",
        "list1 = [1, 2, 3]\r\n",
        "print(\"list1:\",list1)\r\n",
        "print(\"list1 type:\", type(list1))\r\n",
        "\r\n",
        "array1 = np.array(list1)\r\n",
        "print(\"array1:\", array1)\r\n",
        "print(\"array1 type:\", type(array1))"
      ],
      "execution_count": null,
      "outputs": [
        {
          "output_type": "stream",
          "text": [
            "list1: [1, 2, 3]\n",
            "list1 type: <class 'list'>\n",
            "array1: [1 2 3]\n",
            "array1 type: <class 'numpy.ndarray'>\n"
          ],
          "name": "stdout"
        }
      ]
    },
    {
      "cell_type": "markdown",
      "metadata": {
        "id": "RDG-DY6u8u4k"
      },
      "source": [
        "* ndarray내의 데이터값은 숫자, 문자, 불값등 모두 가능하지만 같은 데이터 타입끼리만 묶을수 있다.(ex) [1,2,'홍길동',True] 불가능 , int와 float 함께 있을 수 없음\r\n",
        "\r\n",
        "* ndarray내의 데이터타입은 nddrray.dtype으로 확인 가능\r\n"
      ]
    },
    {
      "cell_type": "markdown",
      "metadata": {
        "id": "UBA1DytB9eYn"
      },
      "source": [
        "* astype()을 통해 데이터타입 변환가능, (ex. ndarray.astype('str'),('int') 등등\r\n",
        "\r\n",
        "* 대용량 데이터를 ndarray로 만들 때 메모리 절약을 위해 자주 사용\r\n",
        "\r\n",
        "* 0, 1, 2 와 같이 크지않은 범위의 숫자를 위해서 8bit또는 16bit의 integer형으로 변환하는 것이 메모리 절약\r\n",
        "\r\n",
        "* 대용량 데이터를 다룰 시 메모리 절약을 위해서 형변환을 특히 고려해야함.\r\n",
        "\r\n",
        "* axis = 0 -> 행\r\n",
        "  axis = 1 -> 열\r\n",
        "  axis = 2 -> 면(3차원)"
      ]
    },
    {
      "cell_type": "code",
      "metadata": {
        "colab": {
          "base_uri": "https://localhost:8080/"
        },
        "id": "9Ccf_EcsQpvP",
        "outputId": "d7434a39-f4b2-4dc5-df07-797547d20691"
      },
      "source": [
        "# ndarray의 형태(shape)와 차원\r\n",
        "\r\n",
        "array1 = np.array([1,2,3])\r\n",
        "print(\"array1 type:\", type(array1))\r\n",
        "print(\"array1 array 형태:\", array1.shape)\r\n",
        "\r\n",
        "array2 = np.array([[1,2,3],\r\n",
        "                  [2,3,4]])\r\n",
        "print(\"array2 type :\", type(array2))\r\n",
        "print(\"array2 array 형태 :\", array2.shape)\r\n",
        "\r\n",
        "# 1차원처럼 보이지만 내포된 리스트(리스트를 요소로 가지고있기 때문에 2차원으로 변환됨)\r\n",
        "array3 = np.array([[1,2,3]])\r\n",
        "print(\"array3 type :\",type(array3))\r\n",
        "print('array3 array 형태:',array3.shape)"
      ],
      "execution_count": null,
      "outputs": [
        {
          "output_type": "stream",
          "text": [
            "array1 type: <class 'numpy.ndarray'>\n",
            "array1 array 형태: (3,)\n",
            "array2 type : <class 'numpy.ndarray'>\n",
            "array2 array 형태 : (2, 3)\n",
            "array3 type : <class 'numpy.ndarray'>\n",
            "array3 array 형태: (1, 3)\n"
          ],
          "name": "stdout"
        }
      ]
    },
    {
      "cell_type": "code",
      "metadata": {
        "colab": {
          "base_uri": "https://localhost:8080/"
        },
        "id": "JXNqp_m_RhEL",
        "outputId": "38ee64ed-7db5-4c0d-d216-5d3996b2513b"
      },
      "source": [
        "print('array1: {:0}차원, array2: {:1}차원, array3: {:2}차원'.format(array1.ndim,array2.ndim,array3.ndim))"
      ],
      "execution_count": null,
      "outputs": [
        {
          "output_type": "stream",
          "text": [
            "array1: 1차원, array2: 2차원, array3:  2차원\n"
          ],
          "name": "stdout"
        }
      ]
    },
    {
      "cell_type": "code",
      "metadata": {
        "id": "Q7LPjYotTUDB",
        "colab": {
          "base_uri": "https://localhost:8080/"
        },
        "outputId": "e19dc55f-e712-4aea-9dd9-e45d290b9cf4"
      },
      "source": [
        "# ndarray 데이터 값 타입\r\n",
        "\r\n",
        "list1 = [1,2,3]\r\n",
        "print(type(list1))\r\n",
        "array1 = np.array(list1)\r\n",
        "\r\n",
        "print(type(array1))\r\n",
        "print(array1, array1.dtype)"
      ],
      "execution_count": null,
      "outputs": [
        {
          "output_type": "stream",
          "text": [
            "<class 'list'>\n",
            "<class 'numpy.ndarray'>\n",
            "[1 2 3] int64\n"
          ],
          "name": "stdout"
        }
      ]
    },
    {
      "cell_type": "code",
      "metadata": {
        "colab": {
          "base_uri": "https://localhost:8080/"
        },
        "id": "WkdU0T-o-5M9",
        "outputId": "0aa16ff4-d522-4ae5-e641-621a2eb3c739"
      },
      "source": [
        "# 숫자와 문자가 같이 인자로 넣게되면 정수형 값들이 모두 사이즈가 큰 문자열 값으로 바뀜\r\n",
        "\r\n",
        "list2 = [1, 2, 'test']\r\n",
        "array2 = np.array(list2)\r\n",
        "print(array2, array2.dtype)\r\n",
        "\r\n",
        "\r\n",
        "# 마찬가지로 정수와 실수를 인자로 넣게되면 모두 실수형으로 변환됨\r\n",
        "list3 = [1,2,3.0]\r\n",
        "array3 = np.array(list3)\r\n",
        "print(array3, array3.dtype)"
      ],
      "execution_count": null,
      "outputs": [
        {
          "output_type": "stream",
          "text": [
            "['1' '2' 'test'] <U21\n",
            "[1. 2. 3.] float64\n"
          ],
          "name": "stdout"
        }
      ]
    },
    {
      "cell_type": "code",
      "metadata": {
        "colab": {
          "base_uri": "https://localhost:8080/"
        },
        "id": "G07c875q_cdx",
        "outputId": "79fea580-f84b-4918-dddd-1fe655b75cf3"
      },
      "source": [
        "# astype()을 통한 타입 변환\r\n",
        "\r\n",
        "array_int = np.array([1,2,3])\r\n",
        "array_float = array_int.astype('float64')\r\n",
        "print(array_float, array_float.dtype)\r\n",
        "\r\n",
        "array_int1 = array_float.astype('int32')\r\n",
        "print(array_int1, array_int1.dtype)\r\n",
        "\r\n",
        "array_float1 = np.array([1.1, 2.1, 3.1])\r\n",
        "array_int2 = array_float1.astype('int32')\r\n",
        "print(array_int2, array_int2.dtype)"
      ],
      "execution_count": null,
      "outputs": [
        {
          "output_type": "stream",
          "text": [
            "[1. 2. 3.] float64\n",
            "[1 2 3] int32\n",
            "[1 2 3] int32\n"
          ],
          "name": "stdout"
        }
      ]
    },
    {
      "cell_type": "code",
      "metadata": {
        "colab": {
          "base_uri": "https://localhost:8080/"
        },
        "id": "04jhPXp7Bhp3",
        "outputId": "77d442af-9057-4d38-e872-d9760856190e"
      },
      "source": [
        "array2 = np.array([[1,2,3],\r\n",
        "                  [2,3,4]])\r\n",
        "\r\n",
        "print(array2.sum())\r\n",
        "print(array2.sum(axis=0))\r\n",
        "print(array2.sum(axis=1))"
      ],
      "execution_count": null,
      "outputs": [
        {
          "output_type": "stream",
          "text": [
            "15\n",
            "[3 5 7]\n",
            "[6 9]\n"
          ],
          "name": "stdout"
        }
      ]
    },
    {
      "cell_type": "code",
      "metadata": {
        "id": "vnjFjGZyCE3Y",
        "colab": {
          "base_uri": "https://localhost:8080/"
        },
        "outputId": "f8ec3912-7a3a-43a2-9178-74541742739c"
      },
      "source": [
        "# ndarray를 편리하게 생성하기 - arange, zeros, ones\r\n",
        "\r\n",
        "sequence_array = np.arange(10)\r\n",
        "print(sequence_array)\r\n",
        "print(sequence_array.dtype, sequence_array.shape)"
      ],
      "execution_count": null,
      "outputs": [
        {
          "output_type": "stream",
          "text": [
            "[0 1 2 3 4 5 6 7 8 9]\n",
            "int64 (10,)\n"
          ],
          "name": "stdout"
        }
      ]
    },
    {
      "cell_type": "code",
      "metadata": {
        "colab": {
          "base_uri": "https://localhost:8080/"
        },
        "id": "ky6jrVwBibFq",
        "outputId": "0590dca2-5ffa-42c0-e20e-2bbd694e3a83"
      },
      "source": [
        "zero_array = np.zeros((3,2), dtype = 'int32')\r\n",
        "print(zero_array)\r\n",
        "print(zero_array.dtype, zero_array.shape)\r\n",
        "\r\n",
        "one_array = np.ones((3,2))\r\n",
        "print(one_array)\r\n",
        "print(one_array.dtype, one_array.shape)"
      ],
      "execution_count": null,
      "outputs": [
        {
          "output_type": "stream",
          "text": [
            "[[0 0]\n",
            " [0 0]\n",
            " [0 0]]\n",
            "int32 (3, 2)\n",
            "[[1. 1.]\n",
            " [1. 1.]\n",
            " [1. 1.]]\n",
            "float64 (3, 2)\n"
          ],
          "name": "stdout"
        }
      ]
    },
    {
      "cell_type": "code",
      "metadata": {
        "colab": {
          "base_uri": "https://localhost:8080/"
        },
        "id": "-YN2aoN9ixz3",
        "outputId": "c70fba54-9a0b-4c6f-cd98-64b57ba6034c"
      },
      "source": [
        "# ndarray의 shape를 변경하는 rehshape()\r\n",
        "\r\n",
        "array1 = np.arange(10)\r\n",
        "print('array1:\\n', array1)\r\n",
        "\r\n",
        "array2 = array1.reshape(2,5)\r\n",
        "print('array2:\\n', array2)\r\n",
        "\r\n",
        "array3 = array1.reshape(5,2)\r\n",
        "print('array3:\\n', array3)"
      ],
      "execution_count": null,
      "outputs": [
        {
          "output_type": "stream",
          "text": [
            "array1:\n",
            " [0 1 2 3 4 5 6 7 8 9]\n",
            "array2:\n",
            " [[0 1 2 3 4]\n",
            " [5 6 7 8 9]]\n",
            "array3:\n",
            " [[0 1]\n",
            " [2 3]\n",
            " [4 5]\n",
            " [6 7]\n",
            " [8 9]]\n"
          ],
          "name": "stdout"
        }
      ]
    },
    {
      "cell_type": "code",
      "metadata": {
        "colab": {
          "base_uri": "https://localhost:8080/",
          "height": 204
        },
        "id": "fbETr1x7jB-X",
        "outputId": "110abc80-3931-42f8-a8fa-af05bec50f69"
      },
      "source": [
        "# 변환할 수 있는 shape구조를 입력하면 오류 발생.\r\n",
        "\r\n",
        "array1.reshape(4,3)"
      ],
      "execution_count": null,
      "outputs": [
        {
          "output_type": "error",
          "ename": "ValueError",
          "evalue": "ignored",
          "traceback": [
            "\u001b[0;31m---------------------------------------------------------------------------\u001b[0m",
            "\u001b[0;31mValueError\u001b[0m                                Traceback (most recent call last)",
            "\u001b[0;32m<ipython-input-7-99d7b05fa31c>\u001b[0m in \u001b[0;36m<module>\u001b[0;34m()\u001b[0m\n\u001b[1;32m      1\u001b[0m \u001b[0;31m# 변환할 수 있는 shape구조를 입력하면 오류 발생.\u001b[0m\u001b[0;34m\u001b[0m\u001b[0;34m\u001b[0m\u001b[0;34m\u001b[0m\u001b[0m\n\u001b[1;32m      2\u001b[0m \u001b[0;34m\u001b[0m\u001b[0m\n\u001b[0;32m----> 3\u001b[0;31m \u001b[0marray1\u001b[0m\u001b[0;34m.\u001b[0m\u001b[0mreshape\u001b[0m\u001b[0;34m(\u001b[0m\u001b[0;36m4\u001b[0m\u001b[0;34m,\u001b[0m\u001b[0;36m3\u001b[0m\u001b[0;34m)\u001b[0m\u001b[0;34m\u001b[0m\u001b[0;34m\u001b[0m\u001b[0m\n\u001b[0m",
            "\u001b[0;31mValueError\u001b[0m: cannot reshape array of size 10 into shape (4,3)"
          ]
        }
      ]
    },
    {
      "cell_type": "code",
      "metadata": {
        "colab": {
          "base_uri": "https://localhost:8080/"
        },
        "id": "1D5GzWcYkAOT",
        "outputId": "5b20a2c0-4ed0-42f8-bb99-0f02dc9f6e03"
      },
      "source": [
        "# reshape()에 -1 인자값을 부여하여 특정 차원으로 고정된 가변적인 ndarray형태 변환\r\n",
        "\r\n",
        "array1 = np.arange(10)\r\n",
        "print(array1)\r\n",
        "\r\n",
        "# 컬럼 axis 크기는 5에 고정하고 로우 axis크기를 이에 맞춰 자동으로 변환, 즉 2*5 형태로 변환\r\n",
        "\r\n",
        "array2 = array1.reshape(-1,5)\r\n",
        "print('array2 shape :',array2.shape)\r\n",
        "print('array2:\\n', array2)\r\n",
        "\r\n",
        "# 로우 axis 크기는 5로 고정하고 컬럼 axis크기는 이에 맞춰 자동으로 변환, 즉 5*2 형태로 변환\r\n",
        "array3 = array1.reshape(5,-1)\r\n",
        "print('array3 shape :', array3.shape)\r\n",
        "print('array3:\\n : ', array3)"
      ],
      "execution_count": null,
      "outputs": [
        {
          "output_type": "stream",
          "text": [
            "[0 1 2 3 4 5 6 7 8 9]\n",
            "array2 shape : (2, 5)\n",
            "array2:\n",
            " [[0 1 2 3 4]\n",
            " [5 6 7 8 9]]\n",
            "array3 shape : (5, 2)\n",
            "array3:\n",
            " :  [[0 1]\n",
            " [2 3]\n",
            " [4 5]\n",
            " [6 7]\n",
            " [8 9]]\n"
          ],
          "name": "stdout"
        }
      ]
    },
    {
      "cell_type": "code",
      "metadata": {
        "colab": {
          "base_uri": "https://localhost:8080/"
        },
        "id": "ABtq9l2SkwHs",
        "outputId": "3de79d6b-182d-48e5-b2f8-cee136aa6daa"
      },
      "source": [
        "# reshape()는 (-1, 1), (-1,)와 같은 형태로 주로 사용됨.\r\n",
        "# 1차원 ndarray를 2차원으로 또는 2차원 ndarray를 1차원으로 변환시 사용.\r\n",
        "\r\n",
        "array1 = np.arange(5)\r\n",
        "\r\n",
        "# 1차원 ndarray를 2차원으로 변환하되, 컬럼axis크기는 반드시 1이어야 함.\r\n",
        "\r\n",
        "array2d_1 = array1.reshape(-1, 1)\r\n",
        "print('array2d_1 shape :', array2d_1.shape)\r\n",
        "print('array2d_1 \\n :', array2d_1)\r\n",
        "\r\n",
        "# 2차원 ndarray를 1차원으로 변환\r\n",
        "array1d = array2d_1.reshape(-1,)\r\n",
        "print('array1d shape :', array1d.shape)\r\n",
        "print('array1d \\n :', array1d)"
      ],
      "execution_count": null,
      "outputs": [
        {
          "output_type": "stream",
          "text": [
            "array2d_1 shape : (5, 1)\n",
            "array2d_1 \n",
            " : [[0]\n",
            " [1]\n",
            " [2]\n",
            " [3]\n",
            " [4]]\n",
            "array1d shape : (5,)\n",
            "array1d \n",
            " : [0 1 2 3 4]\n"
          ],
          "name": "stdout"
        }
      ]
    },
    {
      "cell_type": "code",
      "metadata": {
        "colab": {
          "base_uri": "https://localhost:8080/",
          "height": 345
        },
        "id": "mFpg0sC5nAaP",
        "outputId": "ebf3d29c-6506-4199-c44e-256e505fabab"
      },
      "source": [
        "# -1을 적용하여도 변환이 불가능한 형태로의 변환을 요구할 경우 오류 발생\r\n",
        "\r\n",
        "array1 = np.arrange(10)\r\n",
        "array4 = array1.reshape(-1, 4)"
      ],
      "execution_count": null,
      "outputs": [
        {
          "output_type": "error",
          "ename": "AttributeError",
          "evalue": "ignored",
          "traceback": [
            "\u001b[0;31m---------------------------------------------------------------------------\u001b[0m",
            "\u001b[0;31mAttributeError\u001b[0m                            Traceback (most recent call last)",
            "\u001b[0;32m<ipython-input-17-9f1ad02e0020>\u001b[0m in \u001b[0;36m<module>\u001b[0;34m()\u001b[0m\n\u001b[1;32m      1\u001b[0m \u001b[0;31m# -1을 적용하여도 변환이 불가능한 형태로의 변환을 요구할 경우 오류 발생\u001b[0m\u001b[0;34m\u001b[0m\u001b[0;34m\u001b[0m\u001b[0;34m\u001b[0m\u001b[0m\n\u001b[1;32m      2\u001b[0m \u001b[0;34m\u001b[0m\u001b[0m\n\u001b[0;32m----> 3\u001b[0;31m \u001b[0marray1\u001b[0m \u001b[0;34m=\u001b[0m \u001b[0mnp\u001b[0m\u001b[0;34m.\u001b[0m\u001b[0marrange\u001b[0m\u001b[0;34m(\u001b[0m\u001b[0;36m10\u001b[0m\u001b[0;34m)\u001b[0m\u001b[0;34m\u001b[0m\u001b[0;34m\u001b[0m\u001b[0m\n\u001b[0m\u001b[1;32m      4\u001b[0m \u001b[0marray4\u001b[0m \u001b[0;34m=\u001b[0m \u001b[0marray1\u001b[0m\u001b[0;34m.\u001b[0m\u001b[0mreshape\u001b[0m\u001b[0;34m(\u001b[0m\u001b[0;34m-\u001b[0m\u001b[0;36m1\u001b[0m\u001b[0;34m,\u001b[0m \u001b[0;36m4\u001b[0m\u001b[0;34m)\u001b[0m\u001b[0;34m\u001b[0m\u001b[0;34m\u001b[0m\u001b[0m\n",
            "\u001b[0;32m/usr/local/lib/python3.7/dist-packages/numpy/__init__.py\u001b[0m in \u001b[0;36m__getattr__\u001b[0;34m(attr)\u001b[0m\n\u001b[1;32m    213\u001b[0m             \u001b[0;32melse\u001b[0m\u001b[0;34m:\u001b[0m\u001b[0;34m\u001b[0m\u001b[0;34m\u001b[0m\u001b[0m\n\u001b[1;32m    214\u001b[0m                 raise AttributeError(\"module {!r} has no attribute \"\n\u001b[0;32m--> 215\u001b[0;31m                                      \"{!r}\".format(__name__, attr))\n\u001b[0m\u001b[1;32m    216\u001b[0m \u001b[0;34m\u001b[0m\u001b[0m\n\u001b[1;32m    217\u001b[0m         \u001b[0;32mdef\u001b[0m \u001b[0m__dir__\u001b[0m\u001b[0;34m(\u001b[0m\u001b[0;34m)\u001b[0m\u001b[0;34m:\u001b[0m\u001b[0;34m\u001b[0m\u001b[0;34m\u001b[0m\u001b[0m\n",
            "\u001b[0;31mAttributeError\u001b[0m: module 'numpy' has no attribute 'arrange'"
          ]
        }
      ]
    },
    {
      "cell_type": "code",
      "metadata": {
        "colab": {
          "base_uri": "https://localhost:8080/",
          "height": 186
        },
        "id": "TDLUMhkwovPl",
        "outputId": "cadbdb5e-df3e-4c51-93ea-e55cc6b90d2c"
      },
      "source": [
        "# 반드시 -1 값은 1개의 인자만 입력해야 함.\r\n",
        "array1.reshape(-1,-1)"
      ],
      "execution_count": null,
      "outputs": [
        {
          "output_type": "error",
          "ename": "ValueError",
          "evalue": "ignored",
          "traceback": [
            "\u001b[0;31m---------------------------------------------------------------------------\u001b[0m",
            "\u001b[0;31mValueError\u001b[0m                                Traceback (most recent call last)",
            "\u001b[0;32m<ipython-input-18-bcebac8291d7>\u001b[0m in \u001b[0;36m<module>\u001b[0;34m()\u001b[0m\n\u001b[1;32m      1\u001b[0m \u001b[0;31m# 반드시 -1 값은 1개의 인자만 입력해야 함.\u001b[0m\u001b[0;34m\u001b[0m\u001b[0;34m\u001b[0m\u001b[0;34m\u001b[0m\u001b[0m\n\u001b[0;32m----> 2\u001b[0;31m \u001b[0marray1\u001b[0m\u001b[0;34m.\u001b[0m\u001b[0mreshape\u001b[0m\u001b[0;34m(\u001b[0m\u001b[0;34m-\u001b[0m\u001b[0;36m1\u001b[0m\u001b[0;34m,\u001b[0m\u001b[0;34m-\u001b[0m\u001b[0;36m1\u001b[0m\u001b[0;34m)\u001b[0m\u001b[0;34m\u001b[0m\u001b[0;34m\u001b[0m\u001b[0m\n\u001b[0m",
            "\u001b[0;31mValueError\u001b[0m: can only specify one unknown dimension"
          ]
        }
      ]
    },
    {
      "cell_type": "markdown",
      "metadata": {
        "id": "Xrbq9FpniCEW"
      },
      "source": [
        "# ndarray의 데이터 세트 선택하기 - 인덱싱(indexing)\r\n",
        "\r\n",
        "* 특정 위치의 단일값 추출 : 원하는 위치의 인덱스 값을 지정하면 해당 위치의 데이터가 반환됨.\r\n",
        "\r\n",
        "* 슬라이싱 : 슬라이싱은 연속된 인덱스상의 ndarray를 추출하는 방식입니다. ':' 기호 사이에 시작 인덱스와 종료 인덱스를 표시하면 시작 인덱스에서 종료 인덱스-1 위치에 있는 ndarray를 반환함. 예를 들어 1:5라고 하면 시작인덱스 1과 종료인덱스 4까지에 해당하는 ndarray를 반환함.\r\n",
        "\r\n",
        "* 팬시 인덱싱 : 일정한 인덱싱 집합을 리스트 또는 ndarray 형태로 지정해 해당 위치에 있는 ndarray를 반환함.\r\n",
        "\r\n",
        "* 불린 인덱싱 : 특정 조건에 해당하는지 여부인 True/False 값 인덱싱 집합을 기반으로 True에 해당하는 인덱스 위치에 있는 ndarray를 반환함."
      ]
    },
    {
      "cell_type": "code",
      "metadata": {
        "colab": {
          "base_uri": "https://localhost:8080/"
        },
        "id": "EeVdMXqao1yw",
        "outputId": "1c1bb475-fbe8-42c8-954c-4498a16babb8"
      },
      "source": [
        "# 특정 위치의 단일값 추출\r\n",
        "\r\n",
        "# 1에서부터 9까지의 1차원 ndarray 생성\r\n",
        "\r\n",
        "array1 = np.arange(1,10) # np.arange(start=1, stop=10)\r\n",
        "print('array1 :', array1)\r\n",
        "\r\n",
        "# index는 0부터 시작하므로 array1[2]는 3번째 index 위치의 데이터 값을 의미\r\n",
        "value = array1[2]\r\n",
        "print('value :', value)\r\n",
        "print(type(value))"
      ],
      "execution_count": null,
      "outputs": [
        {
          "output_type": "stream",
          "text": [
            "array1 : [1 2 3 4 5 6 7 8 9]\n",
            "value : 3\n",
            "<class 'numpy.int64'>\n"
          ],
          "name": "stdout"
        }
      ]
    },
    {
      "cell_type": "code",
      "metadata": {
        "colab": {
          "base_uri": "https://localhost:8080/"
        },
        "id": "gZCkuggTx-0_",
        "outputId": "df6bef23-90fb-495b-f4c2-eb816c7a55af"
      },
      "source": [
        "print('맨 뒤의 값 :', array1[-1], ', 맨 뒤에서 두번째 값', array1[-2])"
      ],
      "execution_count": null,
      "outputs": [
        {
          "output_type": "stream",
          "text": [
            "맨 뒤의 값 : 9 , 맨 뒤에서 두번째 값 8\n"
          ],
          "name": "stdout"
        }
      ]
    },
    {
      "cell_type": "code",
      "metadata": {
        "colab": {
          "base_uri": "https://localhost:8080/"
        },
        "id": "_NM6gdzWx0uJ",
        "outputId": "e2451771-75fd-4875-c786-32b6bcec648d"
      },
      "source": [
        "array1[0] = 9\r\n",
        "array1[8] = 0\r\n",
        "print('array1 :', array1)"
      ],
      "execution_count": null,
      "outputs": [
        {
          "output_type": "stream",
          "text": [
            "array1 : [9 2 3 4 5 6 7 8 0]\n"
          ],
          "name": "stdout"
        }
      ]
    },
    {
      "cell_type": "code",
      "metadata": {
        "colab": {
          "base_uri": "https://localhost:8080/"
        },
        "id": "LobTZIB4zETf",
        "outputId": "9611a51a-0720-4e13-d351-1e7a7cf6f860"
      },
      "source": [
        "array1d = np.arange(1,10)\r\n",
        "array2d = array1d.reshape(3, 3)\r\n",
        "print(array2d)"
      ],
      "execution_count": null,
      "outputs": [
        {
          "output_type": "stream",
          "text": [
            "[[1 2 3]\n",
            " [4 5 6]\n",
            " [7 8 9]]\n"
          ],
          "name": "stdout"
        }
      ]
    },
    {
      "cell_type": "code",
      "metadata": {
        "colab": {
          "base_uri": "https://localhost:8080/"
        },
        "id": "3XuLxdFazPrr",
        "outputId": "c74f8f9d-e78c-4485-da42-e6de1c9a035b"
      },
      "source": [
        "print('(row=0, col=0) index 가리키는값 : ', array2d[0,0])\r\n",
        "print('(row=0, col=1) index 가리키는값 : ', array2d[0,1])\r\n",
        "print('(row=1, col=0) index 가리키는값 : ', array2d[1,0])\r\n",
        "print('(row=2, col=2) index 가리키는값 : ', array2d[2,2])"
      ],
      "execution_count": null,
      "outputs": [
        {
          "output_type": "stream",
          "text": [
            "(row=0, col=0) index 가리키는값 :  1\n",
            "(row=0, col=1) index 가리키는값 :  2\n",
            "(row=1, col=0) index 가리키는값 :  4\n",
            "(row=2, col=2) index 가리키는값 :  9\n"
          ],
          "name": "stdout"
        }
      ]
    },
    {
      "cell_type": "code",
      "metadata": {
        "id": "4fHl8iWQ8mdu",
        "colab": {
          "base_uri": "https://localhost:8080/"
        },
        "outputId": "5c940b91-50d9-4ede-c9af-69f662e13899"
      },
      "source": [
        "# 슬라이싱\r\n",
        "array1 = np.arange(start=1, stop=10)\r\n",
        "print(array1)\r\n",
        "array3 = array1[0:3]\r\n",
        "print(array3)\r\n",
        "print(type(array3))"
      ],
      "execution_count": 3,
      "outputs": [
        {
          "output_type": "stream",
          "text": [
            "[1 2 3 4 5 6 7 8 9]\n",
            "[1 2 3]\n",
            "<class 'numpy.ndarray'>\n"
          ],
          "name": "stdout"
        }
      ]
    },
    {
      "cell_type": "code",
      "metadata": {
        "colab": {
          "base_uri": "https://localhost:8080/"
        },
        "id": "SFjB_I2zuvWl",
        "outputId": "6492445c-30cd-4aad-fc16-1244bc7230a4"
      },
      "source": [
        "array1 = np.arange(start=1, stop=10)\r\n",
        "array4 = array1[:3]\r\n",
        "print(array4)\r\n",
        "\r\n",
        "array5 = array1[3:]\r\n",
        "print(array5)\r\n",
        "\r\n",
        "array6 = array1[:]\r\n",
        "print(array6)"
      ],
      "execution_count": 8,
      "outputs": [
        {
          "output_type": "stream",
          "text": [
            "[1 2 3]\n",
            "[4 5 6 7 8 9]\n",
            "[1 2 3 4 5 6 7 8 9]\n"
          ],
          "name": "stdout"
        }
      ]
    },
    {
      "cell_type": "code",
      "metadata": {
        "colab": {
          "base_uri": "https://localhost:8080/"
        },
        "id": "WMjbEl7YvCTu",
        "outputId": "c284326b-964c-44ba-ff66-aac59b71c4cb"
      },
      "source": [
        "array1d = np.arange(start=1, stop=10)\r\n",
        "array2d = array1d.reshape(3,3)\r\n",
        "print('array2d:\\n',array2d)\r\n",
        "\r\n",
        "print('array2d[0:2, 0:2] \\n', array2d[0:2, 0:2])\r\n",
        "print('array2d[1:3, 0:3] \\n', array2d[1:3, 0:3])\r\n",
        "print('array2d[1:3, :] \\n', array2d[1:3, :])\r\n",
        "print('array2d[:, :] \\n', array2d[:, :])\r\n",
        "print('array2d[:2, 1:] \\n', array2d[:2, 1:])\r\n",
        "print('array2d[:2, 0] \\n', array2d[:2, 0])"
      ],
      "execution_count": 10,
      "outputs": [
        {
          "output_type": "stream",
          "text": [
            "array2d:\n",
            " [[1 2 3]\n",
            " [4 5 6]\n",
            " [7 8 9]]\n",
            "array2d[0:2, 0:2] \n",
            " [[1 2]\n",
            " [4 5]]\n",
            "array2d[1:3, 0:3] \n",
            " [[4 5 6]\n",
            " [7 8 9]]\n",
            "array2d[1:3, :] \n",
            " [[4 5 6]\n",
            " [7 8 9]]\n",
            "array2d[:, :] \n",
            " [[1 2 3]\n",
            " [4 5 6]\n",
            " [7 8 9]]\n",
            "array2d[:2, 1:] \n",
            " [[2 3]\n",
            " [5 6]]\n",
            "array2d[:2, 0] \n",
            " [1 4]\n"
          ],
          "name": "stdout"
        }
      ]
    },
    {
      "cell_type": "code",
      "metadata": {
        "colab": {
          "base_uri": "https://localhost:8080/"
        },
        "id": "RXbDf1D7vMC1",
        "outputId": "d3207c85-cc3f-4760-feaa-ff4a978d0e44"
      },
      "source": [
        "# 팬시 인덱싱\r\n",
        "\r\n",
        "array1d = np.arange(1,10)\r\n",
        "array2d = array1d.reshape(3,3)\r\n",
        "print(array2d)\r\n",
        "\r\n",
        "array3 = array2d[[0,1], 2]\r\n",
        "print('array2d[[0,1], 2] => ',array3.tolist())\r\n",
        "\r\n",
        "array4 = array2d[[0,2], 0:2]\r\n",
        "print('array2d[[0,2], 0:2] => ',array4.tolist())\r\n",
        "\r\n",
        "array5 = array2d[[0,1]]\r\n",
        "print('array2d[[0,1]] => ',array5.tolist())"
      ],
      "execution_count": 16,
      "outputs": [
        {
          "output_type": "stream",
          "text": [
            "[[1 2 3]\n",
            " [4 5 6]\n",
            " [7 8 9]]\n",
            "array2d[[0,1], 2] =>  [3, 6]\n",
            "array2d[[0,2], 0:2] =>  [[1, 2], [7, 8]]\n",
            "array2d[[0,1]] =>  [[1, 2, 3], [4, 5, 6]]\n"
          ],
          "name": "stdout"
        }
      ]
    },
    {
      "cell_type": "code",
      "metadata": {
        "colab": {
          "base_uri": "https://localhost:8080/"
        },
        "id": "llW1rsdgv-1s",
        "outputId": "2a089124-b368-458d-9237-a68f3108ca0a"
      },
      "source": [
        "# 불린 인덱싱\r\n",
        "\r\n",
        "array1d = np.arange(1,10)\r\n",
        "print(array1d)"
      ],
      "execution_count": 17,
      "outputs": [
        {
          "output_type": "stream",
          "text": [
            "[1 2 3 4 5 6 7 8 9]\n"
          ],
          "name": "stdout"
        }
      ]
    },
    {
      "cell_type": "code",
      "metadata": {
        "colab": {
          "base_uri": "https://localhost:8080/"
        },
        "id": "IJ8MQyAIxDJm",
        "outputId": "aace23fe-4b02-4480-99a2-0ac2552ce210"
      },
      "source": [
        "print(array1d > 5)\r\n",
        "\r\n",
        "var1 = array1d > 5\r\n",
        "print(\"var1:\",var1)\r\n",
        "print(type(var1))"
      ],
      "execution_count": 20,
      "outputs": [
        {
          "output_type": "stream",
          "text": [
            "[False False False False False  True  True  True  True]\n",
            "var1: [False False False False False  True  True  True  True]\n",
            "<class 'numpy.ndarray'>\n"
          ],
          "name": "stdout"
        }
      ]
    },
    {
      "cell_type": "code",
      "metadata": {
        "colab": {
          "base_uri": "https://localhost:8080/"
        },
        "id": "vBEakL7ExEyv",
        "outputId": "5cf16025-dfe0-460d-8c97-3f5da8ba0bc6"
      },
      "source": [
        "# [ ] 안에 array1d > 5 Boolean indexing을 적용 \r\n",
        "print(array1d)\r\n",
        "array3 = array1d[array1d > 5]\r\n",
        "print('array1d > 5 불린 인덱싱 결과 값 :', array3)"
      ],
      "execution_count": 22,
      "outputs": [
        {
          "output_type": "stream",
          "text": [
            "[1 2 3 4 5 6 7 8 9]\n",
            "array1d > 5 불린 인덱싱 결과 값 : [6 7 8 9]\n"
          ],
          "name": "stdout"
        }
      ]
    },
    {
      "cell_type": "code",
      "metadata": {
        "colab": {
          "base_uri": "https://localhost:8080/"
        },
        "id": "V61es1gdxTqz",
        "outputId": "ed4bf6f0-e379-49c0-fe0d-460d9c5441f7"
      },
      "source": [
        "boolean_indexes = np.array([False, False, False, False, False,  True,  True,  True,  True])\r\n",
        "array3 = array1d[boolean_indexes]\r\n",
        "print('불린 인덱스로 필터링 결과 :', array3)"
      ],
      "execution_count": 23,
      "outputs": [
        {
          "output_type": "stream",
          "text": [
            "불린 인덱스로 필터링 결과 : [6 7 8 9]\n"
          ],
          "name": "stdout"
        }
      ]
    },
    {
      "cell_type": "code",
      "metadata": {
        "colab": {
          "base_uri": "https://localhost:8080/"
        },
        "id": "IX-ANQmIxXPU",
        "outputId": "6810fd98-cf1a-4cd3-ded1-0941af30f21a"
      },
      "source": [
        "indexes = np.array([5,6,7,8])\r\n",
        "array4 = array1d[ indexes ]\r\n",
        "print('일반 인덱스로 필터링 결과 :',array4)"
      ],
      "execution_count": 24,
      "outputs": [
        {
          "output_type": "stream",
          "text": [
            "일반 인덱스로 필터링 결과 : [6 7 8 9]\n"
          ],
          "name": "stdout"
        }
      ]
    },
    {
      "cell_type": "code",
      "metadata": {
        "colab": {
          "base_uri": "https://localhost:8080/"
        },
        "id": "xYCJBPxJxZGk",
        "outputId": "80434849-d569-4d79-ce0e-da1314828785"
      },
      "source": [
        "array1d = np.arange(start=1, stop=10)\r\n",
        "target = []\r\n",
        "\r\n",
        "for i in range(0, 9):\r\n",
        "    if array1d[i] > 5:\r\n",
        "        target.append(array1d[i])\r\n",
        "\r\n",
        "array_selected = np.array(target)\r\n",
        "print(array_selected)"
      ],
      "execution_count": 26,
      "outputs": [
        {
          "output_type": "stream",
          "text": [
            "[6 7 8 9]\n"
          ],
          "name": "stdout"
        }
      ]
    },
    {
      "cell_type": "code",
      "metadata": {
        "colab": {
          "base_uri": "https://localhost:8080/"
        },
        "id": "80n9rPpDxa5L",
        "outputId": "3f4d4341-dab0-46af-8f3c-e30b10f0c180"
      },
      "source": [
        "print(array1d[array1 > 5])"
      ],
      "execution_count": 27,
      "outputs": [
        {
          "output_type": "stream",
          "text": [
            "[6 7 8 9]\n"
          ],
          "name": "stdout"
        }
      ]
    },
    {
      "cell_type": "code",
      "metadata": {
        "colab": {
          "base_uri": "https://localhost:8080/"
        },
        "id": "U7qyJKvWxd5b",
        "outputId": "67540a59-6e19-4177-87e9-b29e495e7258"
      },
      "source": [
        "print(array1d.sort())"
      ],
      "execution_count": 30,
      "outputs": [
        {
          "output_type": "stream",
          "text": [
            "None\n"
          ],
          "name": "stdout"
        }
      ]
    },
    {
      "cell_type": "code",
      "metadata": {
        "id": "uemLWPSYyaoG"
      },
      "source": [
        ""
      ],
      "execution_count": null,
      "outputs": []
    }
  ]
}