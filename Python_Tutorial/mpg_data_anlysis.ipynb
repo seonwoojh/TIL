{
  "nbformat": 4,
  "nbformat_minor": 0,
  "metadata": {
    "colab": {
      "name": "mpg data_anlysis.ipynb",
      "provenance": [],
      "collapsed_sections": [],
      "authorship_tag": "ABX9TyNRzdF5My1W2WejJJo0qZw5",
      "include_colab_link": true
    },
    "kernelspec": {
      "name": "python3",
      "display_name": "Python 3"
    }
  },
  "cells": [
    {
      "cell_type": "markdown",
      "metadata": {
        "id": "view-in-github",
        "colab_type": "text"
      },
      "source": [
        "<a href=\"https://colab.research.google.com/github/swjh9523/Python_Tutorial/blob/master/mpg_data_anlysis.ipynb\" target=\"_parent\"><img src=\"https://colab.research.google.com/assets/colab-badge.svg\" alt=\"Open In Colab\"/></a>"
      ]
    },
    {
      "cell_type": "code",
      "metadata": {
        "id": "sHmLWtCaAkax"
      },
      "source": [
        "import pandas as pd\r\n",
        "import seaborn as sns\r\n",
        "import matplotlib.pyplot as plt\r\n",
        "import warnings\r\n",
        "warnings.filterwarnings(action='ignore')"
      ],
      "execution_count": 1,
      "outputs": []
    },
    {
      "cell_type": "code",
      "metadata": {
        "colab": {
          "base_uri": "https://localhost:8080/"
        },
        "id": "XgqJYeTfAtFy",
        "outputId": "40940caa-27ce-47bb-cc26-b36d5fa151fe"
      },
      "source": [
        "from google.colab import drive\r\n",
        "drive.mount('/content/drive')"
      ],
      "execution_count": 2,
      "outputs": [
        {
          "output_type": "stream",
          "text": [
            "Drive already mounted at /content/drive; to attempt to forcibly remount, call drive.mount(\"/content/drive\", force_remount=True).\n"
          ],
          "name": "stdout"
        }
      ]
    },
    {
      "cell_type": "code",
      "metadata": {
        "colab": {
          "base_uri": "https://localhost:8080/",
          "height": 216
        },
        "id": "5_L-u8099oai",
        "outputId": "442653df-c68a-4d56-8703-85f2ff454104"
      },
      "source": [
        "# 그래프 한글폰트 사용설정 in Colab\r\n",
        "import matplotlib as mpl\r\n",
        "import matplotlib.pyplot as plt\r\n",
        "import matplotlib.font_manager as fm\r\n",
        "\r\n",
        "%config InlineBackend.figure_format = 'retina'\r\n",
        "#!apt -qq -y install fonts-nanum\r\n",
        "\r\n",
        "fontpath = '/content/drive/My Drive/파이썬/NanumGothic.ttf'\r\n",
        "font = fm.FontProperties(fname=fontpath, size=9)\r\n",
        "plt.rc('font', family='NanumBarunGothic') \r\n",
        "mpl.font_manager._rebuild()\r\n",
        "\r\n",
        "## Test\r\n",
        "plt.figure(figsize=(3,3))\r\n",
        "plt.text(0.5, 0.5, '한글 폰트 테스트 성공!!!', size=15)\r\n",
        "plt.show()"
      ],
      "execution_count": 3,
      "outputs": [
        {
          "output_type": "display_data",
          "data": {
            "image/png": "[encoded data removed]",
            "text/plain": [
              "<Figure size 216x216 with 1 Axes>"
            ]
          },
          "metadata": {
            "tags": [],
            "image/png": {
              "width": 270,
              "height": 199
            },
            "needs_background": "light"
          }
        }
      ]
    },
    {
      "cell_type": "code",
      "metadata": {
        "colab": {
          "base_uri": "https://localhost:8080/",
          "height": 195
        },
        "id": "oig8I-vtA2N2",
        "outputId": "0026d50d-5259-4ed3-fea8-672061684a9f"
      },
      "source": [
        "mpg = pd.read_csv('/content/drive/MyDrive/데이터파일/mpg.csv')\r\n",
        "mpg.head()"
      ],
      "execution_count": 4,
      "outputs": [
        {
          "output_type": "execute_result",
          "data": {
            "text/html": [
              "<div>\n",
              "<style scoped>\n",
              "    .dataframe tbody tr th:only-of-type {\n",
              "        vertical-align: middle;\n",
              "    }\n",
              "\n",
              "    .dataframe tbody tr th {\n",
              "        vertical-align: top;\n",
              "    }\n",
              "\n",
              "    .dataframe thead th {\n",
              "        text-align: right;\n",
              "    }\n",
              "</style>\n",
              "<table border=\"1\" class=\"dataframe\">\n",
              "  <thead>\n",
              "    <tr style=\"text-align: right;\">\n",
              "      <th></th>\n",
              "      <th>manufacturer</th>\n",
              "      <th>model</th>\n",
              "      <th>displ</th>\n",
              "      <th>year</th>\n",
              "      <th>cyl</th>\n",
              "      <th>trans</th>\n",
              "      <th>drv</th>\n",
              "      <th>cty</th>\n",
              "      <th>hwy</th>\n",
              "      <th>fl</th>\n",
              "      <th>class</th>\n",
              "    </tr>\n",
              "  </thead>\n",
              "  <tbody>\n",
              "    <tr>\n",
              "      <th>0</th>\n",
              "      <td>audi</td>\n",
              "      <td>a4</td>\n",
              "      <td>1.8</td>\n",
              "      <td>1999</td>\n",
              "      <td>4</td>\n",
              "      <td>auto(l5)</td>\n",
              "      <td>f</td>\n",
              "      <td>18</td>\n",
              "      <td>29</td>\n",
              "      <td>p</td>\n",
              "      <td>compact</td>\n",
              "    </tr>\n",
              "    <tr>\n",
              "      <th>1</th>\n",
              "      <td>audi</td>\n",
              "      <td>a4</td>\n",
              "      <td>1.8</td>\n",
              "      <td>1999</td>\n",
              "      <td>4</td>\n",
              "      <td>manual(m5)</td>\n",
              "      <td>f</td>\n",
              "      <td>21</td>\n",
              "      <td>29</td>\n",
              "      <td>p</td>\n",
              "      <td>compact</td>\n",
              "    </tr>\n",
              "    <tr>\n",
              "      <th>2</th>\n",
              "      <td>audi</td>\n",
              "      <td>a4</td>\n",
              "      <td>2.0</td>\n",
              "      <td>2008</td>\n",
              "      <td>4</td>\n",
              "      <td>manual(m6)</td>\n",
              "      <td>f</td>\n",
              "      <td>20</td>\n",
              "      <td>31</td>\n",
              "      <td>p</td>\n",
              "      <td>compact</td>\n",
              "    </tr>\n",
              "    <tr>\n",
              "      <th>3</th>\n",
              "      <td>audi</td>\n",
              "      <td>a4</td>\n",
              "      <td>2.0</td>\n",
              "      <td>2008</td>\n",
              "      <td>4</td>\n",
              "      <td>auto(av)</td>\n",
              "      <td>f</td>\n",
              "      <td>21</td>\n",
              "      <td>30</td>\n",
              "      <td>p</td>\n",
              "      <td>compact</td>\n",
              "    </tr>\n",
              "    <tr>\n",
              "      <th>4</th>\n",
              "      <td>audi</td>\n",
              "      <td>a4</td>\n",
              "      <td>2.8</td>\n",
              "      <td>1999</td>\n",
              "      <td>6</td>\n",
              "      <td>auto(l5)</td>\n",
              "      <td>f</td>\n",
              "      <td>16</td>\n",
              "      <td>26</td>\n",
              "      <td>p</td>\n",
              "      <td>compact</td>\n",
              "    </tr>\n",
              "  </tbody>\n",
              "</table>\n",
              "</div>"
            ],
            "text/plain": [
              "  manufacturer model  displ  year  cyl       trans drv  cty  hwy fl    class\n",
              "0         audi    a4    1.8  1999    4    auto(l5)   f   18   29  p  compact\n",
              "1         audi    a4    1.8  1999    4  manual(m5)   f   21   29  p  compact\n",
              "2         audi    a4    2.0  2008    4  manual(m6)   f   20   31  p  compact\n",
              "3         audi    a4    2.0  2008    4    auto(av)   f   21   30  p  compact\n",
              "4         audi    a4    2.8  1999    6    auto(l5)   f   16   26  p  compact"
            ]
          },
          "metadata": {
            "tags": []
          },
          "execution_count": 4
        }
      ]
    },
    {
      "cell_type": "code",
      "metadata": {
        "id": "1yyNHMkDXdic"
      },
      "source": [
        "mpg.columns = [\"제조회사\",\"모델\",\"배기량\",\"생산연도\",\"실린더 개수\",\"변속기 종류\",\"구동방식\",\"도시연비\",\"고속도로 연비\",\"연료 종류\",\"자동차 종류\"]"
      ],
      "execution_count": 5,
      "outputs": []
    },
    {
      "cell_type": "code",
      "metadata": {
        "colab": {
          "base_uri": "https://localhost:8080/"
        },
        "id": "HsOKjKMPX0gL",
        "outputId": "a18f24b1-cd22-4c6d-92ee-3e150f2fe8a0"
      },
      "source": [
        "mpg.columns"
      ],
      "execution_count": 6,
      "outputs": [
        {
          "output_type": "execute_result",
          "data": {
            "text/plain": [
              "Index(['제조회사', '모델', '배기량', '생산연도', '실린더 개수', '변속기 종류', '구동방식', '도시연비',\n",
              "       '고속도로 연비', '연료 종류', '자동차 종류'],\n",
              "      dtype='object')"
            ]
          },
          "metadata": {
            "tags": []
          },
          "execution_count": 6
        }
      ]
    },
    {
      "cell_type": "code",
      "metadata": {
        "colab": {
          "base_uri": "https://localhost:8080/",
          "height": 686
        },
        "id": "e3GjkUEORoMp",
        "outputId": "b5021f4b-afe9-44ec-bce6-cfbdecb244ca"
      },
      "source": [
        "# 결측치 확인\r\n",
        "import missingno\r\n",
        "missingno.matrix(mpg)"
      ],
      "execution_count": 7,
      "outputs": [
        {
          "output_type": "execute_result",
          "data": {
            "text/plain": [
              "<matplotlib.axes._subplots.AxesSubplot at 0x7fed9692feb8>"
            ]
          },
          "metadata": {
            "tags": []
          },
          "execution_count": 7
        },
        {
          "output_type": "display_data",
          "data": {
            "image/png": "[encoded data removed]",
            "text/plain": [
              "<Figure size 1800x720 with 2 Axes>"
            ]
          },
          "metadata": {
            "tags": [],
            "image/png": {
              "width": 1467,
              "height": 652
            },
            "needs_background": "light"
          }
        }
      ]
    },
    {
      "cell_type": "markdown",
      "metadata": {
        "id": "DSdDkBSEH5JR"
      },
      "source": [
        "## Q1 자동차 배기량에 따라 고속도로 연비가 다른지 알아보자\r\n",
        "displ(배기량)이 4 이하인 자동차와 5 이상인 자동차 중 어떤 자동차의 hwy(연비)가 평균적으로 높은가?"
      ]
    },
    {
      "cell_type": "code",
      "metadata": {
        "id": "hjzwAuIyI9cA"
      },
      "source": [
        "mpg_under_4 = mpg[mpg[\"배기량\"] <= 4].copy()\r\n",
        "mpg_over_5 = mpg[mpg[\"배기량\"] >= 5].copy()"
      ],
      "execution_count": 8,
      "outputs": []
    },
    {
      "cell_type": "code",
      "metadata": {
        "colab": {
          "base_uri": "https://localhost:8080/"
        },
        "id": "jBd5ObRGV8LT",
        "outputId": "38169185-2f5a-4525-d942-88e4d289406d"
      },
      "source": [
        "print(mpg_under_4[\"고속도로 연비\"].mean())\r\n",
        "mpg_over_5[\"고속도로 연비\"].mean()"
      ],
      "execution_count": 9,
      "outputs": [
        {
          "output_type": "stream",
          "text": [
            "25.96319018404908\n"
          ],
          "name": "stdout"
        },
        {
          "output_type": "execute_result",
          "data": {
            "text/plain": [
              "18.07894736842105"
            ]
          },
          "metadata": {
            "tags": []
          },
          "execution_count": 9
        }
      ]
    },
    {
      "cell_type": "code",
      "metadata": {
        "colab": {
          "base_uri": "https://localhost:8080/"
        },
        "id": "0cSb-_p7Z9JP",
        "outputId": "c7918dd5-3fac-4312-f769-69acac29c20e"
      },
      "source": [
        "# 변수에 저장하지않고 비교하기\r\n",
        "print(mpg[mpg[\"배기량\"] <= 4][\"고속도로 연비\"].mean())\r\n",
        "mpg[mpg[\"배기량\"] >= 5][\"고속도로 연비\"].mean()"
      ],
      "execution_count": 10,
      "outputs": [
        {
          "output_type": "stream",
          "text": [
            "25.96319018404908\n"
          ],
          "name": "stdout"
        },
        {
          "output_type": "execute_result",
          "data": {
            "text/plain": [
              "18.07894736842105"
            ]
          },
          "metadata": {
            "tags": []
          },
          "execution_count": 10
        }
      ]
    },
    {
      "cell_type": "code",
      "metadata": {
        "id": "CF4NJh9ANRfv"
      },
      "source": [
        "# sns.scatterplot(\"total_bill\", \"tip\", data=df, ax=ax[0])\r\n",
        "# fig\r\n",
        "# sns.stripplot(\"size\", \"tip\", data=df, ax=ax[1])\r\n",
        "# fig"
      ],
      "execution_count": 11,
      "outputs": []
    },
    {
      "cell_type": "markdown",
      "metadata": {
        "id": "tndrI8P0H60C"
      },
      "source": [
        "## Q2. 자동차 제조 회사에 따라 도시 연비가 다른지 알아보자. \"audi\"와 \"toyota\" 중 어느 manufacturer의 cty가 평균적으로 높은지 알아 보자"
      ]
    },
    {
      "cell_type": "code",
      "metadata": {
        "colab": {
          "base_uri": "https://localhost:8080/",
          "height": 284
        },
        "id": "wMSZ2KM5awF_",
        "outputId": "70c0baed-83a5-4299-bb0d-e8d94ed516be"
      },
      "source": [
        "mpg.head()\r\n",
        "mpg.groupby([\"제조회사\"])['도시연비'].mean().sort_values(ascending=False).plot.barh()"
      ],
      "execution_count": 12,
      "outputs": [
        {
          "output_type": "execute_result",
          "data": {
            "text/plain": [
              "<matplotlib.axes._subplots.AxesSubplot at 0x7fed8cd8c6d8>"
            ]
          },
          "metadata": {
            "tags": []
          },
          "execution_count": 12
        },
        {
          "output_type": "display_data",
          "data": {
            "image/png": "[encoded data removed]",
            "text/plain": [
              "<Figure size 432x288 with 1 Axes>"
            ]
          },
          "metadata": {
            "tags": [],
            "image/png": {
              "width": 425,
              "height": 249
            },
            "needs_background": "light"
          }
        }
      ]
    },
    {
      "cell_type": "markdown",
      "metadata": {
        "id": "Gt1_1edeH7It"
      },
      "source": [
        "## Q3. \"chevrolet\", \"ford\", \"honda\" 자동차의 고속도로 연비 평균을 알아보자. 이 회사들의 데이터를 추출한 후 hwy 전체 평균을 구해 보자."
      ]
    },
    {
      "cell_type": "code",
      "metadata": {
        "colab": {
          "base_uri": "https://localhost:8080/"
        },
        "id": "g_xQvmfZFRJH",
        "outputId": "6a12fe01-ed35-4a7a-fde3-3973b74426cc"
      },
      "source": [
        "mpg[mpg[\"제조회사\"].str.contains('chevrolet|ford|honda')]['고속도로 연비'].mean()"
      ],
      "execution_count": 13,
      "outputs": [
        {
          "output_type": "execute_result",
          "data": {
            "text/plain": [
              "22.50943396226415"
            ]
          },
          "metadata": {
            "tags": []
          },
          "execution_count": 13
        }
      ]
    },
    {
      "cell_type": "markdown",
      "metadata": {
        "id": "Fbmxb-iFH7X6"
      },
      "source": [
        "## Q4. mpg 데이터에서 class(자동차 종류), cty(도시 연비) 변수를 추출해 새로운 데이터를 만들어라"
      ]
    },
    {
      "cell_type": "code",
      "metadata": {
        "colab": {
          "base_uri": "https://localhost:8080/",
          "height": 77
        },
        "id": "9E-C7dn0GcTB",
        "outputId": "9ad56c47-001b-422d-cfcc-d9b5580806fe"
      },
      "source": [
        "mpg_class = mpg[[\"자동차 종류\",\"도시연비\"]].copy()\r\n",
        "mpg_class.head(1)"
      ],
      "execution_count": 14,
      "outputs": [
        {
          "output_type": "execute_result",
          "data": {
            "text/html": [
              "<div>\n",
              "<style scoped>\n",
              "    .dataframe tbody tr th:only-of-type {\n",
              "        vertical-align: middle;\n",
              "    }\n",
              "\n",
              "    .dataframe tbody tr th {\n",
              "        vertical-align: top;\n",
              "    }\n",
              "\n",
              "    .dataframe thead th {\n",
              "        text-align: right;\n",
              "    }\n",
              "</style>\n",
              "<table border=\"1\" class=\"dataframe\">\n",
              "  <thead>\n",
              "    <tr style=\"text-align: right;\">\n",
              "      <th></th>\n",
              "      <th>자동차 종류</th>\n",
              "      <th>도시연비</th>\n",
              "    </tr>\n",
              "  </thead>\n",
              "  <tbody>\n",
              "    <tr>\n",
              "      <th>0</th>\n",
              "      <td>compact</td>\n",
              "      <td>18</td>\n",
              "    </tr>\n",
              "  </tbody>\n",
              "</table>\n",
              "</div>"
            ],
            "text/plain": [
              "    자동차 종류  도시연비\n",
              "0  compact    18"
            ]
          },
          "metadata": {
            "tags": []
          },
          "execution_count": 14
        }
      ]
    },
    {
      "cell_type": "markdown",
      "metadata": {
        "id": "fzk2VuVbIFln"
      },
      "source": [
        "## Q5. 자동차 종류에 따라 도시 연비가 다른지 알아보자. 앞에서 추출한 데이터로 class가 \"suv\"인 자동차와 \"compact\"인 자동차 중 어떤 자동차의 cty가 더 높은지 알아보자."
      ]
    },
    {
      "cell_type": "code",
      "metadata": {
        "colab": {
          "base_uri": "https://localhost:8080/",
          "height": 408
        },
        "id": "sMI6YyDCGyNf",
        "outputId": "5d985014-9bd8-42d9-b53c-473a108d1455"
      },
      "source": [
        "plt.figure(figsize=(15,6))\r\n",
        "sns.barplot(data=mpg_class, x='자동차 종류', y='도시연비',\r\n",
        "            ci=None, palette=\"Blues\")"
      ],
      "execution_count": 15,
      "outputs": [
        {
          "output_type": "execute_result",
          "data": {
            "text/plain": [
              "<matplotlib.axes._subplots.AxesSubplot at 0x7fed8cd2a9e8>"
            ]
          },
          "metadata": {
            "tags": []
          },
          "execution_count": 15
        },
        {
          "output_type": "display_data",
          "data": {
            "image/png": "[encoded data removed]",
            "text/plain": [
              "<Figure size 1080x432 with 1 Axes>"
            ]
          },
          "metadata": {
            "tags": [],
            "image/png": {
              "width": 893,
              "height": 373
            },
            "needs_background": "light"
          }
        }
      ]
    },
    {
      "cell_type": "code",
      "metadata": {
        "colab": {
          "base_uri": "https://localhost:8080/",
          "height": 284
        },
        "id": "MUxQq0qqIlrE",
        "outputId": "5dda9eaf-8248-4b5a-da7a-6f5da6bae7c9"
      },
      "source": [
        "mpg.groupby([\"자동차 종류\"])[\"도시연비\"].describe()"
      ],
      "execution_count": 16,
      "outputs": [
        {
          "output_type": "execute_result",
          "data": {
            "text/html": [
              "<div>\n",
              "<style scoped>\n",
              "    .dataframe tbody tr th:only-of-type {\n",
              "        vertical-align: middle;\n",
              "    }\n",
              "\n",
              "    .dataframe tbody tr th {\n",
              "        vertical-align: top;\n",
              "    }\n",
              "\n",
              "    .dataframe thead th {\n",
              "        text-align: right;\n",
              "    }\n",
              "</style>\n",
              "<table border=\"1\" class=\"dataframe\">\n",
              "  <thead>\n",
              "    <tr style=\"text-align: right;\">\n",
              "      <th></th>\n",
              "      <th>count</th>\n",
              "      <th>mean</th>\n",
              "      <th>std</th>\n",
              "      <th>min</th>\n",
              "      <th>25%</th>\n",
              "      <th>50%</th>\n",
              "      <th>75%</th>\n",
              "      <th>max</th>\n",
              "    </tr>\n",
              "    <tr>\n",
              "      <th>자동차 종류</th>\n",
              "      <th></th>\n",
              "      <th></th>\n",
              "      <th></th>\n",
              "      <th></th>\n",
              "      <th></th>\n",
              "      <th></th>\n",
              "      <th></th>\n",
              "      <th></th>\n",
              "    </tr>\n",
              "  </thead>\n",
              "  <tbody>\n",
              "    <tr>\n",
              "      <th>2seater</th>\n",
              "      <td>5.0</td>\n",
              "      <td>15.400000</td>\n",
              "      <td>0.547723</td>\n",
              "      <td>15.0</td>\n",
              "      <td>15.0</td>\n",
              "      <td>15.0</td>\n",
              "      <td>16.00</td>\n",
              "      <td>16.0</td>\n",
              "    </tr>\n",
              "    <tr>\n",
              "      <th>compact</th>\n",
              "      <td>47.0</td>\n",
              "      <td>20.127660</td>\n",
              "      <td>3.385500</td>\n",
              "      <td>15.0</td>\n",
              "      <td>18.0</td>\n",
              "      <td>20.0</td>\n",
              "      <td>21.00</td>\n",
              "      <td>33.0</td>\n",
              "    </tr>\n",
              "    <tr>\n",
              "      <th>midsize</th>\n",
              "      <td>41.0</td>\n",
              "      <td>18.756098</td>\n",
              "      <td>1.946542</td>\n",
              "      <td>15.0</td>\n",
              "      <td>18.0</td>\n",
              "      <td>18.0</td>\n",
              "      <td>21.00</td>\n",
              "      <td>23.0</td>\n",
              "    </tr>\n",
              "    <tr>\n",
              "      <th>minivan</th>\n",
              "      <td>11.0</td>\n",
              "      <td>15.818182</td>\n",
              "      <td>1.834022</td>\n",
              "      <td>11.0</td>\n",
              "      <td>15.5</td>\n",
              "      <td>16.0</td>\n",
              "      <td>17.00</td>\n",
              "      <td>18.0</td>\n",
              "    </tr>\n",
              "    <tr>\n",
              "      <th>pickup</th>\n",
              "      <td>33.0</td>\n",
              "      <td>13.000000</td>\n",
              "      <td>2.046338</td>\n",
              "      <td>9.0</td>\n",
              "      <td>11.0</td>\n",
              "      <td>13.0</td>\n",
              "      <td>14.00</td>\n",
              "      <td>17.0</td>\n",
              "    </tr>\n",
              "    <tr>\n",
              "      <th>subcompact</th>\n",
              "      <td>35.0</td>\n",
              "      <td>20.371429</td>\n",
              "      <td>4.602338</td>\n",
              "      <td>14.0</td>\n",
              "      <td>17.0</td>\n",
              "      <td>19.0</td>\n",
              "      <td>23.50</td>\n",
              "      <td>35.0</td>\n",
              "    </tr>\n",
              "    <tr>\n",
              "      <th>suv</th>\n",
              "      <td>62.0</td>\n",
              "      <td>13.500000</td>\n",
              "      <td>2.420879</td>\n",
              "      <td>9.0</td>\n",
              "      <td>12.0</td>\n",
              "      <td>13.0</td>\n",
              "      <td>14.75</td>\n",
              "      <td>20.0</td>\n",
              "    </tr>\n",
              "  </tbody>\n",
              "</table>\n",
              "</div>"
            ],
            "text/plain": [
              "            count       mean       std   min   25%   50%    75%   max\n",
              "자동차 종류                                                               \n",
              "2seater       5.0  15.400000  0.547723  15.0  15.0  15.0  16.00  16.0\n",
              "compact      47.0  20.127660  3.385500  15.0  18.0  20.0  21.00  33.0\n",
              "midsize      41.0  18.756098  1.946542  15.0  18.0  18.0  21.00  23.0\n",
              "minivan      11.0  15.818182  1.834022  11.0  15.5  16.0  17.00  18.0\n",
              "pickup       33.0  13.000000  2.046338   9.0  11.0  13.0  14.00  17.0\n",
              "subcompact   35.0  20.371429  4.602338  14.0  17.0  19.0  23.50  35.0\n",
              "suv          62.0  13.500000  2.420879   9.0  12.0  13.0  14.75  20.0"
            ]
          },
          "metadata": {
            "tags": []
          },
          "execution_count": 16
        }
      ]
    },
    {
      "cell_type": "markdown",
      "metadata": {
        "id": "39PTrx7dIIol"
      },
      "source": [
        "## Q6. \"audi\"에서 생산한 자동차 중 hwy가 높은 1~5위의 데이터를 출력하라."
      ]
    },
    {
      "cell_type": "code",
      "metadata": {
        "colab": {
          "base_uri": "https://localhost:8080/",
          "height": 195
        },
        "id": "1kLcfu9pLkVn",
        "outputId": "677ad188-d094-473c-d000-493d91c5a982"
      },
      "source": [
        "mpg[mpg[\"제조회사\"] == \"audi\"].sort_values(by=\"고속도로 연비\", ascending=False).head()"
      ],
      "execution_count": 17,
      "outputs": [
        {
          "output_type": "execute_result",
          "data": {
            "text/html": [
              "<div>\n",
              "<style scoped>\n",
              "    .dataframe tbody tr th:only-of-type {\n",
              "        vertical-align: middle;\n",
              "    }\n",
              "\n",
              "    .dataframe tbody tr th {\n",
              "        vertical-align: top;\n",
              "    }\n",
              "\n",
              "    .dataframe thead th {\n",
              "        text-align: right;\n",
              "    }\n",
              "</style>\n",
              "<table border=\"1\" class=\"dataframe\">\n",
              "  <thead>\n",
              "    <tr style=\"text-align: right;\">\n",
              "      <th></th>\n",
              "      <th>제조회사</th>\n",
              "      <th>모델</th>\n",
              "      <th>배기량</th>\n",
              "      <th>생산연도</th>\n",
              "      <th>실린더 개수</th>\n",
              "      <th>변속기 종류</th>\n",
              "      <th>구동방식</th>\n",
              "      <th>도시연비</th>\n",
              "      <th>고속도로 연비</th>\n",
              "      <th>연료 종류</th>\n",
              "      <th>자동차 종류</th>\n",
              "    </tr>\n",
              "  </thead>\n",
              "  <tbody>\n",
              "    <tr>\n",
              "      <th>2</th>\n",
              "      <td>audi</td>\n",
              "      <td>a4</td>\n",
              "      <td>2.0</td>\n",
              "      <td>2008</td>\n",
              "      <td>4</td>\n",
              "      <td>manual(m6)</td>\n",
              "      <td>f</td>\n",
              "      <td>20</td>\n",
              "      <td>31</td>\n",
              "      <td>p</td>\n",
              "      <td>compact</td>\n",
              "    </tr>\n",
              "    <tr>\n",
              "      <th>3</th>\n",
              "      <td>audi</td>\n",
              "      <td>a4</td>\n",
              "      <td>2.0</td>\n",
              "      <td>2008</td>\n",
              "      <td>4</td>\n",
              "      <td>auto(av)</td>\n",
              "      <td>f</td>\n",
              "      <td>21</td>\n",
              "      <td>30</td>\n",
              "      <td>p</td>\n",
              "      <td>compact</td>\n",
              "    </tr>\n",
              "    <tr>\n",
              "      <th>0</th>\n",
              "      <td>audi</td>\n",
              "      <td>a4</td>\n",
              "      <td>1.8</td>\n",
              "      <td>1999</td>\n",
              "      <td>4</td>\n",
              "      <td>auto(l5)</td>\n",
              "      <td>f</td>\n",
              "      <td>18</td>\n",
              "      <td>29</td>\n",
              "      <td>p</td>\n",
              "      <td>compact</td>\n",
              "    </tr>\n",
              "    <tr>\n",
              "      <th>1</th>\n",
              "      <td>audi</td>\n",
              "      <td>a4</td>\n",
              "      <td>1.8</td>\n",
              "      <td>1999</td>\n",
              "      <td>4</td>\n",
              "      <td>manual(m5)</td>\n",
              "      <td>f</td>\n",
              "      <td>21</td>\n",
              "      <td>29</td>\n",
              "      <td>p</td>\n",
              "      <td>compact</td>\n",
              "    </tr>\n",
              "    <tr>\n",
              "      <th>9</th>\n",
              "      <td>audi</td>\n",
              "      <td>a4 quattro</td>\n",
              "      <td>2.0</td>\n",
              "      <td>2008</td>\n",
              "      <td>4</td>\n",
              "      <td>manual(m6)</td>\n",
              "      <td>4</td>\n",
              "      <td>20</td>\n",
              "      <td>28</td>\n",
              "      <td>p</td>\n",
              "      <td>compact</td>\n",
              "    </tr>\n",
              "  </tbody>\n",
              "</table>\n",
              "</div>"
            ],
            "text/plain": [
              "   제조회사          모델  배기량  생산연도  실린더 개수  ... 구동방식 도시연비  고속도로 연비  연료 종류   자동차 종류\n",
              "2  audi          a4  2.0  2008       4  ...    f   20       31      p  compact\n",
              "3  audi          a4  2.0  2008       4  ...    f   21       30      p  compact\n",
              "0  audi          a4  1.8  1999       4  ...    f   18       29      p  compact\n",
              "1  audi          a4  1.8  1999       4  ...    f   21       29      p  compact\n",
              "9  audi  a4 quattro  2.0  2008       4  ...    4   20       28      p  compact\n",
              "\n",
              "[5 rows x 11 columns]"
            ]
          },
          "metadata": {
            "tags": []
          },
          "execution_count": 17
        }
      ]
    },
    {
      "cell_type": "markdown",
      "metadata": {
        "id": "_loFexnvILXo"
      },
      "source": [
        "## Q7. mpg() 데이터 복사본을 만들고, cty와 hwy를 더한 '합산 연비 변수'를 추가하라."
      ]
    },
    {
      "cell_type": "code",
      "metadata": {
        "colab": {
          "base_uri": "https://localhost:8080/",
          "height": 195
        },
        "id": "ZUKi-B_0RPQd",
        "outputId": "63f496b0-e9c4-4521-ae3c-50affa7de9ad"
      },
      "source": [
        "mpg2 = mpg.copy()\r\n",
        "mpg2[\"합산 연비\"] = mpg[\"도시연비\"] + mpg[\"고속도로 연비\"]\r\n",
        "mpg2.head()"
      ],
      "execution_count": 18,
      "outputs": [
        {
          "output_type": "execute_result",
          "data": {
            "text/html": [
              "<div>\n",
              "<style scoped>\n",
              "    .dataframe tbody tr th:only-of-type {\n",
              "        vertical-align: middle;\n",
              "    }\n",
              "\n",
              "    .dataframe tbody tr th {\n",
              "        vertical-align: top;\n",
              "    }\n",
              "\n",
              "    .dataframe thead th {\n",
              "        text-align: right;\n",
              "    }\n",
              "</style>\n",
              "<table border=\"1\" class=\"dataframe\">\n",
              "  <thead>\n",
              "    <tr style=\"text-align: right;\">\n",
              "      <th></th>\n",
              "      <th>제조회사</th>\n",
              "      <th>모델</th>\n",
              "      <th>배기량</th>\n",
              "      <th>생산연도</th>\n",
              "      <th>실린더 개수</th>\n",
              "      <th>변속기 종류</th>\n",
              "      <th>구동방식</th>\n",
              "      <th>도시연비</th>\n",
              "      <th>고속도로 연비</th>\n",
              "      <th>연료 종류</th>\n",
              "      <th>자동차 종류</th>\n",
              "      <th>합산 연비</th>\n",
              "    </tr>\n",
              "  </thead>\n",
              "  <tbody>\n",
              "    <tr>\n",
              "      <th>0</th>\n",
              "      <td>audi</td>\n",
              "      <td>a4</td>\n",
              "      <td>1.8</td>\n",
              "      <td>1999</td>\n",
              "      <td>4</td>\n",
              "      <td>auto(l5)</td>\n",
              "      <td>f</td>\n",
              "      <td>18</td>\n",
              "      <td>29</td>\n",
              "      <td>p</td>\n",
              "      <td>compact</td>\n",
              "      <td>47</td>\n",
              "    </tr>\n",
              "    <tr>\n",
              "      <th>1</th>\n",
              "      <td>audi</td>\n",
              "      <td>a4</td>\n",
              "      <td>1.8</td>\n",
              "      <td>1999</td>\n",
              "      <td>4</td>\n",
              "      <td>manual(m5)</td>\n",
              "      <td>f</td>\n",
              "      <td>21</td>\n",
              "      <td>29</td>\n",
              "      <td>p</td>\n",
              "      <td>compact</td>\n",
              "      <td>50</td>\n",
              "    </tr>\n",
              "    <tr>\n",
              "      <th>2</th>\n",
              "      <td>audi</td>\n",
              "      <td>a4</td>\n",
              "      <td>2.0</td>\n",
              "      <td>2008</td>\n",
              "      <td>4</td>\n",
              "      <td>manual(m6)</td>\n",
              "      <td>f</td>\n",
              "      <td>20</td>\n",
              "      <td>31</td>\n",
              "      <td>p</td>\n",
              "      <td>compact</td>\n",
              "      <td>51</td>\n",
              "    </tr>\n",
              "    <tr>\n",
              "      <th>3</th>\n",
              "      <td>audi</td>\n",
              "      <td>a4</td>\n",
              "      <td>2.0</td>\n",
              "      <td>2008</td>\n",
              "      <td>4</td>\n",
              "      <td>auto(av)</td>\n",
              "      <td>f</td>\n",
              "      <td>21</td>\n",
              "      <td>30</td>\n",
              "      <td>p</td>\n",
              "      <td>compact</td>\n",
              "      <td>51</td>\n",
              "    </tr>\n",
              "    <tr>\n",
              "      <th>4</th>\n",
              "      <td>audi</td>\n",
              "      <td>a4</td>\n",
              "      <td>2.8</td>\n",
              "      <td>1999</td>\n",
              "      <td>6</td>\n",
              "      <td>auto(l5)</td>\n",
              "      <td>f</td>\n",
              "      <td>16</td>\n",
              "      <td>26</td>\n",
              "      <td>p</td>\n",
              "      <td>compact</td>\n",
              "      <td>42</td>\n",
              "    </tr>\n",
              "  </tbody>\n",
              "</table>\n",
              "</div>"
            ],
            "text/plain": [
              "   제조회사  모델  배기량  생산연도  실린더 개수  ... 도시연비 고속도로 연비  연료 종류   자동차 종류 합산 연비\n",
              "0  audi  a4  1.8  1999       4  ...   18      29      p  compact    47\n",
              "1  audi  a4  1.8  1999       4  ...   21      29      p  compact    50\n",
              "2  audi  a4  2.0  2008       4  ...   20      31      p  compact    51\n",
              "3  audi  a4  2.0  2008       4  ...   21      30      p  compact    51\n",
              "4  audi  a4  2.8  1999       6  ...   16      26      p  compact    42\n",
              "\n",
              "[5 rows x 12 columns]"
            ]
          },
          "metadata": {
            "tags": []
          },
          "execution_count": 18
        }
      ]
    },
    {
      "cell_type": "markdown",
      "metadata": {
        "id": "OTK9LiD_IPfl"
      },
      "source": [
        "## Q8. 합산 연비 변수를 2로 나눠 평균 연비 변수를 추가하라."
      ]
    },
    {
      "cell_type": "code",
      "metadata": {
        "colab": {
          "base_uri": "https://localhost:8080/",
          "height": 195
        },
        "id": "VcefAfHTRiTW",
        "outputId": "873bd05e-04b1-400a-f4da-5dfee9d99cc0"
      },
      "source": [
        "mpg2[\"평균 연비\"] = mpg2[\"합산 연비\"] / 2\r\n",
        "mpg2.head()"
      ],
      "execution_count": 19,
      "outputs": [
        {
          "output_type": "execute_result",
          "data": {
            "text/html": [
              "<div>\n",
              "<style scoped>\n",
              "    .dataframe tbody tr th:only-of-type {\n",
              "        vertical-align: middle;\n",
              "    }\n",
              "\n",
              "    .dataframe tbody tr th {\n",
              "        vertical-align: top;\n",
              "    }\n",
              "\n",
              "    .dataframe thead th {\n",
              "        text-align: right;\n",
              "    }\n",
              "</style>\n",
              "<table border=\"1\" class=\"dataframe\">\n",
              "  <thead>\n",
              "    <tr style=\"text-align: right;\">\n",
              "      <th></th>\n",
              "      <th>제조회사</th>\n",
              "      <th>모델</th>\n",
              "      <th>배기량</th>\n",
              "      <th>생산연도</th>\n",
              "      <th>실린더 개수</th>\n",
              "      <th>변속기 종류</th>\n",
              "      <th>구동방식</th>\n",
              "      <th>도시연비</th>\n",
              "      <th>고속도로 연비</th>\n",
              "      <th>연료 종류</th>\n",
              "      <th>자동차 종류</th>\n",
              "      <th>합산 연비</th>\n",
              "      <th>평균 연비</th>\n",
              "    </tr>\n",
              "  </thead>\n",
              "  <tbody>\n",
              "    <tr>\n",
              "      <th>0</th>\n",
              "      <td>audi</td>\n",
              "      <td>a4</td>\n",
              "      <td>1.8</td>\n",
              "      <td>1999</td>\n",
              "      <td>4</td>\n",
              "      <td>auto(l5)</td>\n",
              "      <td>f</td>\n",
              "      <td>18</td>\n",
              "      <td>29</td>\n",
              "      <td>p</td>\n",
              "      <td>compact</td>\n",
              "      <td>47</td>\n",
              "      <td>23.5</td>\n",
              "    </tr>\n",
              "    <tr>\n",
              "      <th>1</th>\n",
              "      <td>audi</td>\n",
              "      <td>a4</td>\n",
              "      <td>1.8</td>\n",
              "      <td>1999</td>\n",
              "      <td>4</td>\n",
              "      <td>manual(m5)</td>\n",
              "      <td>f</td>\n",
              "      <td>21</td>\n",
              "      <td>29</td>\n",
              "      <td>p</td>\n",
              "      <td>compact</td>\n",
              "      <td>50</td>\n",
              "      <td>25.0</td>\n",
              "    </tr>\n",
              "    <tr>\n",
              "      <th>2</th>\n",
              "      <td>audi</td>\n",
              "      <td>a4</td>\n",
              "      <td>2.0</td>\n",
              "      <td>2008</td>\n",
              "      <td>4</td>\n",
              "      <td>manual(m6)</td>\n",
              "      <td>f</td>\n",
              "      <td>20</td>\n",
              "      <td>31</td>\n",
              "      <td>p</td>\n",
              "      <td>compact</td>\n",
              "      <td>51</td>\n",
              "      <td>25.5</td>\n",
              "    </tr>\n",
              "    <tr>\n",
              "      <th>3</th>\n",
              "      <td>audi</td>\n",
              "      <td>a4</td>\n",
              "      <td>2.0</td>\n",
              "      <td>2008</td>\n",
              "      <td>4</td>\n",
              "      <td>auto(av)</td>\n",
              "      <td>f</td>\n",
              "      <td>21</td>\n",
              "      <td>30</td>\n",
              "      <td>p</td>\n",
              "      <td>compact</td>\n",
              "      <td>51</td>\n",
              "      <td>25.5</td>\n",
              "    </tr>\n",
              "    <tr>\n",
              "      <th>4</th>\n",
              "      <td>audi</td>\n",
              "      <td>a4</td>\n",
              "      <td>2.8</td>\n",
              "      <td>1999</td>\n",
              "      <td>6</td>\n",
              "      <td>auto(l5)</td>\n",
              "      <td>f</td>\n",
              "      <td>16</td>\n",
              "      <td>26</td>\n",
              "      <td>p</td>\n",
              "      <td>compact</td>\n",
              "      <td>42</td>\n",
              "      <td>21.0</td>\n",
              "    </tr>\n",
              "  </tbody>\n",
              "</table>\n",
              "</div>"
            ],
            "text/plain": [
              "   제조회사  모델  배기량  생산연도  실린더 개수  ... 고속도로 연비 연료 종류   자동차 종류  합산 연비 평균 연비\n",
              "0  audi  a4  1.8  1999       4  ...      29     p  compact     47  23.5\n",
              "1  audi  a4  1.8  1999       4  ...      29     p  compact     50  25.0\n",
              "2  audi  a4  2.0  2008       4  ...      31     p  compact     51  25.5\n",
              "3  audi  a4  2.0  2008       4  ...      30     p  compact     51  25.5\n",
              "4  audi  a4  2.8  1999       6  ...      26     p  compact     42  21.0\n",
              "\n",
              "[5 rows x 13 columns]"
            ]
          },
          "metadata": {
            "tags": []
          },
          "execution_count": 19
        }
      ]
    },
    {
      "cell_type": "markdown",
      "metadata": {
        "id": "nhsSXjFwIQ_k"
      },
      "source": [
        "## Q9. 평균 연비 변수가 가장 높은 자동차 3종의 데이터를 출력하라.\r\n"
      ]
    },
    {
      "cell_type": "code",
      "metadata": {
        "colab": {
          "base_uri": "https://localhost:8080/",
          "height": 136
        },
        "id": "LP010VmPSAES",
        "outputId": "580e9a30-6015-4d30-fe7f-725d9afa3f26"
      },
      "source": [
        "mpg2.sort_values(by=\"평균 연비\", ascending=False).head(3)"
      ],
      "execution_count": 20,
      "outputs": [
        {
          "output_type": "execute_result",
          "data": {
            "text/html": [
              "<div>\n",
              "<style scoped>\n",
              "    .dataframe tbody tr th:only-of-type {\n",
              "        vertical-align: middle;\n",
              "    }\n",
              "\n",
              "    .dataframe tbody tr th {\n",
              "        vertical-align: top;\n",
              "    }\n",
              "\n",
              "    .dataframe thead th {\n",
              "        text-align: right;\n",
              "    }\n",
              "</style>\n",
              "<table border=\"1\" class=\"dataframe\">\n",
              "  <thead>\n",
              "    <tr style=\"text-align: right;\">\n",
              "      <th></th>\n",
              "      <th>제조회사</th>\n",
              "      <th>모델</th>\n",
              "      <th>배기량</th>\n",
              "      <th>생산연도</th>\n",
              "      <th>실린더 개수</th>\n",
              "      <th>변속기 종류</th>\n",
              "      <th>구동방식</th>\n",
              "      <th>도시연비</th>\n",
              "      <th>고속도로 연비</th>\n",
              "      <th>연료 종류</th>\n",
              "      <th>자동차 종류</th>\n",
              "      <th>합산 연비</th>\n",
              "      <th>평균 연비</th>\n",
              "    </tr>\n",
              "  </thead>\n",
              "  <tbody>\n",
              "    <tr>\n",
              "      <th>221</th>\n",
              "      <td>volkswagen</td>\n",
              "      <td>new beetle</td>\n",
              "      <td>1.9</td>\n",
              "      <td>1999</td>\n",
              "      <td>4</td>\n",
              "      <td>manual(m5)</td>\n",
              "      <td>f</td>\n",
              "      <td>35</td>\n",
              "      <td>44</td>\n",
              "      <td>d</td>\n",
              "      <td>subcompact</td>\n",
              "      <td>79</td>\n",
              "      <td>39.5</td>\n",
              "    </tr>\n",
              "    <tr>\n",
              "      <th>212</th>\n",
              "      <td>volkswagen</td>\n",
              "      <td>jetta</td>\n",
              "      <td>1.9</td>\n",
              "      <td>1999</td>\n",
              "      <td>4</td>\n",
              "      <td>manual(m5)</td>\n",
              "      <td>f</td>\n",
              "      <td>33</td>\n",
              "      <td>44</td>\n",
              "      <td>d</td>\n",
              "      <td>compact</td>\n",
              "      <td>77</td>\n",
              "      <td>38.5</td>\n",
              "    </tr>\n",
              "    <tr>\n",
              "      <th>222</th>\n",
              "      <td>volkswagen</td>\n",
              "      <td>new beetle</td>\n",
              "      <td>1.9</td>\n",
              "      <td>1999</td>\n",
              "      <td>4</td>\n",
              "      <td>auto(l4)</td>\n",
              "      <td>f</td>\n",
              "      <td>29</td>\n",
              "      <td>41</td>\n",
              "      <td>d</td>\n",
              "      <td>subcompact</td>\n",
              "      <td>70</td>\n",
              "      <td>35.0</td>\n",
              "    </tr>\n",
              "  </tbody>\n",
              "</table>\n",
              "</div>"
            ],
            "text/plain": [
              "           제조회사          모델  배기량  생산연도  ...  연료 종류      자동차 종류 합산 연비  평균 연비\n",
              "221  volkswagen  new beetle  1.9  1999  ...      d  subcompact    79   39.5\n",
              "212  volkswagen       jetta  1.9  1999  ...      d     compact    77   38.5\n",
              "222  volkswagen  new beetle  1.9  1999  ...      d  subcompact    70   35.0\n",
              "\n",
              "[3 rows x 13 columns]"
            ]
          },
          "metadata": {
            "tags": []
          },
          "execution_count": 20
        }
      ]
    },
    {
      "cell_type": "markdown",
      "metadata": {
        "id": "cvvLvk9-IQ3L"
      },
      "source": [
        "## Q10. 위에 3문제를 하나의 코드로 만들어 보라."
      ]
    },
    {
      "cell_type": "code",
      "metadata": {
        "id": "aUYDkgn5Twhf",
        "colab": {
          "base_uri": "https://localhost:8080/",
          "height": 136
        },
        "outputId": "cf8da206-878e-4613-8e0e-1bb3f0738f32"
      },
      "source": [
        "mpg2 = mpg.copy()\r\n",
        "mpg2[\"합산 연비\"] = mpg[\"도시연비\"] + mpg[\"고속도로 연비\"]\r\n",
        "mpg2[\"평균 연비\"] = mpg2[\"합산 연비\"] / 2\r\n",
        "mpg2.sort_values(by=\"평균 연비\", ascending=False).head(3)"
      ],
      "execution_count": 21,
      "outputs": [
        {
          "output_type": "execute_result",
          "data": {
            "text/html": [
              "<div>\n",
              "<style scoped>\n",
              "    .dataframe tbody tr th:only-of-type {\n",
              "        vertical-align: middle;\n",
              "    }\n",
              "\n",
              "    .dataframe tbody tr th {\n",
              "        vertical-align: top;\n",
              "    }\n",
              "\n",
              "    .dataframe thead th {\n",
              "        text-align: right;\n",
              "    }\n",
              "</style>\n",
              "<table border=\"1\" class=\"dataframe\">\n",
              "  <thead>\n",
              "    <tr style=\"text-align: right;\">\n",
              "      <th></th>\n",
              "      <th>제조회사</th>\n",
              "      <th>모델</th>\n",
              "      <th>배기량</th>\n",
              "      <th>생산연도</th>\n",
              "      <th>실린더 개수</th>\n",
              "      <th>변속기 종류</th>\n",
              "      <th>구동방식</th>\n",
              "      <th>도시연비</th>\n",
              "      <th>고속도로 연비</th>\n",
              "      <th>연료 종류</th>\n",
              "      <th>자동차 종류</th>\n",
              "      <th>합산 연비</th>\n",
              "      <th>평균 연비</th>\n",
              "    </tr>\n",
              "  </thead>\n",
              "  <tbody>\n",
              "    <tr>\n",
              "      <th>221</th>\n",
              "      <td>volkswagen</td>\n",
              "      <td>new beetle</td>\n",
              "      <td>1.9</td>\n",
              "      <td>1999</td>\n",
              "      <td>4</td>\n",
              "      <td>manual(m5)</td>\n",
              "      <td>f</td>\n",
              "      <td>35</td>\n",
              "      <td>44</td>\n",
              "      <td>d</td>\n",
              "      <td>subcompact</td>\n",
              "      <td>79</td>\n",
              "      <td>39.5</td>\n",
              "    </tr>\n",
              "    <tr>\n",
              "      <th>212</th>\n",
              "      <td>volkswagen</td>\n",
              "      <td>jetta</td>\n",
              "      <td>1.9</td>\n",
              "      <td>1999</td>\n",
              "      <td>4</td>\n",
              "      <td>manual(m5)</td>\n",
              "      <td>f</td>\n",
              "      <td>33</td>\n",
              "      <td>44</td>\n",
              "      <td>d</td>\n",
              "      <td>compact</td>\n",
              "      <td>77</td>\n",
              "      <td>38.5</td>\n",
              "    </tr>\n",
              "    <tr>\n",
              "      <th>222</th>\n",
              "      <td>volkswagen</td>\n",
              "      <td>new beetle</td>\n",
              "      <td>1.9</td>\n",
              "      <td>1999</td>\n",
              "      <td>4</td>\n",
              "      <td>auto(l4)</td>\n",
              "      <td>f</td>\n",
              "      <td>29</td>\n",
              "      <td>41</td>\n",
              "      <td>d</td>\n",
              "      <td>subcompact</td>\n",
              "      <td>70</td>\n",
              "      <td>35.0</td>\n",
              "    </tr>\n",
              "  </tbody>\n",
              "</table>\n",
              "</div>"
            ],
            "text/plain": [
              "           제조회사          모델  배기량  생산연도  ...  연료 종류      자동차 종류 합산 연비  평균 연비\n",
              "221  volkswagen  new beetle  1.9  1999  ...      d  subcompact    79   39.5\n",
              "212  volkswagen       jetta  1.9  1999  ...      d     compact    77   38.5\n",
              "222  volkswagen  new beetle  1.9  1999  ...      d  subcompact    70   35.0\n",
              "\n",
              "[3 rows x 13 columns]"
            ]
          },
          "metadata": {
            "tags": []
          },
          "execution_count": 21
        }
      ]
    },
    {
      "cell_type": "markdown",
      "metadata": {
        "id": "q3Cjvvb3IdL8"
      },
      "source": [
        "## Q11. mpg 데이터의 class는 \"suv\", \"compact\" 등 자동차를 특징에 따라 일곱 종류로 분류한 변수이다. 어떤 차종의 도시 연비가 높은지 비교해보자. class별 cty 평균을 구해보자."
      ]
    },
    {
      "cell_type": "code",
      "metadata": {
        "colab": {
          "base_uri": "https://localhost:8080/"
        },
        "id": "AydC-LMSUBCG",
        "outputId": "0dad64d6-2179-4b3a-8427-bba0fa47f322"
      },
      "source": [
        "round(mpg.groupby([\"자동차 종류\"])[\"도시연비\"].mean(),4)"
      ],
      "execution_count": 22,
      "outputs": [
        {
          "output_type": "execute_result",
          "data": {
            "text/plain": [
              "자동차 종류\n",
              "2seater       15.4000\n",
              "compact       20.1277\n",
              "midsize       18.7561\n",
              "minivan       15.8182\n",
              "pickup        13.0000\n",
              "subcompact    20.3714\n",
              "suv           13.5000\n",
              "Name: 도시연비, dtype: float64"
            ]
          },
          "metadata": {
            "tags": []
          },
          "execution_count": 22
        }
      ]
    },
    {
      "cell_type": "markdown",
      "metadata": {
        "id": "sHyuhQorIdV9"
      },
      "source": [
        "## Q12. 앞 문제의 출력 결과는 class 값 알파벳 순으로 정렬되어 있다. cty 평균이 높은 순으로 정렬해 출력하자.\r\n"
      ]
    },
    {
      "cell_type": "code",
      "metadata": {
        "colab": {
          "base_uri": "https://localhost:8080/"
        },
        "id": "NARM90D8UcgJ",
        "outputId": "0aab8abd-b2b4-43d5-e498-f7d7ed0b3943"
      },
      "source": [
        "mpg.groupby([\"자동차 종류\"])[\"도시연비\"].mean().sort_values(ascending=False)"
      ],
      "execution_count": 23,
      "outputs": [
        {
          "output_type": "execute_result",
          "data": {
            "text/plain": [
              "자동차 종류\n",
              "subcompact    20.371429\n",
              "compact       20.127660\n",
              "midsize       18.756098\n",
              "minivan       15.818182\n",
              "2seater       15.400000\n",
              "suv           13.500000\n",
              "pickup        13.000000\n",
              "Name: 도시연비, dtype: float64"
            ]
          },
          "metadata": {
            "tags": []
          },
          "execution_count": 23
        }
      ]
    },
    {
      "cell_type": "markdown",
      "metadata": {
        "id": "0Cd4f_TUIdin"
      },
      "source": [
        "## Q13. 어떤 회사 자동차의 hwy가 가장 높은지 알아보고 hwy 평균이 높은 회사 세 곳을 출력하자."
      ]
    },
    {
      "cell_type": "code",
      "metadata": {
        "colab": {
          "base_uri": "https://localhost:8080/",
          "height": 386
        },
        "id": "TD7TZLEVVNMY",
        "outputId": "0e3f5379-a12f-408e-9385-776c1ff61f27"
      },
      "source": [
        "print(mpg.groupby([\"제조회사\", \"고속도로 연비\"]).mean().sort_values(by=\"고속도로 연비\", ascending=False).head(3))\r\n",
        "plt.figure(figsize=(15,4))\r\n",
        "sns.barplot(data=mpg, x=\"제조회사\",y=\"고속도로 연비\",ci=None,palette=\"Blues\")"
      ],
      "execution_count": 24,
      "outputs": [
        {
          "output_type": "stream",
          "text": [
            "                    배기량    생산연도  실린더 개수  도시연비\n",
            "제조회사       고속도로 연비                           \n",
            "volkswagen 44       1.9  1999.0     4.0  34.0\n",
            "           41       1.9  1999.0     4.0  29.0\n",
            "toyota     37       1.8  2008.0     4.0  28.0\n"
          ],
          "name": "stdout"
        },
        {
          "output_type": "execute_result",
          "data": {
            "text/plain": [
              "<matplotlib.axes._subplots.AxesSubplot at 0x7fed8ccb4710>"
            ]
          },
          "metadata": {
            "tags": []
          },
          "execution_count": 24
        },
        {
          "output_type": "display_data",
          "data": {
            "image/png": "[encoded data removed]",
            "text/plain": [
              "<Figure size 1080x288 with 1 Axes>"
            ]
          },
          "metadata": {
            "tags": [],
            "image/png": {
              "width": 885,
              "height": 264
            },
            "needs_background": "light"
          }
        }
      ]
    },
    {
      "cell_type": "markdown",
      "metadata": {
        "id": "IAMwLu34IdtM"
      },
      "source": [
        "## Q14. 어떤 회사에서 \"compact\" 차종을 가장 많이 생산하는지 알아보자. 각 회사별 \"compact\" 차종 수를 내림차순으로 정렬해 출력하자."
      ]
    },
    {
      "cell_type": "code",
      "metadata": {
        "colab": {
          "base_uri": "https://localhost:8080/"
        },
        "id": "dX2JgnT1hs33",
        "outputId": "c6a5c0ad-e29b-49ad-8b3e-a0ee243c85d2"
      },
      "source": [
        "#mpg.groupby([\"제조회사\",\"자동차 종류\"])[mpg[mpg[\"자동차 종류\"]==\"compact\"]].count()\r\n",
        "mpg[mpg[\"자동차 종류\"] == \"compact\"].groupby([\"제조회사\"])[\"자동차 종류\"].count().sort_values(ascending=False)"
      ],
      "execution_count": 25,
      "outputs": [
        {
          "output_type": "execute_result",
          "data": {
            "text/plain": [
              "제조회사\n",
              "audi          15\n",
              "volkswagen    14\n",
              "toyota        12\n",
              "subaru         4\n",
              "nissan         2\n",
              "Name: 자동차 종류, dtype: int64"
            ]
          },
          "metadata": {
            "tags": []
          },
          "execution_count": 25
        }
      ]
    },
    {
      "cell_type": "markdown",
      "metadata": {
        "id": "qkI1D-T1ImdP"
      },
      "source": [
        "## Q15. mpg 데이터에는 연료 종류를 나타낸 fl 변수는 있지만 연료 가격을 나타낸 변수는 없다. mpg 데이터에 price_fl를 추가하고 출력해보아라."
      ]
    },
    {
      "cell_type": "code",
      "metadata": {
        "colab": {
          "base_uri": "https://localhost:8080/",
          "height": 195
        },
        "id": "Of758vQUvzqQ",
        "outputId": "adb4eca7-85b8-42c9-f8d6-ab4ca2ffc7e4"
      },
      "source": [
        "mpg_fuel = ['c','d','e','p','r']\r\n",
        "price_fl = [2.35, 2.38, 2.11, 2.76, 2.22]\r\n",
        "pr = pd.DataFrame(mpg_fuel, price_fl, columns=[\"연료 종류\"]).reset_index()\r\n",
        "pr.columns = [\"연료 가격\",\"연료 종류\"]\r\n",
        "pr = pr[[\"연료 종류\", \"연료 가격\"]]\r\n",
        "mpg1 = pd.merge(mpg, pr,on='연료 종류',how='left').copy()\r\n",
        "mpg1.head()"
      ],
      "execution_count": 27,
      "outputs": [
        {
          "output_type": "execute_result",
          "data": {
            "text/html": [
              "<div>\n",
              "<style scoped>\n",
              "    .dataframe tbody tr th:only-of-type {\n",
              "        vertical-align: middle;\n",
              "    }\n",
              "\n",
              "    .dataframe tbody tr th {\n",
              "        vertical-align: top;\n",
              "    }\n",
              "\n",
              "    .dataframe thead th {\n",
              "        text-align: right;\n",
              "    }\n",
              "</style>\n",
              "<table border=\"1\" class=\"dataframe\">\n",
              "  <thead>\n",
              "    <tr style=\"text-align: right;\">\n",
              "      <th></th>\n",
              "      <th>제조회사</th>\n",
              "      <th>모델</th>\n",
              "      <th>배기량</th>\n",
              "      <th>생산연도</th>\n",
              "      <th>실린더 개수</th>\n",
              "      <th>변속기 종류</th>\n",
              "      <th>구동방식</th>\n",
              "      <th>도시연비</th>\n",
              "      <th>고속도로 연비</th>\n",
              "      <th>연료 종류</th>\n",
              "      <th>자동차 종류</th>\n",
              "      <th>연료 가격</th>\n",
              "    </tr>\n",
              "  </thead>\n",
              "  <tbody>\n",
              "    <tr>\n",
              "      <th>0</th>\n",
              "      <td>audi</td>\n",
              "      <td>a4</td>\n",
              "      <td>1.8</td>\n",
              "      <td>1999</td>\n",
              "      <td>4</td>\n",
              "      <td>auto(l5)</td>\n",
              "      <td>f</td>\n",
              "      <td>18</td>\n",
              "      <td>29</td>\n",
              "      <td>p</td>\n",
              "      <td>compact</td>\n",
              "      <td>2.76</td>\n",
              "    </tr>\n",
              "    <tr>\n",
              "      <th>1</th>\n",
              "      <td>audi</td>\n",
              "      <td>a4</td>\n",
              "      <td>1.8</td>\n",
              "      <td>1999</td>\n",
              "      <td>4</td>\n",
              "      <td>manual(m5)</td>\n",
              "      <td>f</td>\n",
              "      <td>21</td>\n",
              "      <td>29</td>\n",
              "      <td>p</td>\n",
              "      <td>compact</td>\n",
              "      <td>2.76</td>\n",
              "    </tr>\n",
              "    <tr>\n",
              "      <th>2</th>\n",
              "      <td>audi</td>\n",
              "      <td>a4</td>\n",
              "      <td>2.0</td>\n",
              "      <td>2008</td>\n",
              "      <td>4</td>\n",
              "      <td>manual(m6)</td>\n",
              "      <td>f</td>\n",
              "      <td>20</td>\n",
              "      <td>31</td>\n",
              "      <td>p</td>\n",
              "      <td>compact</td>\n",
              "      <td>2.76</td>\n",
              "    </tr>\n",
              "    <tr>\n",
              "      <th>3</th>\n",
              "      <td>audi</td>\n",
              "      <td>a4</td>\n",
              "      <td>2.0</td>\n",
              "      <td>2008</td>\n",
              "      <td>4</td>\n",
              "      <td>auto(av)</td>\n",
              "      <td>f</td>\n",
              "      <td>21</td>\n",
              "      <td>30</td>\n",
              "      <td>p</td>\n",
              "      <td>compact</td>\n",
              "      <td>2.76</td>\n",
              "    </tr>\n",
              "    <tr>\n",
              "      <th>4</th>\n",
              "      <td>audi</td>\n",
              "      <td>a4</td>\n",
              "      <td>2.8</td>\n",
              "      <td>1999</td>\n",
              "      <td>6</td>\n",
              "      <td>auto(l5)</td>\n",
              "      <td>f</td>\n",
              "      <td>16</td>\n",
              "      <td>26</td>\n",
              "      <td>p</td>\n",
              "      <td>compact</td>\n",
              "      <td>2.76</td>\n",
              "    </tr>\n",
              "  </tbody>\n",
              "</table>\n",
              "</div>"
            ],
            "text/plain": [
              "   제조회사  모델  배기량  생산연도  실린더 개수  ... 도시연비 고속도로 연비  연료 종류   자동차 종류 연료 가격\n",
              "0  audi  a4  1.8  1999       4  ...   18      29      p  compact  2.76\n",
              "1  audi  a4  1.8  1999       4  ...   21      29      p  compact  2.76\n",
              "2  audi  a4  2.0  2008       4  ...   20      31      p  compact  2.76\n",
              "3  audi  a4  2.0  2008       4  ...   21      30      p  compact  2.76\n",
              "4  audi  a4  2.8  1999       6  ...   16      26      p  compact  2.76\n",
              "\n",
              "[5 rows x 12 columns]"
            ]
          },
          "metadata": {
            "tags": []
          },
          "execution_count": 27
        }
      ]
    },
    {
      "cell_type": "code",
      "metadata": {
        "colab": {
          "base_uri": "https://localhost:8080/",
          "height": 402
        },
        "id": "rSEUL53nyARa",
        "outputId": "8d2e503c-4c33-4afb-c375-d824cfa69b28"
      },
      "source": [
        "# 잘됐는지 확인하기\r\n",
        "mpg1[~(mpg1[\"연료 종류\"] == 'p')]"
      ],
      "execution_count": 47,
      "outputs": [
        {
          "output_type": "execute_result",
          "data": {
            "text/html": [
              "<div>\n",
              "<style scoped>\n",
              "    .dataframe tbody tr th:only-of-type {\n",
              "        vertical-align: middle;\n",
              "    }\n",
              "\n",
              "    .dataframe tbody tr th {\n",
              "        vertical-align: top;\n",
              "    }\n",
              "\n",
              "    .dataframe thead th {\n",
              "        text-align: right;\n",
              "    }\n",
              "</style>\n",
              "<table border=\"1\" class=\"dataframe\">\n",
              "  <thead>\n",
              "    <tr style=\"text-align: right;\">\n",
              "      <th></th>\n",
              "      <th>제조회사</th>\n",
              "      <th>모델</th>\n",
              "      <th>배기량</th>\n",
              "      <th>생산연도</th>\n",
              "      <th>실린더 개수</th>\n",
              "      <th>변속기 종류</th>\n",
              "      <th>구동방식</th>\n",
              "      <th>도시연비</th>\n",
              "      <th>고속도로 연비</th>\n",
              "      <th>연료 종류</th>\n",
              "      <th>자동차 종류</th>\n",
              "      <th>연료 가격</th>\n",
              "    </tr>\n",
              "  </thead>\n",
              "  <tbody>\n",
              "    <tr>\n",
              "      <th>18</th>\n",
              "      <td>chevrolet</td>\n",
              "      <td>c1500 suburban 2wd</td>\n",
              "      <td>5.3</td>\n",
              "      <td>2008</td>\n",
              "      <td>8</td>\n",
              "      <td>auto(l4)</td>\n",
              "      <td>r</td>\n",
              "      <td>14</td>\n",
              "      <td>20</td>\n",
              "      <td>r</td>\n",
              "      <td>suv</td>\n",
              "      <td>2.22</td>\n",
              "    </tr>\n",
              "    <tr>\n",
              "      <th>19</th>\n",
              "      <td>chevrolet</td>\n",
              "      <td>c1500 suburban 2wd</td>\n",
              "      <td>5.3</td>\n",
              "      <td>2008</td>\n",
              "      <td>8</td>\n",
              "      <td>auto(l4)</td>\n",
              "      <td>r</td>\n",
              "      <td>11</td>\n",
              "      <td>15</td>\n",
              "      <td>e</td>\n",
              "      <td>suv</td>\n",
              "      <td>2.11</td>\n",
              "    </tr>\n",
              "    <tr>\n",
              "      <th>20</th>\n",
              "      <td>chevrolet</td>\n",
              "      <td>c1500 suburban 2wd</td>\n",
              "      <td>5.3</td>\n",
              "      <td>2008</td>\n",
              "      <td>8</td>\n",
              "      <td>auto(l4)</td>\n",
              "      <td>r</td>\n",
              "      <td>14</td>\n",
              "      <td>20</td>\n",
              "      <td>r</td>\n",
              "      <td>suv</td>\n",
              "      <td>2.22</td>\n",
              "    </tr>\n",
              "    <tr>\n",
              "      <th>21</th>\n",
              "      <td>chevrolet</td>\n",
              "      <td>c1500 suburban 2wd</td>\n",
              "      <td>5.7</td>\n",
              "      <td>1999</td>\n",
              "      <td>8</td>\n",
              "      <td>auto(l4)</td>\n",
              "      <td>r</td>\n",
              "      <td>13</td>\n",
              "      <td>17</td>\n",
              "      <td>r</td>\n",
              "      <td>suv</td>\n",
              "      <td>2.22</td>\n",
              "    </tr>\n",
              "    <tr>\n",
              "      <th>22</th>\n",
              "      <td>chevrolet</td>\n",
              "      <td>c1500 suburban 2wd</td>\n",
              "      <td>6.0</td>\n",
              "      <td>2008</td>\n",
              "      <td>8</td>\n",
              "      <td>auto(l4)</td>\n",
              "      <td>r</td>\n",
              "      <td>12</td>\n",
              "      <td>17</td>\n",
              "      <td>r</td>\n",
              "      <td>suv</td>\n",
              "      <td>2.22</td>\n",
              "    </tr>\n",
              "    <tr>\n",
              "      <th>...</th>\n",
              "      <td>...</td>\n",
              "      <td>...</td>\n",
              "      <td>...</td>\n",
              "      <td>...</td>\n",
              "      <td>...</td>\n",
              "      <td>...</td>\n",
              "      <td>...</td>\n",
              "      <td>...</td>\n",
              "      <td>...</td>\n",
              "      <td>...</td>\n",
              "      <td>...</td>\n",
              "      <td>...</td>\n",
              "    </tr>\n",
              "    <tr>\n",
              "      <th>222</th>\n",
              "      <td>volkswagen</td>\n",
              "      <td>new beetle</td>\n",
              "      <td>1.9</td>\n",
              "      <td>1999</td>\n",
              "      <td>4</td>\n",
              "      <td>auto(l4)</td>\n",
              "      <td>f</td>\n",
              "      <td>29</td>\n",
              "      <td>41</td>\n",
              "      <td>d</td>\n",
              "      <td>subcompact</td>\n",
              "      <td>2.38</td>\n",
              "    </tr>\n",
              "    <tr>\n",
              "      <th>223</th>\n",
              "      <td>volkswagen</td>\n",
              "      <td>new beetle</td>\n",
              "      <td>2.0</td>\n",
              "      <td>1999</td>\n",
              "      <td>4</td>\n",
              "      <td>manual(m5)</td>\n",
              "      <td>f</td>\n",
              "      <td>21</td>\n",
              "      <td>29</td>\n",
              "      <td>r</td>\n",
              "      <td>subcompact</td>\n",
              "      <td>2.22</td>\n",
              "    </tr>\n",
              "    <tr>\n",
              "      <th>224</th>\n",
              "      <td>volkswagen</td>\n",
              "      <td>new beetle</td>\n",
              "      <td>2.0</td>\n",
              "      <td>1999</td>\n",
              "      <td>4</td>\n",
              "      <td>auto(l4)</td>\n",
              "      <td>f</td>\n",
              "      <td>19</td>\n",
              "      <td>26</td>\n",
              "      <td>r</td>\n",
              "      <td>subcompact</td>\n",
              "      <td>2.22</td>\n",
              "    </tr>\n",
              "    <tr>\n",
              "      <th>225</th>\n",
              "      <td>volkswagen</td>\n",
              "      <td>new beetle</td>\n",
              "      <td>2.5</td>\n",
              "      <td>2008</td>\n",
              "      <td>5</td>\n",
              "      <td>manual(m5)</td>\n",
              "      <td>f</td>\n",
              "      <td>20</td>\n",
              "      <td>28</td>\n",
              "      <td>r</td>\n",
              "      <td>subcompact</td>\n",
              "      <td>2.22</td>\n",
              "    </tr>\n",
              "    <tr>\n",
              "      <th>226</th>\n",
              "      <td>volkswagen</td>\n",
              "      <td>new beetle</td>\n",
              "      <td>2.5</td>\n",
              "      <td>2008</td>\n",
              "      <td>5</td>\n",
              "      <td>auto(s6)</td>\n",
              "      <td>f</td>\n",
              "      <td>20</td>\n",
              "      <td>29</td>\n",
              "      <td>r</td>\n",
              "      <td>subcompact</td>\n",
              "      <td>2.22</td>\n",
              "    </tr>\n",
              "  </tbody>\n",
              "</table>\n",
              "<p>182 rows × 12 columns</p>\n",
              "</div>"
            ],
            "text/plain": [
              "           제조회사                  모델  배기량  ...  연료 종류      자동차 종류 연료 가격\n",
              "18    chevrolet  c1500 suburban 2wd  5.3  ...      r         suv  2.22\n",
              "19    chevrolet  c1500 suburban 2wd  5.3  ...      e         suv  2.11\n",
              "20    chevrolet  c1500 suburban 2wd  5.3  ...      r         suv  2.22\n",
              "21    chevrolet  c1500 suburban 2wd  5.7  ...      r         suv  2.22\n",
              "22    chevrolet  c1500 suburban 2wd  6.0  ...      r         suv  2.22\n",
              "..          ...                 ...  ...  ...    ...         ...   ...\n",
              "222  volkswagen          new beetle  1.9  ...      d  subcompact  2.38\n",
              "223  volkswagen          new beetle  2.0  ...      r  subcompact  2.22\n",
              "224  volkswagen          new beetle  2.0  ...      r  subcompact  2.22\n",
              "225  volkswagen          new beetle  2.5  ...      r  subcompact  2.22\n",
              "226  volkswagen          new beetle  2.5  ...      r  subcompact  2.22\n",
              "\n",
              "[182 rows x 12 columns]"
            ]
          },
          "metadata": {
            "tags": []
          },
          "execution_count": 47
        }
      ]
    }
  ]
}