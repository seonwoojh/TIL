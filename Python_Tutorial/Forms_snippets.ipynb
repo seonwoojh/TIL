{
  "nbformat": 4,
  "nbformat_minor": 0,
  "metadata": {
    "colab": {
      "name": "Forms snippets",
      "provenance": [],
      "collapsed_sections": []
    },
    "kernelspec": {
      "display_name": "Python 3",
      "name": "python3"
    }
  },
  "cells": [
    {
      "cell_type": "markdown",
      "metadata": {
        "id": "TyFZFP2yN3vh"
      },
      "source": [
        "##Display"
      ]
    },
    {
      "cell_type": "code",
      "metadata": {
        "id": "MFPrbLmqNDis"
      },
      "source": [
        "# pd.set_option('display.float_format', '{:.4f}'.format) # 항상 float 형식으로\n",
        "# pd.set_option('display.float_format', '{:.2e}'.format) # 항상 사이언티픽\n",
        "# pd.set_option('display.float_format', '${:.2g}'.format)  # 적당히 알아서\n",
        "# pd.set_option('display.float_format', None) # 다시 되돌리기"
      ],
      "execution_count": null,
      "outputs": []
    },
    {
      "cell_type": "markdown",
      "metadata": {
        "id": "eTZpu6-mNG9j"
      },
      "source": [
        "## Default settings"
      ]
    },
    {
      "cell_type": "code",
      "metadata": {
        "id": "UyqPlvRlFuVp"
      },
      "source": [
        "import pandas as pd\n",
        "import numpy as np\n",
        "import matplotlib.pyplot as plt\n",
        "import seaborn as sns\n",
        "import warnings\n",
        "warnings.filterwarnings('ignore')\n",
        "sns.set_style('whitegrid')"
      ],
      "execution_count": null,
      "outputs": []
    },
    {
      "cell_type": "markdown",
      "metadata": {
        "id": "fC06XcaIF3zI"
      },
      "source": [
        "## Font"
      ]
    },
    {
      "cell_type": "code",
      "metadata": {
        "id": "_BGVd4bxF3-o"
      },
      "source": [
        "# 그래프 한글폰트 사용설정 in Colab\n",
        "\n",
        "import matplotlib as mpl\n",
        "import matplotlib.pyplot as plt\n",
        "import matplotlib.font_manager as fm\n",
        "\n",
        "%config InlineBackend.figure_format = 'retina'\n",
        "!apt -qq -y install fonts-nanum\n",
        "\n",
        "fontpath = '/content/drive/My Drive/파이썬/NanumGothic.ttf'\n",
        "font = fm.FontProperties(fname=fontpath, size=9)\n",
        "plt.rc('font', family='NanumBarunGothic') \n",
        "mpl.font_manager._rebuild()\n",
        "\n",
        "## Test\n",
        "plt.figure(figsize=(3,3))\n",
        "plt.text(0.5, 0.5, '한글 폰트 테스트 성공!!!', size=15)\n",
        "plt.show()"
      ],
      "execution_count": null,
      "outputs": []
    },
    {
      "cell_type": "code",
      "metadata": {
        "id": "aXJaZqFpNK-q"
      },
      "source": [
        "#@title Give me a name {display-mode: \"form\"}\n",
        "\n",
        "# This code will be hidden when the notebook is loaded.\n"
      ],
      "execution_count": null,
      "outputs": []
    }
  ]
}